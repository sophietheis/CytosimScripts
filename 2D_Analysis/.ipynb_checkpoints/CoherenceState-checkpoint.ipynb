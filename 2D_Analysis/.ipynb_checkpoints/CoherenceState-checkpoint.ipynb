{
 "cells": [
  {
   "cell_type": "code",
   "execution_count": 44,
   "metadata": {
    "collapsed": false
   },
   "outputs": [],
   "source": [
    "import spindle_tracker.tracking.cen2_tracker as tkg\n",
    "import os\n",
    "import numpy as np\n",
    "import pandas as pd\n",
    "import matplotlib.pyplot as plt\n",
    "from spindle_tracker.spatial import contiguous_regions"
   ]
  },
  {
   "cell_type": "code",
   "execution_count": 47,
   "metadata": {
    "collapsed": true
   },
   "outputs": [],
   "source": [
    "# Code adapte d'Hadrien\n",
    "\n",
    "def get_directions(traj, window, base_score, side, second=True, min_duration=5, t0=0):\n",
    "    \"\"\"\n",
    "    \"\"\"\n",
    "    window = int(np.round(window / 0.05, 1))\n",
    "\n",
    "    smooth_traj = pd.rolling_mean(traj, window)\n",
    "\n",
    "    raw_direction = (np.diff(smooth_traj) > 0)\n",
    "    direction = np.array(['NN'] * len(smooth_traj))\n",
    "\n",
    "    def f(x):\n",
    "        return (x.sum() - (len(x) - x.sum())) / (2 * window - 1)\n",
    "    scores = pd.rolling_apply(raw_direction, window, f)\n",
    "\n",
    "    if side == 1:\n",
    "        direction[scores > base_score] = 'AP'\n",
    "        direction[scores < - base_score] = 'P'\n",
    "    else:\n",
    "        direction[scores > base_score] = 'P'\n",
    "        direction[scores < - base_score] = 'AP'\n",
    "\n",
    "    p = (contiguous_regions(direction == 'P') - window)\n",
    "    ap = (contiguous_regions(direction == 'AP') - window)\n",
    "\n",
    "    print (p)\n",
    "    # Switch to second\n",
    "    p = float(p)*0.05\n",
    "    ap = float(ap)*0.05\n",
    "\n",
    "    p += t0\n",
    "    ap += t0\n",
    "\n",
    "    p = p[((p[:, 1] - p[:, 0]) > min_duration)]\n",
    "    ap = ap[((ap[:, 1] - ap[:, 0]) > min_duration)]\n",
    "\n",
    "    # Re switch to indexes\n",
    "    if not second:\n",
    "        p /= 0.05\n",
    "        ap /= 0.05\n",
    "\n",
    "        p[p < 0] = 0\n",
    "        ap[ap < 0] = 0\n",
    "\n",
    "    return p, ap, direction\n",
    "\n",
    "\n",
    "\n",
    "def get_coherence(data_solid, base_score=0.15):\n",
    "    \"\"\"\n",
    "    N - N : 0\n",
    "    N - P : 1\n",
    "    N - AP : 2\n",
    "    AP - P : 3\n",
    "    P - P : 4\n",
    "    AP - AP : 5\n",
    "    \"\"\"\n",
    "    \n",
    "    idx = pd.IndexSlice\n",
    "    ktA = data_solid[\"x.2\"]\n",
    "    ktB = data_solid[\"x.3\"]\n",
    "\n",
    "    _, _, directionsA = get_directions(ktA, window=10, base_score=base_score, side=-1,\n",
    "                                            second=False, t0=0)\n",
    "    _, _, directionsB = get_directions(ktB, window=10, base_score=base_score, side=1,\n",
    "                                            second=False, t0=0)\n",
    "\n",
    "    m = np.char.add(directionsA, directionsB)\n",
    "\n",
    "    # N - N\n",
    "    m[(m == 'NNNN')] = 0\n",
    "\n",
    "    # N - P\n",
    "    m[(m == 'NNP') | (m == 'PNN')] = 1\n",
    "\n",
    "    # N - AP\n",
    "    m[(m == 'NNAP') | (m == 'APNN')] = 2\n",
    "\n",
    "    # AP - P\n",
    "    m[(m == 'APP') | (m == 'PAP')] = 3\n",
    "\n",
    "    # P - P\n",
    "    m[(m == 'PP')] = 4\n",
    "\n",
    "    # AP - AP\n",
    "    m[(m == 'APAP')] = 5\n",
    "\n",
    "    coherence = m.astype('int')\n",
    "    return coherence"
   ]
  },
  {
   "cell_type": "code",
   "execution_count": null,
   "metadata": {
    "collapsed": true
   },
   "outputs": [],
   "source": []
  },
  {
   "cell_type": "code",
   "execution_count": null,
   "metadata": {
    "collapsed": true
   },
   "outputs": [],
   "source": []
  },
  {
   "cell_type": "code",
   "execution_count": null,
   "metadata": {
    "collapsed": true
   },
   "outputs": [],
   "source": []
  },
  {
   "cell_type": "code",
   "execution_count": null,
   "metadata": {
    "collapsed": true
   },
   "outputs": [],
   "source": []
  },
  {
   "cell_type": "code",
   "execution_count": 10,
   "metadata": {
    "collapsed": false
   },
   "outputs": [],
   "source": [
    "# Changement de dossier\n",
    "os.chdir (\"/home/sophie/Documents/ResultatsCytosim/oscillations/proba_asymetrique/res/metaphase1kt_100MTseuil_20cohesinStiffness_160KTMTstiffness/run1/\")"
   ]
  },
  {
   "cell_type": "code",
   "execution_count": 48,
   "metadata": {
    "collapsed": false
   },
   "outputs": [
    {
     "name": "stderr",
     "output_type": "stream",
     "text": [
      "/home/sophie/anaconda3/lib/python3.5/site-packages/ipykernel/__main__.py:8: FutureWarning: pd.rolling_mean is deprecated for Series and will be removed in a future version, replace with \n",
      "\tSeries.rolling(window=200,center=False).mean()\n",
      "/home/sophie/anaconda3/lib/python3.5/site-packages/ipykernel/__main__.py:15: FutureWarning: pd.rolling_apply is deprecated for ndarrays and will be removed in a future version\n",
      "/home/sophie/anaconda3/lib/python3.5/site-packages/ipykernel/__main__.py:21: VisibleDeprecationWarning: boolean index did not match indexed array along dimension 0; dimension is 9600 but corresponding boolean dimension is 9599\n",
      "/home/sophie/anaconda3/lib/python3.5/site-packages/ipykernel/__main__.py:22: VisibleDeprecationWarning: boolean index did not match indexed array along dimension 0; dimension is 9600 but corresponding boolean dimension is 9599\n"
     ]
    },
    {
     "ename": "TypeError",
     "evalue": "only length-1 arrays can be converted to Python scalars",
     "output_type": "error",
     "traceback": [
      "\u001b[0;31m---------------------------------------------------------------------------\u001b[0m",
      "\u001b[0;31mTypeError\u001b[0m                                 Traceback (most recent call last)",
      "\u001b[0;32m<ipython-input-48-e02008ea2370>\u001b[0m in \u001b[0;36m<module>\u001b[0;34m()\u001b[0m\n\u001b[1;32m      9\u001b[0m \u001b[0mkt2y\u001b[0m \u001b[0;34m=\u001b[0m \u001b[0mdata_solid\u001b[0m\u001b[0;34m[\u001b[0m\u001b[0;34m\"y.3\"\u001b[0m\u001b[0;34m]\u001b[0m\u001b[0;34m\u001b[0m\u001b[0m\n\u001b[1;32m     10\u001b[0m \u001b[0;34m\u001b[0m\u001b[0m\n\u001b[0;32m---> 11\u001b[0;31m \u001b[0mcoherence\u001b[0m \u001b[0;34m=\u001b[0m \u001b[0mget_coherence\u001b[0m\u001b[0;34m(\u001b[0m\u001b[0mdata_solid\u001b[0m\u001b[0;34m)\u001b[0m\u001b[0;34m\u001b[0m\u001b[0m\n\u001b[0m",
      "\u001b[0;32m<ipython-input-47-b68c88b6efcf>\u001b[0m in \u001b[0;36mget_coherence\u001b[0;34m(data_solid, base_score)\u001b[0m\n\u001b[1;32m     62\u001b[0m \u001b[0;34m\u001b[0m\u001b[0m\n\u001b[1;32m     63\u001b[0m     _, _, directionsA = get_directions(ktA, window=10, base_score=base_score, side=-1,\n\u001b[0;32m---> 64\u001b[0;31m                                             second=False, t0=0)\n\u001b[0m\u001b[1;32m     65\u001b[0m     _, _, directionsB = get_directions(ktB, window=10, base_score=base_score, side=1,\n\u001b[1;32m     66\u001b[0m                                             second=False, t0=0)\n",
      "\u001b[0;32m<ipython-input-47-b68c88b6efcf>\u001b[0m in \u001b[0;36mget_directions\u001b[0;34m(traj, window, base_score, side, second, min_duration, t0)\u001b[0m\n\u001b[1;32m     26\u001b[0m \u001b[0;34m\u001b[0m\u001b[0m\n\u001b[1;32m     27\u001b[0m     \u001b[0;31m# Switch to second\u001b[0m\u001b[0;34m\u001b[0m\u001b[0;34m\u001b[0m\u001b[0m\n\u001b[0;32m---> 28\u001b[0;31m     \u001b[0mp\u001b[0m \u001b[0;34m=\u001b[0m \u001b[0mfloat\u001b[0m\u001b[0;34m(\u001b[0m\u001b[0mp\u001b[0m\u001b[0;34m)\u001b[0m\u001b[0;34m*\u001b[0m\u001b[0;36m0.05\u001b[0m\u001b[0;34m\u001b[0m\u001b[0m\n\u001b[0m\u001b[1;32m     29\u001b[0m     \u001b[0map\u001b[0m \u001b[0;34m=\u001b[0m \u001b[0mfloat\u001b[0m\u001b[0;34m(\u001b[0m\u001b[0map\u001b[0m\u001b[0;34m)\u001b[0m\u001b[0;34m*\u001b[0m\u001b[0;36m0.05\u001b[0m\u001b[0;34m\u001b[0m\u001b[0m\n\u001b[1;32m     30\u001b[0m \u001b[0;34m\u001b[0m\u001b[0m\n",
      "\u001b[0;31mTypeError\u001b[0m: only length-1 arrays can be converted to Python scalars"
     ]
    }
   ],
   "source": [
    "#Ouverture des fichiers\n",
    "solid  = open(\"solid.txt\")\n",
    "data_solid = pd.read_table(solid, sep='\\t', header=0, index_col=False, lineterminator='\\n')\n",
    "solid.close()\n",
    "\n",
    "kt1x = data_solid[\"x.2\"]\n",
    "kt1y = data_solid[\"y.2\"]\n",
    "kt2x = data_solid[\"x.3\"]\n",
    "kt2y = data_solid[\"y.3\"]\n",
    "\n",
    "coherence = get_coherence(data_solid)"
   ]
  },
  {
   "cell_type": "code",
   "execution_count": null,
   "metadata": {
    "collapsed": false
   },
   "outputs": [],
   "source": []
  }
 ],
 "metadata": {
  "anaconda-cloud": {},
  "kernelspec": {
   "display_name": "Python [conda root]",
   "language": "python",
   "name": "conda-root-py"
  },
  "language_info": {
   "codemirror_mode": {
    "name": "ipython",
    "version": 3
   },
   "file_extension": ".py",
   "mimetype": "text/x-python",
   "name": "python",
   "nbconvert_exporter": "python",
   "pygments_lexer": "ipython3",
   "version": "3.5.2"
  }
 },
 "nbformat": 4,
 "nbformat_minor": 1
}
