{
 "cells": [
  {
   "cell_type": "code",
   "execution_count": 2,
   "metadata": {
    "collapsed": true
   },
   "outputs": [],
   "source": [
    "import pandas as pd\n",
    "import matplotlib.pyplot as plt\n",
    "from matplotlib.pyplot import figure, show\n",
    "import numpy as np \n",
    "import os\n",
    "#from spindle_tracker.signal.fft import get_fft_downsampled, filter_signal, get_fft\n",
    "import statsmodels as sm"
   ]
  },
  {
   "cell_type": "code",
   "execution_count": 3,
   "metadata": {
    "collapsed": true
   },
   "outputs": [],
   "source": [
    "def distance(x1, y1, x2, y2) : \n",
    "    return np.sqrt((x2-x1)**2 + (y2-y1)**2)\n",
    "\n",
    "def middle_kinetochore_position (x1, y1, x2, y2) : \n",
    "    xposition = x1 + (x2-x1)/2\n",
    "    yposition = y1 + (y2-y1)/2\n",
    "    return (xposition, yposition)\n",
    "\n",
    "def start_oscillation (couple1, couple2):\n",
    "\n",
    "    allattached1 = couple1 [ couple1[\"attached\\\\attached\"]>=1 ]\n",
    "    allattached2 = couple2 [ couple2[\"attached\\\\attached\"]>=1 ]\n",
    "    minTimeAttached1 = allattached1[\"time\"].min()\n",
    "    minTimeAttached2 = allattached2[\"time\"].min()\n",
    "\n",
    "    start_oscillation = max(minTimeAttached1, minTimeAttached2) \n",
    "\n",
    "    return start_oscillation\n",
    "\n",
    "\n",
    "def end_oscillation(solid):\n",
    "    dist = distance(solid[\"x\"], solid[\"y\"], solid[\"x.1\"], solid[\"y.1\"])    \n",
    "    \n",
    "    solid = solid.assign(dist=dist.values)\n",
    "    dist = solid[solid[\"dist\"]>=2]\n",
    "    \n",
    "    end_oscillation = dist[\"time\"].min()\n",
    "    \n",
    "    return end_oscillation\n",
    "\n",
    "def centrage(solid):\n",
    "    (x_kt, y_kt)= middle_kinetochore_position(data_solid[\"x.2\"],data_solid[\"y.2\"],data_solid[\"x.3\"],data_solid[\"y.3\"])\n",
    "    (x_spb, y_spb)= middle_kinetochore_position(data_solid[\"x\"],data_solid[\"y\"],data_solid[\"x.1\"],data_solid[\"y.1\"])\n",
    "    \n",
    "    d = distance(x_spb, y_spb, x_kt, y_kt)\n",
    "    return d\n",
    "\n",
    "def stretch(solid):\n",
    "    d=distance(data_solid[\"x.2\"],data_solid[\"y.2\"],data_solid[\"x.3\"],data_solid[\"y.3\"])\n",
    "    return d"
   ]
  },
  {
   "cell_type": "code",
   "execution_count": 6,
   "metadata": {
    "collapsed": false
   },
   "outputs": [],
   "source": [
    "os.chdir(\"/home/sophie/Documents/ResultatsCytosim/oscillations/proba/res/metaphase1kt\")"
   ]
  },
  {
   "cell_type": "code",
   "execution_count": 29,
   "metadata": {
    "collapsed": false
   },
   "outputs": [],
   "source": [
    " #boucle \n",
    "os.chdir(\"/home/sophie/Documents/ResultatsCytosim/\"+\\\n",
    "         \"oscillations/proba_asymetrique/res/metaphase1kt_100MTseuil_20cohesinStiffness_200KTMTstiffness\")\n",
    "list_dir_run = os.listdir()\n",
    "\n",
    "for run in list_dir_run: \n",
    "\n",
    "    solid  = open(run+\"/solid.txt\")\n",
    "    ktmt1  = open(run+\"/couple:KTMT.txt\")\n",
    "    ktmt2  = open(run+\"/couple:KTMT2.txt\")\n",
    "\n",
    "    data_solid = pd.read_table(solid, sep='\\t', header=0, index_col=False, lineterminator='\\n')\n",
    "    data_ktmt1 = pd.read_table(ktmt1, sep='\\t', header=0, index_col=False, lineterminator='\\n')\n",
    "    data_ktmt2 = pd.read_table(ktmt2, sep='\\t', header=0, index_col=False, lineterminator='\\n')\n",
    "\n",
    "    debut_oscillation = start_oscillation(data_ktmt1,data_ktmt2)\n",
    "    fin_oscillation = end_oscillation(data_solid)\n",
    "\n",
    "    tmp = data_solid[data_solid[\"time\"]>0]\n",
    "    #tmp = tmp[tmp[\"time\"]<fin_oscillation+10]\n",
    "    spb1x = tmp[\"x\"]\n",
    "    spb1y = tmp[\"y\"]\n",
    "    spb2x = tmp[\"x.1\"]\n",
    "    spb2y = tmp[\"y.1\"]\n",
    "    kt1x = tmp[\"x.2\"]\n",
    "    kt1y = tmp[\"y.2\"]\n",
    "    kt2x = tmp[\"x.3\"]\n",
    "    kt2y = tmp[\"y.3\"]\n",
    "\n",
    "    solid.close()\n",
    "    ktmt1.close()\n",
    "    ktmt2.close()\n",
    "    \n",
    "    time = tmp[\"time\"]\n",
    "    \n",
    "    fig,ax = plt.subplots(figsize=(10,5))\n",
    "    ax.plot(time,spb1x, \"k\")\n",
    "    ax.plot(time,spb2x, \"k\")\n",
    "    ax.plot(time,kt1x,\"r\")\n",
    "    ax.plot(time,kt2x, \"r\")\n",
    "    ax.plot(time,spb1x-(spb1x-spb2x)/2, \"gray\")\n",
    "    ax.plot(time,kt1x-(kt1x-kt2x)/2, \"purple\")\n",
    "    #ax.set_xticks(pos)\n",
    "    #ax.set_xticklabels(label, rotation='vertical')\n",
    "    ax.set_ylim([-1.25,1.25])\n",
    "    ax.set_ylabel('Position(µm)', fontsize=15)\n",
    "    ax.set_xlabel('Temps(s)', fontsize=15)\n",
    "\n",
    "\n",
    "    plt.savefig(\"../../Figures/metaphase1kt_100MTseuil_20cohesinStiffness_200KTMTstiffness/\"+run+\".png\")\n",
    "    plt.close(fig)"
   ]
  },
  {
   "cell_type": "code",
   "execution_count": null,
   "metadata": {
    "collapsed": false
   },
   "outputs": [],
   "source": []
  },
  {
   "cell_type": "code",
   "execution_count": null,
   "metadata": {
    "collapsed": true
   },
   "outputs": [],
   "source": []
  },
  {
   "cell_type": "code",
   "execution_count": 55,
   "metadata": {
    "collapsed": false
   },
   "outputs": [],
   "source": [
    " #boucle \n",
    "os.chdir(\"/home/sophie/Documents/ResultatsCytosim/\"+\\\n",
    "         \"oscillations/proba_symetrique_corrige/res/metaphase1kt_100MTseuil_20cohesinStiffness_200KTMTstiffness\")\n",
    "list_dir_run = os.listdir()\n",
    "\n",
    "for run in list_dir_run: \n",
    "\n",
    "    solid  = open(run+\"/solid.txt\")\n",
    "    ktmt1  = open(run+\"/couple:KTMT.txt\")\n",
    "    ktmt2  = open(run+\"/couple:KTMT2.txt\")\n",
    "\n",
    "    data_solid = pd.read_table(solid, sep='\\t', header=0, index_col=False, lineterminator='\\n')\n",
    "    data_ktmt1 = pd.read_table(ktmt1, sep='\\t', header=0, index_col=False, lineterminator='\\n')\n",
    "    data_ktmt2 = pd.read_table(ktmt2, sep='\\t', header=0, index_col=False, lineterminator='\\n')\n",
    "\n",
    "    debut_oscillation = start_oscillation(data_ktmt1,data_ktmt2)\n",
    "    fin_oscillation = end_oscillation(data_solid)  \n",
    "    \n",
    "    tmp = data_solid[data_solid[\"time\"]>0]\n",
    "    #tmp = tmp[tmp[\"time\"]<fin_oscillation+10]\n",
    "    spb1x = tmp[\"x\"]\n",
    "    spb1y = tmp[\"y\"]\n",
    "    spb2x = tmp[\"x.1\"]\n",
    "    spb2y = tmp[\"y.1\"]\n",
    "    kt1x = tmp[\"x.2\"]\n",
    "    kt1y = tmp[\"y.2\"]\n",
    "    kt2x = tmp[\"x.3\"]\n",
    "    kt2y = tmp[\"y.3\"]\n",
    "    \n",
    "    \n",
    "    \n",
    "    spindleCenterx = (spb1x-spb2x)/2\n",
    "    spindleCentery = (spb1y-spb2y)/2\n",
    "    \n",
    "    dist_spb1 = distance(spb1x,spb1y, spindleCenterx, spindleCentery)-1\n",
    "    dist_spb2 = distance(spb2x,spb2y, spindleCenterx, spindleCentery)-1\n",
    "    dist_kt1 = distance(kt1x,kt1y, spindleCenterx, spindleCentery)-1\n",
    "    dist_kt2 = distance(kt2x,kt2y, spindleCenterx, spindleCentery)-1\n",
    "    \n",
    "    \n",
    "\n",
    "    solid.close()\n",
    "    ktmt1.close()\n",
    "    ktmt2.close()\n",
    "    \n",
    "    time = tmp[\"time\"]\n",
    "    \n",
    "    fig,ax = plt.subplots(figsize=(10,5))\n",
    "    ax.plot(time,dist_spb1, \"k\")\n",
    "    ax.plot(time,dist_spb2, \"k\")\n",
    "    ax.plot(time,dist_kt1,\"r\")\n",
    "    ax.plot(time,dist_kt2, \"r\")\n",
    "    ax.plot(time,[0]*len(time), \"gray\")\n",
    "    ax.plot(time,dist_kt1-(dist_kt1-dist_kt2)/2, \"purple\")\n",
    "    #ax.set_xticks(pos)\n",
    "    #ax.set_xticklabels(label, rotation='vertical')\n",
    "    ax.set_ylim([-1.25,1.25])\n",
    "    ax.set_ylabel('Position(µm)', fontsize=15)\n",
    "    ax.set_xlabel('Temps(s)', fontsize=15)\n",
    "\n",
    "\n",
    "    plt.savefig(\"../../Figures/metaphase1kt_100MTseuil_20cohesinStiffness_200KTMTstiffness/\"+run+\".png\")\n",
    "    plt.close(fig)"
   ]
  },
  {
   "cell_type": "code",
   "execution_count": null,
   "metadata": {
    "collapsed": true
   },
   "outputs": [],
   "source": []
  },
  {
   "cell_type": "code",
   "execution_count": 17,
   "metadata": {
    "collapsed": false
   },
   "outputs": [],
   "source": [
    "#boucle \n",
    "#os.chdir(\"/home/sophie/Documents/ResultatsCytosim/\"+\\\n",
    "#     \"oscillations/proba_symetrique_corrige/res/metaphase1kt_100MTseuil_20cohesinStiffness_200KTMTstiffness\")\n",
    "os.chdir (\"/media/sophie/Sophie/Film_Cytosim/Recapture/run3\")\n",
    "\n",
    "\n",
    "solid  = open(\"solid.txt\")\n",
    "ktmt1  = open(\"couple:KTMT.txt\")\n",
    "ktmt2  = open(\"couple:KTMT2.txt\")\n",
    "fiber  = open(\"fiber:microtubule_kinetochore_spb2.txt\")\n",
    "\n",
    "data_solid = pd.read_table(solid, sep='\\t', header=0, index_col=False, lineterminator='\\n')\n",
    "data_ktmt1 = pd.read_table(ktmt1, sep='\\t', header=0, index_col=False, lineterminator='\\n')\n",
    "data_ktmt2 = pd.read_table(ktmt2, sep='\\t', header=0, index_col=False, lineterminator='\\n')\n",
    "data_fiber = pd.read_table(fiber, sep='\\t', header=0, index_col=False, lineterminator='\\n')\n",
    "\n",
    "debut_oscillation = start_oscillation(data_ktmt1,data_ktmt2)\n",
    "fin_oscillation = end_oscillation(data_solid)  \n",
    "\n",
    "tmp = data_solid[data_solid[\"time\"]>0]\n",
    "#tmp = tmp[tmp[\"time\"]<fin_oscillation+10]\n",
    "spb1x = tmp[\"x\"]\n",
    "spb1y = tmp[\"y\"]\n",
    "spb2x = tmp[\"x.1\"]\n",
    "spb2y = tmp[\"y.1\"]\n",
    "kt1x = tmp[\"x.2\"]\n",
    "kt1y = tmp[\"y.2\"]\n",
    "kt2x = tmp[\"x.3\"]\n",
    "kt2y = tmp[\"y.3\"]\n",
    "\n",
    "\n",
    "\n",
    "spindleCenterx = (spb1x-spb2x)/2\n",
    "spindleCentery = (spb1y-spb2y)/2\n",
    "\n",
    "dist_spb1 = distance(spb1x,spb1y, spindleCenterx, spindleCentery)-1\n",
    "dist_spb2 = distance(spb2x,spb2y, spindleCenterx, spindleCentery)-1\n",
    "dist_kt1 = distance(kt1x,kt1y, spb2x, spb2y)\n",
    "dist_kt2 = distance(kt2x,kt2y, spb2x, spb2y)\n",
    "\n",
    "\n",
    "\n",
    "solid.close()\n",
    "ktmt1.close()\n",
    "ktmt2.close()\n",
    "\n",
    "time = tmp[\"time\"]\n",
    "t0 = 0\n",
    "t1 = 100\n",
    "fig,ax = plt.subplots(figsize=(10,5))\n",
    "#ax.plot(time[t0:t1],dist_spb1[t0:t1], \"k\")\n",
    "#ax.plot(time[t0:t1],dist_spb2[t0:t1], \"k\")\n",
    "ax.plot(time[t0:t1],dist_kt1[t0:t1],\"r\")\n",
    "ax.plot(time[t0:t1],dist_kt2[t0:t1], \"r\")\n",
    "#ax.plot(time[t0:t1],[0]*len(time), \"gray\")\n",
    "ax.plot(time[t0:t1],dist_kt1[t0:t1]-(dist_kt1[t0:t1]-dist_kt2[t0:t1])/2, \"purple\")\n",
    "#ax.set_xticks(pos)\n",
    "#ax.set_xticklabels(label, rotation='vertical')\n",
    "ax.set_ylim([0,1.8])\n",
    "ax.set_ylabel('Position(µm)', fontsize=15)\n",
    "ax.set_xlabel('Temps(s)', fontsize=15)\n",
    "\n",
    "\n",
    "plt.savefig(\"../run3.png\")\n",
    "plt.close(fig)"
   ]
  },
  {
   "cell_type": "code",
   "execution_count": null,
   "metadata": {
    "collapsed": true
   },
   "outputs": [],
   "source": []
  },
  {
   "cell_type": "code",
   "execution_count": null,
   "metadata": {
    "collapsed": true
   },
   "outputs": [],
   "source": []
  },
  {
   "cell_type": "code",
   "execution_count": null,
   "metadata": {
    "collapsed": true
   },
   "outputs": [],
   "source": []
  }
 ],
 "metadata": {
  "anaconda-cloud": {},
  "kernelspec": {
   "display_name": "Python [conda root]",
   "language": "python",
   "name": "conda-root-py"
  },
  "language_info": {
   "codemirror_mode": {
    "name": "ipython",
    "version": 3
   },
   "file_extension": ".py",
   "mimetype": "text/x-python",
   "name": "python",
   "nbconvert_exporter": "python",
   "pygments_lexer": "ipython3",
   "version": "3.5.2"
  }
 },
 "nbformat": 4,
 "nbformat_minor": 1
}
