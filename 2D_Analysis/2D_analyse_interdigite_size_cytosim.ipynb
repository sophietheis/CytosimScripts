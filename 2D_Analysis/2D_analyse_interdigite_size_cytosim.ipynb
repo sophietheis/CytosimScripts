{
 "cells": [
  {
   "cell_type": "code",
   "execution_count": 5,
   "metadata": {
    "collapsed": true
   },
   "outputs": [],
   "source": [
    "#Library\n",
    "?read.table"
   ]
  },
  {
   "cell_type": "code",
   "execution_count": 2,
   "metadata": {
    "collapsed": true
   },
   "outputs": [],
   "source": [
    "# Changement dossier de travail\n",
    "setwd (\"~/Documents/ResultatsCytosim/oscillations/Exploration2/simul_osci/metaphase1kt_97MTseuil_20cohesinStiffness_20KTMTstiffness/run1/\")"
   ]
  },
  {
   "cell_type": "markdown",
   "metadata": {},
   "source": [
    "\n",
    "# Visualisation individuelle\n"
   ]
  },
  {
   "cell_type": "code",
   "execution_count": 23,
   "metadata": {
    "collapsed": false
   },
   "outputs": [],
   "source": [
    "# Lecture des datas\n",
    "data_solid = read.table(\"solid.txt\", head = TRUE, dec = '.', stringsAsFactors = FALSE)\n",
    "\n",
    "data_fiber_left  = read.table(\"fiber:microtubule_interdigite_spb1.txt\", head = TRUE, dec = '.', stringsAsFactors = FALSE, fill=TRUE)\n",
    "data_fiber_right = read.table(\"fiber:microtubule_interdigite_spb2.txt\", head = TRUE, dec = '.', stringsAsFactors = FALSE,fill=TRUE)\n",
    "\n",
    "data_klp9 = read.table(\"couple:klp9.txt\", head = TRUE, dec = '.', stringsAsFactors = FALSE)\n",
    "data_ase1 = read.table(\"couple:ASE1.txt\", head = TRUE, dec = '.', stringsAsFactors = FALSE)\n",
    "\n",
    "x_spb_left  = data_solid$x\n",
    "y_spb_left  = data_solid$y\n",
    "x_spb_right = data_solid$x.1\n",
    "y_spb_right = data_solid$y.1"
   ]
  },
  {
   "cell_type": "code",
   "execution_count": 24,
   "metadata": {
    "collapsed": false
   },
   "outputs": [],
   "source": [
    "# Nombre couple attache\n",
    "nb_couple_attache = data_klp9$attached.attached + data_ase1$attached.attached\n",
    "\n",
    "# Taille du fuseau \n",
    "spindle_size = sqrt((x_spb_right - x_spb_left)^2 + (y_spb_right - y_spb_left)^2)"
   ]
  },
  {
   "cell_type": "code",
   "execution_count": 25,
   "metadata": {
    "collapsed": false
   },
   "outputs": [
    {
     "ename": "ERROR",
     "evalue": "Error in parse(text = x, srcfile = src): <text>:21:0: unexpected end of input\n19: # !!!! correction du calcul (penser au cas si les deux SPB ne sont pas alignés)\n20: interdigite_size =sqrt() ((x_spb_right - size_fibre_right_max) - (x_spb_left + size_fibre_left_max))^2 + \n   ^\n",
     "output_type": "error",
     "traceback": [
      "Error in parse(text = x, srcfile = src): <text>:21:0: unexpected end of input\n19: # !!!! correction du calcul (penser au cas si les deux SPB ne sont pas alignés)\n20: interdigite_size =sqrt() ((x_spb_right - size_fibre_right_max) - (x_spb_left + size_fibre_left_max))^2 + \n   ^\nTraceback:\n"
     ]
    }
   ],
   "source": [
    "# Calcul de la taille des fibres\n",
    "x_start_fiber = seq(3, 34, 5)\n",
    "x_end_fiber   = seq(5, 36, 5)\n",
    "y_start_fiber = seq(4, 35, 5)\n",
    "y_end_fiber   = seq(6, 37, 5)\n",
    "\n",
    "size_fibres_left  = (sqrt((data_fiber_left[x_end_fiber]-data_fiber_left[x_start_fiber])^2+(data_fiber_left[y_start_fiber]-data_fiber_left[y_end_fiber])^2))\n",
    "size_fibres_rigth = (sqrt((data_fiber_right[x_end_fiber]-data_fiber_right[x_start_fiber])^2+(data_fiber_right[y_start_fiber]-data_fiber_right[y_end_fiber])^2))\n",
    "\n",
    "# Remplacement des NA par 0\n",
    "size_fibres_left  = replace(size_fibres_left,  is.na(size_fibres_left),0)\n",
    "size_fibres_rigth = replace(size_fibres_rigth, is.na(size_fibres_rigth),0)\n",
    "\n",
    "# Taille de la fibre la plus grande partant de chaque SPB\n",
    "size_fibre_left_max  = apply(size_fibres_left, 1, max)\n",
    "size_fibre_rigth_max = apply(size_fibres_rigth, 1, max)\n",
    "\n",
    "# Taille zone interdigite\n",
    "# !!!! correction du calcul (penser au cas si les deux SPB ne sont pas alignés)\n",
    "#interdigite_size =sqrt() ((x_spb_right - size_fibre_right_max) - (x_spb_left + size_fibre_left_max))^2 + "
   ]
  },
  {
   "cell_type": "code",
   "execution_count": 26,
   "metadata": {
    "collapsed": false
   },
   "outputs": [
    {
     "ename": "ERROR",
     "evalue": "Error in xy.coords(x, y): objet 'interdigite_size' introuvable\n",
     "output_type": "error",
     "traceback": [
      "Error in xy.coords(x, y): objet 'interdigite_size' introuvable\nTraceback:\n",
      "1. lines(data_solid$time, interdigite_size, type = \"l\", col = \"red\")",
      "2. lines.default(data_solid$time, interdigite_size, type = \"l\", \n .     col = \"red\")",
      "3. plot.xy(xy.coords(x, y), type = type, ...)",
      "4. xy.coords(x, y)"
     ]
    },
    {
     "data": {
      "image/png": "[encoded data removed]",
      "text/plain": [
       "plot without title"
      ]
     },
     "metadata": {},
     "output_type": "display_data"
    }
   ],
   "source": [
    "plot  (data_solid$time, spindle_size, type = 'l', col = 'black', xlab = \"Temps\", ylab = \"Spindle / Overlap size \")\n",
    "lines (data_solid$time, interdigite_size, type = 'l', col = 'red')"
   ]
  },
  {
   "cell_type": "code",
   "execution_count": 29,
   "metadata": {
    "collapsed": false
   },
   "outputs": [
    {
     "ename": "ERROR",
     "evalue": "Error in xy.coords(x, y, xlabel, ylabel, log): objet 'data_moteur' introuvable\n",
     "output_type": "error",
     "traceback": [
      "Error in xy.coords(x, y, xlabel, ylabel, log): objet 'data_moteur' introuvable\nTraceback:\n",
      "1. plot(spindle_size, data_moteur$attached.attached, pch = 4, type = \"l\", \n .     xlab = \"%interdigite\", ylab = \"Nombre couple attache\", xlim = c(0, \n .         2), ylim = c(0, 500), col = \"red\")",
      "2. plot.default(spindle_size, data_moteur$attached.attached, pch = 4, \n .     type = \"l\", xlab = \"%interdigite\", ylab = \"Nombre couple attache\", \n .     xlim = c(0, 2), ylim = c(0, 500), col = \"red\")",
      "3. xy.coords(x, y, xlabel, ylabel, log)"
     ]
    }
   ],
   "source": [
    "par(mfrow = c(2,1))\n",
    "\n",
    "#plot (spindle_size, (interdigitated_size*100/spindle_size), pch = 4,type='l', \n",
    "#      xlab = \"spindle size\", ylab = \"%interdigite\" , xlim = c(0,2))\n",
    "\n",
    "plot (spindle_size, data_moteur$attached.attached, pch = 4,type='l',\n",
    "      xlab = \"%interdigite\", ylab = \"Nombre couple attache\", xlim=c(0,2),  ylim=c(0,500), col='red')\n",
    "lines(spindle_size, data_crosslink$attached.attached)"
   ]
  },
  {
   "cell_type": "code",
   "execution_count": null,
   "metadata": {
    "collapsed": true
   },
   "outputs": [],
   "source": []
  },
  {
   "cell_type": "code",
   "execution_count": null,
   "metadata": {
    "collapsed": true
   },
   "outputs": [],
   "source": []
  },
  {
   "cell_type": "code",
   "execution_count": null,
   "metadata": {
    "collapsed": true
   },
   "outputs": [],
   "source": []
  }
 ],
 "metadata": {
  "anaconda-cloud": {},
  "kernelspec": {
   "display_name": "R",
   "language": "R",
   "name": "ir"
  },
  "language_info": {
   "codemirror_mode": "r",
   "file_extension": ".r",
   "mimetype": "text/x-r-source",
   "name": "R",
   "pygments_lexer": "r",
   "version": "3.3.2"
  }
 },
 "nbformat": 4,
 "nbformat_minor": 1
}
