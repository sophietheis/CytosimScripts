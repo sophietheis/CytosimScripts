{
 "cells": [
  {
   "cell_type": "code",
   "execution_count": 1,
   "metadata": {
    "collapsed": false
   },
   "outputs": [],
   "source": [
    "import os\n",
    "import numpy as np\n",
    "import pandas as pd\n",
    "import matplotlib.pyplot as plt\n",
    "from spindle_tracker.spatial import contiguous_regions\n",
    "from spindle_tracker.trajectories import Trajectories"
   ]
  },
  {
   "cell_type": "code",
   "execution_count": 2,
   "metadata": {
    "collapsed": true
   },
   "outputs": [],
   "source": [
    "def distance(x1, y1, x2, y2) : \n",
    "    return np.sqrt((x2-x1)**2 + (y2-y1)**2)"
   ]
  },
  {
   "cell_type": "code",
   "execution_count": 3,
   "metadata": {
    "collapsed": true
   },
   "outputs": [],
   "source": [
    "# Code adapte d'Hadrien\n",
    "\n",
    "def get_directions(traj, window, base_score, side, second=True, min_duration=5, t0=0):\n",
    "    \"\"\"\n",
    "    \"\"\"\n",
    "    window = int(np.round(window , 1))\n",
    "\n",
    "    smooth_traj = pd.rolling_mean(traj, window)\n",
    "\n",
    "    raw_direction = (np.diff(smooth_traj) > 0)\n",
    "    direction = np.array(['NN'] * len(smooth_traj))\n",
    "\n",
    "    def f(x):\n",
    "        return (x.sum() - (len(x) - x.sum())) / (2 * window - 1)\n",
    "    scores = pd.rolling_apply(raw_direction, window, f)\n",
    "\n",
    "    if side == 1:\n",
    "        direction[scores > base_score] = 'AP'\n",
    "        direction[scores < - base_score] = 'P'\n",
    "    else:\n",
    "        direction[scores > base_score] = 'P'\n",
    "        direction[scores < - base_score] = 'AP'\n",
    "\n",
    "    p = (contiguous_regions(direction == 'P') - window)\n",
    "    ap = (contiguous_regions(direction == 'AP') - window)\n",
    "\n",
    "    # Switch to second\n",
    "\n",
    "\n",
    "    p += t0\n",
    "    ap += t0\n",
    "\n",
    "    p = p[((p[:, 1] - p[:, 0]) > min_duration)]\n",
    "    ap = ap[((ap[:, 1] - ap[:, 0]) > min_duration)]\n",
    "\n",
    "    # Re switch to indexes\n",
    "\n",
    "\n",
    "    return p, ap, direction\n",
    "\n",
    "\n",
    "\n",
    "def get_coherence(data_solid, base_score=0.15):\n",
    "    \"\"\"\n",
    "    N - N : 0\n",
    "    N - P : 1\n",
    "    N - AP : 2\n",
    "    AP - P : 3\n",
    "    P - P : 4\n",
    "    AP - AP : 5\n",
    "    \"\"\"\n",
    "    \n",
    "    idx = pd.IndexSlice\n",
    "    ktA = data_solid[\"x.2\"]\n",
    "    ktB = data_solid[\"x.3\"]\n",
    "\n",
    "    _, _, directionsA = get_directions(ktA, window=10, base_score=base_score, side=-1,\n",
    "                                            second=False, t0=0)\n",
    "    _, _, directionsB = get_directions(ktB, window=10, base_score=base_score, side=1,\n",
    "                                            second=False, t0=0)\n",
    "\n",
    "    m = np.char.add(directionsA, directionsB)\n",
    "\n",
    "    # N - N\n",
    "    m[(m == 'NNNN')] = 0\n",
    "\n",
    "    # N - P\n",
    "    m[(m == 'NNP') | (m == 'PNN')] = 1\n",
    "\n",
    "    # N - AP\n",
    "    m[(m == 'NNAP') | (m == 'APNN')] = 2\n",
    "\n",
    "    # AP - P\n",
    "    m[(m == 'APP') | (m == 'PAP')] = 3\n",
    "\n",
    "    # P - P\n",
    "    m[(m == 'PP')] = 4\n",
    "\n",
    "    # AP - AP\n",
    "    m[(m == 'APAP')] = 5\n",
    "\n",
    "    coherence = m.astype('int')\n",
    "    return coherence"
   ]
  },
  {
   "cell_type": "code",
   "execution_count": 4,
   "metadata": {
    "collapsed": false
   },
   "outputs": [],
   "source": [
    "def get_color (n=6, cmap=\"hsv\", alpha=None, rgba=False):\n",
    "    import matplotlib.pyplot as plt\n",
    "    cmap = plt.cm.get_cmap(name=cmap)\n",
    "\n",
    "    \n",
    "    ite = zip(np.linspace(0, 0.9, n), [0,1,2,3,4,5])\n",
    "    colors = {label: cmap(i, alpha=alpha) for i, label in ite}\n",
    "\n",
    "    if not rgba:\n",
    "        def get_hex(rgba):\n",
    "            rgba = np.round(np.array(rgba) * 255).astype('int')\n",
    "            if not alpha:\n",
    "                rgba = rgba[:3]\n",
    "            return \"#\" + \"\".join(['{:02X}'.format(a) for a in rgba])\n",
    "\n",
    "        colors = {label: get_hex(color) for label, color in colors.items()}\n",
    "\n",
    "    return colors\n",
    "\n",
    "\n",
    "\n",
    "def kymo(data_solid, use_interpolate=False, time_in_minutes=False, mpl_params={'ls': '-', 'marker': 'o'}, ax=None):\n",
    "    \"\"\"\n",
    "    Print a kymograph of DataFrame of peaks (self.peaks_real{'x_proj']})\n",
    "    \"\"\"\n",
    "\n",
    "\n",
    "    if use_interpolate:\n",
    "        peaks = self.peaks_real_interpolated\n",
    "        times = self.times_interpolated\n",
    "    else:\n",
    "        #peaks = self.peaks_real\n",
    "        times = data_solid[\"time\"]\n",
    "\n",
    "    colors = list(get_color().values())\n",
    "\n",
    "    import matplotlib.pyplot as plt\n",
    "\n",
    "    if not ax:\n",
    "        fig = plt.figure(figsize=(12, 7))\n",
    "        ax = plt.subplot(111)\n",
    "    else:\n",
    "        fig = ax.get_figure()\n",
    "\n",
    "    drawer = ax.plot\n",
    "\n",
    "    #gps = peaks.groupby(level=['main_label', 'side']).groups\n",
    "\n",
    "    spb1x = data_solid[\"x\"]\n",
    "    spb1y = data_solid[\"y\"]\n",
    "    spb2x = data_solid[\"x.1\"]\n",
    "    spb2y = data_solid[\"y.1\"]\n",
    "    kt1x = data_solid[\"x.2\"]\n",
    "    kt1y = data_solid[\"y.2\"]\n",
    "    kt2x = data_solid[\"x.3\"]\n",
    "    kt2y = data_solid[\"y.3\"]\n",
    "    spindleCenterx = (spb1x-spb2x)/2\n",
    "    spindleCentery = (spb1y-spb2y)/2\n",
    "    \n",
    "    dist_spb1 = distance(spb1x,spb1y, spindleCenterx, spindleCentery)-1\n",
    "    dist_spb2 = distance(spb2x,spb2y, spindleCenterx, spindleCentery)-1\n",
    "    dist_kt1 = distance(kt1x,kt1y, spindleCenterx, spindleCentery)-1\n",
    "    dist_kt2 = distance(kt2x,kt2y, spindleCenterx, spindleCentery)-1\n",
    "    \n",
    "    # Draw SPB\n",
    "    x = ktA = dist_spb1\n",
    "    drawer(times, x, label=\"SPB A\", color=colors[0], **mpl_params)\n",
    "\n",
    "    x = ktA = dist_spb2\n",
    "    drawer(times, x, label=\"SPB B\", color=colors[1], **mpl_params)\n",
    "\n",
    "    # Draw Kt\n",
    "    x = ktA = dist_kt1\n",
    "    drawer(times, x, label=\"Kt A\", color=colors[2], **mpl_params)\n",
    "\n",
    "    x =ktA = dist_kt2\n",
    "    drawer(times, x, label=\"Kt B\", color=colors[3], **mpl_params)\n",
    "\n",
    "    # Set axis limit\n",
    "    ax.set_xlim(min(times), max(times))\n",
    "    #m = np.abs(peaks['x_proj'].max())\n",
    "    #ax.set_ylim(-m, m)\n",
    "    ax.set_ylim(-1.25, 1.25)\n",
    "\n",
    "    fontsize = 22\n",
    "\n",
    "    if time_in_minutes:\n",
    "        import matplotlib\n",
    "\n",
    "        majorLocator = matplotlib.ticker.MultipleLocator(60)\n",
    "        minorLocator = matplotlib.ticker.MultipleLocator(60)\n",
    "        ax.xaxis.set_major_locator(majorLocator)\n",
    "        ax.xaxis.set_minor_locator(minorLocator)\n",
    "\n",
    "        majorFormatter = matplotlib.ticker.FuncFormatter(lambda x, y: \"%.0f\" % (x / 60.))\n",
    "        ax.xaxis.set_major_formatter(majorFormatter)\n",
    "\n",
    "        ax.set_xlabel('Time (mn)', fontsize=fontsize)\n",
    "\n",
    "    else:\n",
    "        ax.set_xlabel('Time (seconds)', fontsize=fontsize)\n",
    "\n",
    "    ax.set_title(\"Kymograph like plot\", fontsize=fontsize)\n",
    "    ax.set_ylabel('Distance (µm)', fontsize=fontsize)\n",
    "\n",
    "\n",
    "    #leg = ax.legend(loc='best', fancybox=True)\n",
    "    #leg.get_frame().set_alpha(0.5)\n",
    "\n",
    "    plt.grid(True)\n",
    "    plt.tight_layout()\n",
    "\n",
    "    return fig"
   ]
  },
  {
   "cell_type": "code",
   "execution_count": 5,
   "metadata": {
    "collapsed": false
   },
   "outputs": [],
   "source": [
    "def kymo_directions(data_solid, sister=True, base_score=0.15):\n",
    "    \"\"\"\n",
    "    \"\"\"\n",
    "\n",
    "\n",
    "    times = data_solid[\"time\"]\n",
    "\n",
    "    idx = pd.IndexSlice\n",
    "    spb1x = data_solid[\"x\"]\n",
    "    spb1y = data_solid[\"y\"]\n",
    "    spb2x = data_solid[\"x.1\"]\n",
    "    spb2y = data_solid[\"y.1\"]\n",
    "    kt1x = data_solid[\"x.2\"]\n",
    "    kt1y = data_solid[\"y.2\"]\n",
    "    kt2x = data_solid[\"x.3\"]\n",
    "    kt2y = data_solid[\"y.3\"]\n",
    "    spindleCenterx = (spb1x-spb2x)/2\n",
    "    spindleCentery = (spb1y-spb2y)/2\n",
    "    \n",
    "    spbB = distance(spb1x,spb1y, spindleCenterx, spindleCentery)-1\n",
    "    spbA = distance(spb2x,spb2y, spindleCenterx, spindleCentery)-1\n",
    "    ktB = distance(kt1x,kt1y, spindleCenterx, spindleCentery)-1\n",
    "    ktA = distance(kt2x,kt2y, spindleCenterx, spindleCentery)-1\n",
    "\n",
    "    kts_traj = (ktA.values + ktB.values) / 2\n",
    "\n",
    "    if sister:\n",
    "\n",
    "        def color_run_traj(ax, times, traj, run_indexes, color, top=True):\n",
    "            \"\"\"\n",
    "            \"\"\"\n",
    "\n",
    "            for t1, t2 in run_indexes:\n",
    "                x = times[t1:t2]\n",
    "                y1 = traj.values[t1:t2]\n",
    "                if top:\n",
    "                    y2 = [10] * len(y1)\n",
    "                else:\n",
    "                    y2 = [-10] * len(y1)\n",
    "                ax.fill_between(x, y1, y2, alpha=0.15, color=color)\n",
    "\n",
    "        fig = kymo(data_solid,mpl_params={'ls': '-', 'marker': ''})\n",
    "        ax = fig.get_axes()[0]\n",
    "\n",
    "        \n",
    "        p, ap, _ = get_directions(ktA, window=20, base_score=base_score, side=-1,\n",
    "                                       second=False, t0=0)\n",
    "        color_run_traj(ax, times, ktA, p, 'g', top=True)\n",
    "        color_run_traj(ax, times, ktA, ap, 'b', top=True)\n",
    "\n",
    "        p, ap, _ = get_directions(ktB, window=20, base_score=base_score, side=1,\n",
    "                                       second=False, t0=0)\n",
    "        color_run_traj(ax, times, ktB, p, 'g', top=False)\n",
    "        color_run_traj(ax, times, ktB, ap, 'b', top=False)\n",
    "\n",
    "        \n",
    "    else:\n",
    "\n",
    "        p, ap, _ = get_directions(kts_traj, window=20, base_score=base_score, side=1,\n",
    "                                       second=True, t0=times[0])\n",
    "\n",
    "        fig = kymo(data_solid,mpl_params={'ls': '-', 'marker': ''})\n",
    "        ax = fig.get_axes()[0]\n",
    "\n",
    "        ax.plot(times, kts_traj, color='black')\n",
    "\n",
    "        for t1, t2 in p:\n",
    "            ax.axvspan(t1, t2, facecolor='g', alpha=0.15)\n",
    "\n",
    "        for t1, t2 in ap:\n",
    "            ax.axvspan(t1, t2, facecolor='b', alpha=0.15)\n",
    "\n",
    "    return fig"
   ]
  },
  {
   "cell_type": "code",
   "execution_count": null,
   "metadata": {
    "collapsed": true
   },
   "outputs": [],
   "source": []
  },
  {
   "cell_type": "code",
   "execution_count": null,
   "metadata": {
    "collapsed": true
   },
   "outputs": [],
   "source": []
  },
  {
   "cell_type": "code",
   "execution_count": null,
   "metadata": {
    "collapsed": true
   },
   "outputs": [],
   "source": []
  },
  {
   "cell_type": "code",
   "execution_count": 6,
   "metadata": {
    "collapsed": false
   },
   "outputs": [],
   "source": [
    "# Changement de dossier\n",
    "# Changement de dossier linux\n",
    "#os.chdir (\"/home/sophie/Documents/ResultatsCytosim/oscillations/proba_asymetrique/res/metaphase1kt_100MTseuil_20cohesinStiffness_160KTMTstiffness/run4/\")\n",
    "\n",
    "\n",
    "# Changement de dossier Windows\n",
    "#os.chdir(\"G:/asymetrie/metaphase1kt_100MTseuil_20cohesinStiffness_60KTMTstiffness\")"
   ]
  },
  {
   "cell_type": "code",
   "execution_count": 6,
   "metadata": {
    "collapsed": false,
    "scrolled": false
   },
   "outputs": [
    {
     "name": "stderr",
     "output_type": "stream",
     "text": [
      "/home/sophie/anaconda3/lib/python3.5/site-packages/ipykernel/__main__.py:8: FutureWarning: pd.rolling_mean is deprecated for Series and will be removed in a future version, replace with \n",
      "\tSeries.rolling(center=False,window=10).mean()\n",
      "/home/sophie/anaconda3/lib/python3.5/site-packages/ipykernel/__main__.py:15: FutureWarning: pd.rolling_apply is deprecated for ndarrays and will be removed in a future version\n",
      "/home/sophie/anaconda3/lib/python3.5/site-packages/ipykernel/__main__.py:21: VisibleDeprecationWarning: boolean index did not match indexed array along dimension 0; dimension is 9600 but corresponding boolean dimension is 9599\n",
      "/home/sophie/anaconda3/lib/python3.5/site-packages/ipykernel/__main__.py:22: VisibleDeprecationWarning: boolean index did not match indexed array along dimension 0; dimension is 9600 but corresponding boolean dimension is 9599\n",
      "/home/sophie/anaconda3/lib/python3.5/site-packages/ipykernel/__main__.py:18: VisibleDeprecationWarning: boolean index did not match indexed array along dimension 0; dimension is 9600 but corresponding boolean dimension is 9599\n",
      "/home/sophie/anaconda3/lib/python3.5/site-packages/ipykernel/__main__.py:19: VisibleDeprecationWarning: boolean index did not match indexed array along dimension 0; dimension is 9600 but corresponding boolean dimension is 9599\n",
      "/home/sophie/anaconda3/lib/python3.5/site-packages/ipykernel/__main__.py:8: FutureWarning: pd.rolling_mean is deprecated for Series and will be removed in a future version, replace with \n",
      "\tSeries.rolling(center=False,window=20).mean()\n",
      "/home/sophie/anaconda3/lib/python3.5/site-packages/ipykernel/__main__.py:21: VisibleDeprecationWarning: boolean index did not match indexed array along dimension 0; dimension is 1999 but corresponding boolean dimension is 1998\n",
      "/home/sophie/anaconda3/lib/python3.5/site-packages/ipykernel/__main__.py:22: VisibleDeprecationWarning: boolean index did not match indexed array along dimension 0; dimension is 1999 but corresponding boolean dimension is 1998\n",
      "/home/sophie/anaconda3/lib/python3.5/site-packages/ipykernel/__main__.py:18: VisibleDeprecationWarning: boolean index did not match indexed array along dimension 0; dimension is 1999 but corresponding boolean dimension is 1998\n",
      "/home/sophie/anaconda3/lib/python3.5/site-packages/ipykernel/__main__.py:19: VisibleDeprecationWarning: boolean index did not match indexed array along dimension 0; dimension is 1999 but corresponding boolean dimension is 1998\n"
     ]
    }
   ],
   "source": [
    "# Changement de dossier\n",
    "#os.chdir (\"/home/sophie/Documents/ResultatsCytosim/oscillations/proba_asymetrique/\"\\\n",
    "#          \"res/metaphase1kt_100MTseuil_20cohesinStiffness_160KTMTstiffness/run4/\")\n",
    "\n",
    "\n",
    "#os.chdir(\"G:/asymetrie/metaphase1kt_100MTseuil_20cohesinStiffness_140KTMTstiffness/run11/\")\n",
    "\n",
    "#os.chdir (\"/media/sophie/Sophie/Film_Cytosim/Recapture/run4\")\n",
    "os.chdir (\"/media/sophie/Sophie/Resultats_simulations/oscillations/proba_asymetrique/res/metaphase1kt_100MTseuil_20cohesinStiffness_140KTMTstiffness/run11\")\n",
    "\n",
    "\n",
    "#Ouverture des fichiers\n",
    "solid  = open(\"solid.txt\")\n",
    "data_solid = pd.read_table(solid, sep='\\t', header=0, index_col=False, lineterminator='\\n')\n",
    "solid.close()\n",
    "\n",
    "kt1x = data_solid[\"x.2\"]\n",
    "kt1y = data_solid[\"y.2\"]\n",
    "kt2x = data_solid[\"x.3\"]\n",
    "kt2y = data_solid[\"y.3\"]\n",
    "\n",
    "\n",
    "t0=int(300)\n",
    "t1=int(400)\n",
    "\n",
    "data_solid2 = data_solid[data_solid[\"time\"]>t0]\n",
    "data_solid2 = data_solid2[data_solid2[\"time\"]<t1]\n",
    "coherence = get_coherence(data_solid)\n",
    "#print(coherence)\n",
    "fig = kymo_directions (data_solid2)\n",
    "fig\n",
    "fig.savefig(\"../run11_coherence2.png\")"
   ]
  },
  {
   "cell_type": "code",
   "execution_count": 76,
   "metadata": {
    "collapsed": false
   },
   "outputs": [
    {
     "name": "stderr",
     "output_type": "stream",
     "text": [
      "/home/sophie/anaconda3/lib/python3.5/site-packages/ipykernel/__main__.py:8: FutureWarning: pd.rolling_mean is deprecated for Series and will be removed in a future version, replace with \n",
      "\tSeries.rolling(window=10,center=False).mean()\n",
      "/home/sophie/anaconda3/lib/python3.5/site-packages/ipykernel/__main__.py:15: FutureWarning: pd.rolling_apply is deprecated for ndarrays and will be removed in a future version\n",
      "/home/sophie/anaconda3/lib/python3.5/site-packages/ipykernel/__main__.py:21: VisibleDeprecationWarning: boolean index did not match indexed array along dimension 0; dimension is 9600 but corresponding boolean dimension is 9599\n",
      "/home/sophie/anaconda3/lib/python3.5/site-packages/ipykernel/__main__.py:22: VisibleDeprecationWarning: boolean index did not match indexed array along dimension 0; dimension is 9600 but corresponding boolean dimension is 9599\n",
      "/home/sophie/anaconda3/lib/python3.5/site-packages/ipykernel/__main__.py:18: VisibleDeprecationWarning: boolean index did not match indexed array along dimension 0; dimension is 9600 but corresponding boolean dimension is 9599\n",
      "/home/sophie/anaconda3/lib/python3.5/site-packages/ipykernel/__main__.py:19: VisibleDeprecationWarning: boolean index did not match indexed array along dimension 0; dimension is 9600 but corresponding boolean dimension is 9599\n"
     ]
    }
   ],
   "source": [
    "#Ouverture des fichiers\n",
    "solid  = open(\"solid.txt\")\n",
    "data_solid = pd.read_table(solid, sep='\\t', header=0, index_col=False, lineterminator='\\n')\n",
    "solid.close()\n",
    "\n",
    "kt1x = data_solid[\"x.2\"]\n",
    "kt1y = data_solid[\"y.2\"]\n",
    "kt2x = data_solid[\"x.3\"]\n",
    "kt2y = data_solid[\"y.3\"]\n",
    "\n",
    "\n",
    "t0=int(0)\n",
    "t1=int(500)\n",
    "\n",
    "data_solid2 = data_solid[data_solid[\"time\"]>t0]\n",
    "data_solid2 = data_solid2[data_solid2[\"time\"]<t1]\n",
    "coherence = get_coherence(data_solid2)\n",
    "\n",
    "unique, counts = np.unique(coherence, return_counts=True)\n",
    "\n",
    "dict(zip(unique, counts))\n",
    "name = [\"N-N\", \"N-P\", \"N-AP\", \"AP-P\", \"P-P\", \"AP-AP\"]\n",
    "plt.pie(counts, startangle=90,autopct='%1.1f%%', shadow=False, labels=name)\n",
    "#plt.show()\n",
    "plt.savefig(\"../run11_proportion.png\")"
   ]
  },
  {
   "cell_type": "code",
   "execution_count": 28,
   "metadata": {
    "collapsed": false
   },
   "outputs": [
    {
     "name": "stderr",
     "output_type": "stream",
     "text": [
      "/home/sophie/anaconda3/lib/python3.5/site-packages/matplotlib/axes/_axes.py:531: UserWarning: No labelled objects found. Use label='...' kwarg on individual plots.\n",
      "  warnings.warn(\"No labelled objects found. \"\n"
     ]
    }
   ],
   "source": [
    "\n",
    "counts= [8,11,18,54,3,7]\n",
    "name = [\"N-N\", \"N-P\", \"N-AP\", \"AP-P\", \"P-P\", \"AP-AP\"]\n",
    "plt.subplots(figsize=(5,5))\n",
    "plt.legend(fontsize=200)\n",
    "plt.pie(counts, startangle=90,autopct='%1.1f%%', shadow=False, labels=name)\n",
    "#plt.show()\n",
    "\n",
    "plt.savefig(\"proportion_bio.png\")"
   ]
  },
  {
   "cell_type": "code",
   "execution_count": 6,
   "metadata": {
    "collapsed": false
   },
   "outputs": [],
   "source": [
    "def distance(x1, y1, x2, y2) : \n",
    "    return np.sqrt((x2-x1)**2 + (y2-y1)**2)\n",
    "\n",
    "def middle_kinetochore_position (x1, y1, x2, y2) : \n",
    "    xposition = x1 + (x2-x1)/2\n",
    "    yposition = y1 + (y2-y1)/2\n",
    "    return (xposition, yposition)\n",
    "\n",
    "def start_oscillation (couple1, couple2):\n",
    "\n",
    "    allattached1 = couple1 [ couple1[\"attached\\\\attached\"]>=1 ]\n",
    "    allattached2 = couple2 [ couple2[\"attached\\\\attached\"]>=1 ]\n",
    "    minTimeAttached1 = allattached1[\"time\"].min()\n",
    "    minTimeAttached2 = allattached2[\"time\"].min()\n",
    "\n",
    "    start_oscillation = max(minTimeAttached1, minTimeAttached2) \n",
    "\n",
    "    return start_oscillation\n",
    "\n",
    "\n",
    "def end_oscillation(solid):\n",
    "    dist = distance(solid[\"x\"], solid[\"y\"], solid[\"x.1\"], solid[\"y.1\"])    \n",
    "    \n",
    "    solid = solid.assign(dist=dist.values)\n",
    "    dist = solid[solid[\"dist\"]>=2]\n",
    "    \n",
    "    end_oscillation = dist[\"time\"].min()\n",
    "    \n",
    "    return end_oscillation"
   ]
  },
  {
   "cell_type": "code",
   "execution_count": 8,
   "metadata": {
    "collapsed": false,
    "scrolled": true
   },
   "outputs": [
    {
     "name": "stdout",
     "output_type": "stream",
     "text": [
      "run1\n"
     ]
    },
    {
     "name": "stderr",
     "output_type": "stream",
     "text": [
      "/home/sophie/anaconda3/lib/python3.5/site-packages/ipykernel/__main__.py:8: FutureWarning: pd.rolling_mean is deprecated for Series and will be removed in a future version, replace with \n",
      "\tSeries.rolling(center=False,window=10).mean()\n",
      "/home/sophie/anaconda3/lib/python3.5/site-packages/ipykernel/__main__.py:15: FutureWarning: pd.rolling_apply is deprecated for ndarrays and will be removed in a future version\n",
      "/home/sophie/anaconda3/lib/python3.5/site-packages/ipykernel/__main__.py:21: VisibleDeprecationWarning: boolean index did not match indexed array along dimension 0; dimension is 1544 but corresponding boolean dimension is 1543\n",
      "/home/sophie/anaconda3/lib/python3.5/site-packages/ipykernel/__main__.py:22: VisibleDeprecationWarning: boolean index did not match indexed array along dimension 0; dimension is 1544 but corresponding boolean dimension is 1543\n",
      "/home/sophie/anaconda3/lib/python3.5/site-packages/ipykernel/__main__.py:18: VisibleDeprecationWarning: boolean index did not match indexed array along dimension 0; dimension is 1544 but corresponding boolean dimension is 1543\n",
      "/home/sophie/anaconda3/lib/python3.5/site-packages/ipykernel/__main__.py:19: VisibleDeprecationWarning: boolean index did not match indexed array along dimension 0; dimension is 1544 but corresponding boolean dimension is 1543\n"
     ]
    },
    {
     "name": "stdout",
     "output_type": "stream",
     "text": [
      "run10\n"
     ]
    },
    {
     "name": "stderr",
     "output_type": "stream",
     "text": [
      "/home/sophie/anaconda3/lib/python3.5/site-packages/ipykernel/__main__.py:21: VisibleDeprecationWarning: boolean index did not match indexed array along dimension 0; dimension is 1531 but corresponding boolean dimension is 1530\n",
      "/home/sophie/anaconda3/lib/python3.5/site-packages/ipykernel/__main__.py:22: VisibleDeprecationWarning: boolean index did not match indexed array along dimension 0; dimension is 1531 but corresponding boolean dimension is 1530\n",
      "/home/sophie/anaconda3/lib/python3.5/site-packages/ipykernel/__main__.py:18: VisibleDeprecationWarning: boolean index did not match indexed array along dimension 0; dimension is 1531 but corresponding boolean dimension is 1530\n",
      "/home/sophie/anaconda3/lib/python3.5/site-packages/ipykernel/__main__.py:19: VisibleDeprecationWarning: boolean index did not match indexed array along dimension 0; dimension is 1531 but corresponding boolean dimension is 1530\n"
     ]
    },
    {
     "name": "stdout",
     "output_type": "stream",
     "text": [
      "run100\n"
     ]
    },
    {
     "name": "stderr",
     "output_type": "stream",
     "text": [
      "/home/sophie/anaconda3/lib/python3.5/site-packages/ipykernel/__main__.py:21: VisibleDeprecationWarning: boolean index did not match indexed array along dimension 0; dimension is 1382 but corresponding boolean dimension is 1381\n",
      "/home/sophie/anaconda3/lib/python3.5/site-packages/ipykernel/__main__.py:22: VisibleDeprecationWarning: boolean index did not match indexed array along dimension 0; dimension is 1382 but corresponding boolean dimension is 1381\n",
      "/home/sophie/anaconda3/lib/python3.5/site-packages/ipykernel/__main__.py:18: VisibleDeprecationWarning: boolean index did not match indexed array along dimension 0; dimension is 1382 but corresponding boolean dimension is 1381\n",
      "/home/sophie/anaconda3/lib/python3.5/site-packages/ipykernel/__main__.py:19: VisibleDeprecationWarning: boolean index did not match indexed array along dimension 0; dimension is 1382 but corresponding boolean dimension is 1381\n"
     ]
    },
    {
     "name": "stdout",
     "output_type": "stream",
     "text": [
      "run101\n"
     ]
    },
    {
     "name": "stderr",
     "output_type": "stream",
     "text": [
      "/home/sophie/anaconda3/lib/python3.5/site-packages/ipykernel/__main__.py:21: VisibleDeprecationWarning: boolean index did not match indexed array along dimension 0; dimension is 1421 but corresponding boolean dimension is 1420\n",
      "/home/sophie/anaconda3/lib/python3.5/site-packages/ipykernel/__main__.py:22: VisibleDeprecationWarning: boolean index did not match indexed array along dimension 0; dimension is 1421 but corresponding boolean dimension is 1420\n",
      "/home/sophie/anaconda3/lib/python3.5/site-packages/ipykernel/__main__.py:18: VisibleDeprecationWarning: boolean index did not match indexed array along dimension 0; dimension is 1421 but corresponding boolean dimension is 1420\n",
      "/home/sophie/anaconda3/lib/python3.5/site-packages/ipykernel/__main__.py:19: VisibleDeprecationWarning: boolean index did not match indexed array along dimension 0; dimension is 1421 but corresponding boolean dimension is 1420\n"
     ]
    },
    {
     "name": "stdout",
     "output_type": "stream",
     "text": [
      "run102\n"
     ]
    },
    {
     "name": "stderr",
     "output_type": "stream",
     "text": [
      "/home/sophie/anaconda3/lib/python3.5/site-packages/ipykernel/__main__.py:21: VisibleDeprecationWarning: boolean index did not match indexed array along dimension 0; dimension is 1486 but corresponding boolean dimension is 1485\n",
      "/home/sophie/anaconda3/lib/python3.5/site-packages/ipykernel/__main__.py:22: VisibleDeprecationWarning: boolean index did not match indexed array along dimension 0; dimension is 1486 but corresponding boolean dimension is 1485\n",
      "/home/sophie/anaconda3/lib/python3.5/site-packages/ipykernel/__main__.py:18: VisibleDeprecationWarning: boolean index did not match indexed array along dimension 0; dimension is 1486 but corresponding boolean dimension is 1485\n",
      "/home/sophie/anaconda3/lib/python3.5/site-packages/ipykernel/__main__.py:19: VisibleDeprecationWarning: boolean index did not match indexed array along dimension 0; dimension is 1486 but corresponding boolean dimension is 1485\n"
     ]
    },
    {
     "name": "stdout",
     "output_type": "stream",
     "text": [
      "run103\n"
     ]
    },
    {
     "name": "stderr",
     "output_type": "stream",
     "text": [
      "/home/sophie/anaconda3/lib/python3.5/site-packages/ipykernel/__main__.py:21: VisibleDeprecationWarning: boolean index did not match indexed array along dimension 0; dimension is 1323 but corresponding boolean dimension is 1322\n",
      "/home/sophie/anaconda3/lib/python3.5/site-packages/ipykernel/__main__.py:22: VisibleDeprecationWarning: boolean index did not match indexed array along dimension 0; dimension is 1323 but corresponding boolean dimension is 1322\n",
      "/home/sophie/anaconda3/lib/python3.5/site-packages/ipykernel/__main__.py:18: VisibleDeprecationWarning: boolean index did not match indexed array along dimension 0; dimension is 1323 but corresponding boolean dimension is 1322\n",
      "/home/sophie/anaconda3/lib/python3.5/site-packages/ipykernel/__main__.py:19: VisibleDeprecationWarning: boolean index did not match indexed array along dimension 0; dimension is 1323 but corresponding boolean dimension is 1322\n"
     ]
    },
    {
     "name": "stdout",
     "output_type": "stream",
     "text": [
      "run104\n"
     ]
    },
    {
     "name": "stderr",
     "output_type": "stream",
     "text": [
      "/home/sophie/anaconda3/lib/python3.5/site-packages/ipykernel/__main__.py:21: VisibleDeprecationWarning: boolean index did not match indexed array along dimension 0; dimension is 1565 but corresponding boolean dimension is 1564\n",
      "/home/sophie/anaconda3/lib/python3.5/site-packages/ipykernel/__main__.py:22: VisibleDeprecationWarning: boolean index did not match indexed array along dimension 0; dimension is 1565 but corresponding boolean dimension is 1564\n",
      "/home/sophie/anaconda3/lib/python3.5/site-packages/ipykernel/__main__.py:18: VisibleDeprecationWarning: boolean index did not match indexed array along dimension 0; dimension is 1565 but corresponding boolean dimension is 1564\n",
      "/home/sophie/anaconda3/lib/python3.5/site-packages/ipykernel/__main__.py:19: VisibleDeprecationWarning: boolean index did not match indexed array along dimension 0; dimension is 1565 but corresponding boolean dimension is 1564\n"
     ]
    },
    {
     "name": "stdout",
     "output_type": "stream",
     "text": [
      "run105\n"
     ]
    },
    {
     "name": "stderr",
     "output_type": "stream",
     "text": [
      "/home/sophie/anaconda3/lib/python3.5/site-packages/ipykernel/__main__.py:21: VisibleDeprecationWarning: boolean index did not match indexed array along dimension 0; dimension is 1470 but corresponding boolean dimension is 1469\n",
      "/home/sophie/anaconda3/lib/python3.5/site-packages/ipykernel/__main__.py:22: VisibleDeprecationWarning: boolean index did not match indexed array along dimension 0; dimension is 1470 but corresponding boolean dimension is 1469\n",
      "/home/sophie/anaconda3/lib/python3.5/site-packages/ipykernel/__main__.py:18: VisibleDeprecationWarning: boolean index did not match indexed array along dimension 0; dimension is 1470 but corresponding boolean dimension is 1469\n",
      "/home/sophie/anaconda3/lib/python3.5/site-packages/ipykernel/__main__.py:19: VisibleDeprecationWarning: boolean index did not match indexed array along dimension 0; dimension is 1470 but corresponding boolean dimension is 1469\n"
     ]
    },
    {
     "name": "stdout",
     "output_type": "stream",
     "text": [
      "run106\n"
     ]
    },
    {
     "name": "stderr",
     "output_type": "stream",
     "text": [
      "/home/sophie/anaconda3/lib/python3.5/site-packages/ipykernel/__main__.py:21: VisibleDeprecationWarning: boolean index did not match indexed array along dimension 0; dimension is 1480 but corresponding boolean dimension is 1479\n",
      "/home/sophie/anaconda3/lib/python3.5/site-packages/ipykernel/__main__.py:22: VisibleDeprecationWarning: boolean index did not match indexed array along dimension 0; dimension is 1480 but corresponding boolean dimension is 1479\n",
      "/home/sophie/anaconda3/lib/python3.5/site-packages/ipykernel/__main__.py:18: VisibleDeprecationWarning: boolean index did not match indexed array along dimension 0; dimension is 1480 but corresponding boolean dimension is 1479\n",
      "/home/sophie/anaconda3/lib/python3.5/site-packages/ipykernel/__main__.py:19: VisibleDeprecationWarning: boolean index did not match indexed array along dimension 0; dimension is 1480 but corresponding boolean dimension is 1479\n"
     ]
    },
    {
     "name": "stdout",
     "output_type": "stream",
     "text": [
      "run107\n"
     ]
    },
    {
     "name": "stderr",
     "output_type": "stream",
     "text": [
      "/home/sophie/anaconda3/lib/python3.5/site-packages/ipykernel/__main__.py:21: VisibleDeprecationWarning: boolean index did not match indexed array along dimension 0; dimension is 1459 but corresponding boolean dimension is 1458\n",
      "/home/sophie/anaconda3/lib/python3.5/site-packages/ipykernel/__main__.py:22: VisibleDeprecationWarning: boolean index did not match indexed array along dimension 0; dimension is 1459 but corresponding boolean dimension is 1458\n",
      "/home/sophie/anaconda3/lib/python3.5/site-packages/ipykernel/__main__.py:18: VisibleDeprecationWarning: boolean index did not match indexed array along dimension 0; dimension is 1459 but corresponding boolean dimension is 1458\n",
      "/home/sophie/anaconda3/lib/python3.5/site-packages/ipykernel/__main__.py:19: VisibleDeprecationWarning: boolean index did not match indexed array along dimension 0; dimension is 1459 but corresponding boolean dimension is 1458\n"
     ]
    },
    {
     "name": "stdout",
     "output_type": "stream",
     "text": [
      "run108\n"
     ]
    },
    {
     "name": "stderr",
     "output_type": "stream",
     "text": [
      "/home/sophie/anaconda3/lib/python3.5/site-packages/ipykernel/__main__.py:21: VisibleDeprecationWarning: boolean index did not match indexed array along dimension 0; dimension is 1500 but corresponding boolean dimension is 1499\n",
      "/home/sophie/anaconda3/lib/python3.5/site-packages/ipykernel/__main__.py:22: VisibleDeprecationWarning: boolean index did not match indexed array along dimension 0; dimension is 1500 but corresponding boolean dimension is 1499\n",
      "/home/sophie/anaconda3/lib/python3.5/site-packages/ipykernel/__main__.py:18: VisibleDeprecationWarning: boolean index did not match indexed array along dimension 0; dimension is 1500 but corresponding boolean dimension is 1499\n",
      "/home/sophie/anaconda3/lib/python3.5/site-packages/ipykernel/__main__.py:19: VisibleDeprecationWarning: boolean index did not match indexed array along dimension 0; dimension is 1500 but corresponding boolean dimension is 1499\n"
     ]
    },
    {
     "name": "stdout",
     "output_type": "stream",
     "text": [
      "run109\n"
     ]
    },
    {
     "name": "stderr",
     "output_type": "stream",
     "text": [
      "/home/sophie/anaconda3/lib/python3.5/site-packages/ipykernel/__main__.py:21: VisibleDeprecationWarning: boolean index did not match indexed array along dimension 0; dimension is 1488 but corresponding boolean dimension is 1487\n",
      "/home/sophie/anaconda3/lib/python3.5/site-packages/ipykernel/__main__.py:22: VisibleDeprecationWarning: boolean index did not match indexed array along dimension 0; dimension is 1488 but corresponding boolean dimension is 1487\n",
      "/home/sophie/anaconda3/lib/python3.5/site-packages/ipykernel/__main__.py:18: VisibleDeprecationWarning: boolean index did not match indexed array along dimension 0; dimension is 1488 but corresponding boolean dimension is 1487\n",
      "/home/sophie/anaconda3/lib/python3.5/site-packages/ipykernel/__main__.py:19: VisibleDeprecationWarning: boolean index did not match indexed array along dimension 0; dimension is 1488 but corresponding boolean dimension is 1487\n"
     ]
    },
    {
     "name": "stdout",
     "output_type": "stream",
     "text": [
      "run11\n"
     ]
    },
    {
     "name": "stderr",
     "output_type": "stream",
     "text": [
      "/home/sophie/anaconda3/lib/python3.5/site-packages/ipykernel/__main__.py:21: VisibleDeprecationWarning: boolean index did not match indexed array along dimension 0; dimension is 1483 but corresponding boolean dimension is 1482\n",
      "/home/sophie/anaconda3/lib/python3.5/site-packages/ipykernel/__main__.py:22: VisibleDeprecationWarning: boolean index did not match indexed array along dimension 0; dimension is 1483 but corresponding boolean dimension is 1482\n",
      "/home/sophie/anaconda3/lib/python3.5/site-packages/ipykernel/__main__.py:18: VisibleDeprecationWarning: boolean index did not match indexed array along dimension 0; dimension is 1483 but corresponding boolean dimension is 1482\n",
      "/home/sophie/anaconda3/lib/python3.5/site-packages/ipykernel/__main__.py:19: VisibleDeprecationWarning: boolean index did not match indexed array along dimension 0; dimension is 1483 but corresponding boolean dimension is 1482\n"
     ]
    },
    {
     "name": "stdout",
     "output_type": "stream",
     "text": [
      "run110\n"
     ]
    },
    {
     "name": "stderr",
     "output_type": "stream",
     "text": [
      "/home/sophie/anaconda3/lib/python3.5/site-packages/ipykernel/__main__.py:21: VisibleDeprecationWarning: boolean index did not match indexed array along dimension 0; dimension is 1551 but corresponding boolean dimension is 1550\n",
      "/home/sophie/anaconda3/lib/python3.5/site-packages/ipykernel/__main__.py:22: VisibleDeprecationWarning: boolean index did not match indexed array along dimension 0; dimension is 1551 but corresponding boolean dimension is 1550\n",
      "/home/sophie/anaconda3/lib/python3.5/site-packages/ipykernel/__main__.py:18: VisibleDeprecationWarning: boolean index did not match indexed array along dimension 0; dimension is 1551 but corresponding boolean dimension is 1550\n",
      "/home/sophie/anaconda3/lib/python3.5/site-packages/ipykernel/__main__.py:19: VisibleDeprecationWarning: boolean index did not match indexed array along dimension 0; dimension is 1551 but corresponding boolean dimension is 1550\n"
     ]
    },
    {
     "name": "stdout",
     "output_type": "stream",
     "text": [
      "run111\n"
     ]
    },
    {
     "name": "stderr",
     "output_type": "stream",
     "text": [
      "/home/sophie/anaconda3/lib/python3.5/site-packages/ipykernel/__main__.py:21: VisibleDeprecationWarning: boolean index did not match indexed array along dimension 0; dimension is 1583 but corresponding boolean dimension is 1582\n",
      "/home/sophie/anaconda3/lib/python3.5/site-packages/ipykernel/__main__.py:22: VisibleDeprecationWarning: boolean index did not match indexed array along dimension 0; dimension is 1583 but corresponding boolean dimension is 1582\n",
      "/home/sophie/anaconda3/lib/python3.5/site-packages/ipykernel/__main__.py:18: VisibleDeprecationWarning: boolean index did not match indexed array along dimension 0; dimension is 1583 but corresponding boolean dimension is 1582\n",
      "/home/sophie/anaconda3/lib/python3.5/site-packages/ipykernel/__main__.py:19: VisibleDeprecationWarning: boolean index did not match indexed array along dimension 0; dimension is 1583 but corresponding boolean dimension is 1582\n"
     ]
    },
    {
     "name": "stdout",
     "output_type": "stream",
     "text": [
      "run112\n"
     ]
    },
    {
     "name": "stderr",
     "output_type": "stream",
     "text": [
      "/home/sophie/anaconda3/lib/python3.5/site-packages/ipykernel/__main__.py:21: VisibleDeprecationWarning: boolean index did not match indexed array along dimension 0; dimension is 1384 but corresponding boolean dimension is 1383\n",
      "/home/sophie/anaconda3/lib/python3.5/site-packages/ipykernel/__main__.py:22: VisibleDeprecationWarning: boolean index did not match indexed array along dimension 0; dimension is 1384 but corresponding boolean dimension is 1383\n",
      "/home/sophie/anaconda3/lib/python3.5/site-packages/ipykernel/__main__.py:18: VisibleDeprecationWarning: boolean index did not match indexed array along dimension 0; dimension is 1384 but corresponding boolean dimension is 1383\n",
      "/home/sophie/anaconda3/lib/python3.5/site-packages/ipykernel/__main__.py:19: VisibleDeprecationWarning: boolean index did not match indexed array along dimension 0; dimension is 1384 but corresponding boolean dimension is 1383\n"
     ]
    },
    {
     "name": "stdout",
     "output_type": "stream",
     "text": [
      "run113\n",
      "run114\n"
     ]
    },
    {
     "name": "stderr",
     "output_type": "stream",
     "text": [
      "/home/sophie/anaconda3/lib/python3.5/site-packages/ipykernel/__main__.py:21: VisibleDeprecationWarning: boolean index did not match indexed array along dimension 0; dimension is 1442 but corresponding boolean dimension is 1441\n",
      "/home/sophie/anaconda3/lib/python3.5/site-packages/ipykernel/__main__.py:22: VisibleDeprecationWarning: boolean index did not match indexed array along dimension 0; dimension is 1442 but corresponding boolean dimension is 1441\n",
      "/home/sophie/anaconda3/lib/python3.5/site-packages/ipykernel/__main__.py:18: VisibleDeprecationWarning: boolean index did not match indexed array along dimension 0; dimension is 1442 but corresponding boolean dimension is 1441\n",
      "/home/sophie/anaconda3/lib/python3.5/site-packages/ipykernel/__main__.py:19: VisibleDeprecationWarning: boolean index did not match indexed array along dimension 0; dimension is 1442 but corresponding boolean dimension is 1441\n"
     ]
    },
    {
     "name": "stdout",
     "output_type": "stream",
     "text": [
      "run115\n",
      "run116\n"
     ]
    },
    {
     "name": "stderr",
     "output_type": "stream",
     "text": [
      "/home/sophie/anaconda3/lib/python3.5/site-packages/ipykernel/__main__.py:21: VisibleDeprecationWarning: boolean index did not match indexed array along dimension 0; dimension is 1528 but corresponding boolean dimension is 1527\n",
      "/home/sophie/anaconda3/lib/python3.5/site-packages/ipykernel/__main__.py:22: VisibleDeprecationWarning: boolean index did not match indexed array along dimension 0; dimension is 1528 but corresponding boolean dimension is 1527\n",
      "/home/sophie/anaconda3/lib/python3.5/site-packages/ipykernel/__main__.py:18: VisibleDeprecationWarning: boolean index did not match indexed array along dimension 0; dimension is 1528 but corresponding boolean dimension is 1527\n",
      "/home/sophie/anaconda3/lib/python3.5/site-packages/ipykernel/__main__.py:19: VisibleDeprecationWarning: boolean index did not match indexed array along dimension 0; dimension is 1528 but corresponding boolean dimension is 1527\n"
     ]
    },
    {
     "name": "stdout",
     "output_type": "stream",
     "text": [
      "run29\n",
      "run3\n"
     ]
    },
    {
     "name": "stderr",
     "output_type": "stream",
     "text": [
      "/home/sophie/anaconda3/lib/python3.5/site-packages/ipykernel/__main__.py:21: VisibleDeprecationWarning: boolean index did not match indexed array along dimension 0; dimension is 1556 but corresponding boolean dimension is 1555\n",
      "/home/sophie/anaconda3/lib/python3.5/site-packages/ipykernel/__main__.py:22: VisibleDeprecationWarning: boolean index did not match indexed array along dimension 0; dimension is 1556 but corresponding boolean dimension is 1555\n",
      "/home/sophie/anaconda3/lib/python3.5/site-packages/ipykernel/__main__.py:18: VisibleDeprecationWarning: boolean index did not match indexed array along dimension 0; dimension is 1556 but corresponding boolean dimension is 1555\n",
      "/home/sophie/anaconda3/lib/python3.5/site-packages/ipykernel/__main__.py:19: VisibleDeprecationWarning: boolean index did not match indexed array along dimension 0; dimension is 1556 but corresponding boolean dimension is 1555\n"
     ]
    },
    {
     "name": "stdout",
     "output_type": "stream",
     "text": [
      "run30\n"
     ]
    },
    {
     "name": "stderr",
     "output_type": "stream",
     "text": [
      "/home/sophie/anaconda3/lib/python3.5/site-packages/ipykernel/__main__.py:21: VisibleDeprecationWarning: boolean index did not match indexed array along dimension 0; dimension is 1490 but corresponding boolean dimension is 1489\n",
      "/home/sophie/anaconda3/lib/python3.5/site-packages/ipykernel/__main__.py:22: VisibleDeprecationWarning: boolean index did not match indexed array along dimension 0; dimension is 1490 but corresponding boolean dimension is 1489\n",
      "/home/sophie/anaconda3/lib/python3.5/site-packages/ipykernel/__main__.py:18: VisibleDeprecationWarning: boolean index did not match indexed array along dimension 0; dimension is 1490 but corresponding boolean dimension is 1489\n",
      "/home/sophie/anaconda3/lib/python3.5/site-packages/ipykernel/__main__.py:19: VisibleDeprecationWarning: boolean index did not match indexed array along dimension 0; dimension is 1490 but corresponding boolean dimension is 1489\n"
     ]
    },
    {
     "name": "stdout",
     "output_type": "stream",
     "text": [
      "run31\n",
      "run32\n"
     ]
    },
    {
     "name": "stderr",
     "output_type": "stream",
     "text": [
      "/home/sophie/anaconda3/lib/python3.5/site-packages/ipykernel/__main__.py:21: VisibleDeprecationWarning: boolean index did not match indexed array along dimension 0; dimension is 1438 but corresponding boolean dimension is 1437\n",
      "/home/sophie/anaconda3/lib/python3.5/site-packages/ipykernel/__main__.py:22: VisibleDeprecationWarning: boolean index did not match indexed array along dimension 0; dimension is 1438 but corresponding boolean dimension is 1437\n",
      "/home/sophie/anaconda3/lib/python3.5/site-packages/ipykernel/__main__.py:18: VisibleDeprecationWarning: boolean index did not match indexed array along dimension 0; dimension is 1438 but corresponding boolean dimension is 1437\n",
      "/home/sophie/anaconda3/lib/python3.5/site-packages/ipykernel/__main__.py:19: VisibleDeprecationWarning: boolean index did not match indexed array along dimension 0; dimension is 1438 but corresponding boolean dimension is 1437\n"
     ]
    },
    {
     "name": "stdout",
     "output_type": "stream",
     "text": [
      "run33\n"
     ]
    },
    {
     "name": "stderr",
     "output_type": "stream",
     "text": [
      "/home/sophie/anaconda3/lib/python3.5/site-packages/ipykernel/__main__.py:21: VisibleDeprecationWarning: boolean index did not match indexed array along dimension 0; dimension is 1448 but corresponding boolean dimension is 1447\n",
      "/home/sophie/anaconda3/lib/python3.5/site-packages/ipykernel/__main__.py:22: VisibleDeprecationWarning: boolean index did not match indexed array along dimension 0; dimension is 1448 but corresponding boolean dimension is 1447\n",
      "/home/sophie/anaconda3/lib/python3.5/site-packages/ipykernel/__main__.py:18: VisibleDeprecationWarning: boolean index did not match indexed array along dimension 0; dimension is 1448 but corresponding boolean dimension is 1447\n",
      "/home/sophie/anaconda3/lib/python3.5/site-packages/ipykernel/__main__.py:19: VisibleDeprecationWarning: boolean index did not match indexed array along dimension 0; dimension is 1448 but corresponding boolean dimension is 1447\n"
     ]
    },
    {
     "name": "stdout",
     "output_type": "stream",
     "text": [
      "run34\n"
     ]
    },
    {
     "name": "stderr",
     "output_type": "stream",
     "text": [
      "/home/sophie/anaconda3/lib/python3.5/site-packages/ipykernel/__main__.py:21: VisibleDeprecationWarning: boolean index did not match indexed array along dimension 0; dimension is 1549 but corresponding boolean dimension is 1548\n",
      "/home/sophie/anaconda3/lib/python3.5/site-packages/ipykernel/__main__.py:22: VisibleDeprecationWarning: boolean index did not match indexed array along dimension 0; dimension is 1549 but corresponding boolean dimension is 1548\n",
      "/home/sophie/anaconda3/lib/python3.5/site-packages/ipykernel/__main__.py:18: VisibleDeprecationWarning: boolean index did not match indexed array along dimension 0; dimension is 1549 but corresponding boolean dimension is 1548\n",
      "/home/sophie/anaconda3/lib/python3.5/site-packages/ipykernel/__main__.py:19: VisibleDeprecationWarning: boolean index did not match indexed array along dimension 0; dimension is 1549 but corresponding boolean dimension is 1548\n"
     ]
    },
    {
     "name": "stdout",
     "output_type": "stream",
     "text": [
      "run35\n"
     ]
    },
    {
     "name": "stderr",
     "output_type": "stream",
     "text": [
      "/home/sophie/anaconda3/lib/python3.5/site-packages/ipykernel/__main__.py:21: VisibleDeprecationWarning: boolean index did not match indexed array along dimension 0; dimension is 1410 but corresponding boolean dimension is 1409\n",
      "/home/sophie/anaconda3/lib/python3.5/site-packages/ipykernel/__main__.py:22: VisibleDeprecationWarning: boolean index did not match indexed array along dimension 0; dimension is 1410 but corresponding boolean dimension is 1409\n",
      "/home/sophie/anaconda3/lib/python3.5/site-packages/ipykernel/__main__.py:18: VisibleDeprecationWarning: boolean index did not match indexed array along dimension 0; dimension is 1410 but corresponding boolean dimension is 1409\n",
      "/home/sophie/anaconda3/lib/python3.5/site-packages/ipykernel/__main__.py:19: VisibleDeprecationWarning: boolean index did not match indexed array along dimension 0; dimension is 1410 but corresponding boolean dimension is 1409\n"
     ]
    },
    {
     "name": "stdout",
     "output_type": "stream",
     "text": [
      "run36\n"
     ]
    },
    {
     "name": "stderr",
     "output_type": "stream",
     "text": [
      "/home/sophie/anaconda3/lib/python3.5/site-packages/ipykernel/__main__.py:21: VisibleDeprecationWarning: boolean index did not match indexed array along dimension 0; dimension is 1507 but corresponding boolean dimension is 1506\n",
      "/home/sophie/anaconda3/lib/python3.5/site-packages/ipykernel/__main__.py:22: VisibleDeprecationWarning: boolean index did not match indexed array along dimension 0; dimension is 1507 but corresponding boolean dimension is 1506\n",
      "/home/sophie/anaconda3/lib/python3.5/site-packages/ipykernel/__main__.py:18: VisibleDeprecationWarning: boolean index did not match indexed array along dimension 0; dimension is 1507 but corresponding boolean dimension is 1506\n",
      "/home/sophie/anaconda3/lib/python3.5/site-packages/ipykernel/__main__.py:19: VisibleDeprecationWarning: boolean index did not match indexed array along dimension 0; dimension is 1507 but corresponding boolean dimension is 1506\n"
     ]
    },
    {
     "name": "stdout",
     "output_type": "stream",
     "text": [
      "run37\n"
     ]
    },
    {
     "name": "stderr",
     "output_type": "stream",
     "text": [
      "/home/sophie/anaconda3/lib/python3.5/site-packages/ipykernel/__main__.py:21: VisibleDeprecationWarning: boolean index did not match indexed array along dimension 0; dimension is 1409 but corresponding boolean dimension is 1408\n",
      "/home/sophie/anaconda3/lib/python3.5/site-packages/ipykernel/__main__.py:22: VisibleDeprecationWarning: boolean index did not match indexed array along dimension 0; dimension is 1409 but corresponding boolean dimension is 1408\n",
      "/home/sophie/anaconda3/lib/python3.5/site-packages/ipykernel/__main__.py:18: VisibleDeprecationWarning: boolean index did not match indexed array along dimension 0; dimension is 1409 but corresponding boolean dimension is 1408\n",
      "/home/sophie/anaconda3/lib/python3.5/site-packages/ipykernel/__main__.py:19: VisibleDeprecationWarning: boolean index did not match indexed array along dimension 0; dimension is 1409 but corresponding boolean dimension is 1408\n"
     ]
    },
    {
     "name": "stdout",
     "output_type": "stream",
     "text": [
      "run38\n"
     ]
    },
    {
     "name": "stderr",
     "output_type": "stream",
     "text": [
      "/home/sophie/anaconda3/lib/python3.5/site-packages/ipykernel/__main__.py:21: VisibleDeprecationWarning: boolean index did not match indexed array along dimension 0; dimension is 1569 but corresponding boolean dimension is 1568\n",
      "/home/sophie/anaconda3/lib/python3.5/site-packages/ipykernel/__main__.py:22: VisibleDeprecationWarning: boolean index did not match indexed array along dimension 0; dimension is 1569 but corresponding boolean dimension is 1568\n",
      "/home/sophie/anaconda3/lib/python3.5/site-packages/ipykernel/__main__.py:18: VisibleDeprecationWarning: boolean index did not match indexed array along dimension 0; dimension is 1569 but corresponding boolean dimension is 1568\n",
      "/home/sophie/anaconda3/lib/python3.5/site-packages/ipykernel/__main__.py:19: VisibleDeprecationWarning: boolean index did not match indexed array along dimension 0; dimension is 1569 but corresponding boolean dimension is 1568\n"
     ]
    },
    {
     "name": "stdout",
     "output_type": "stream",
     "text": [
      "run39\n"
     ]
    },
    {
     "name": "stderr",
     "output_type": "stream",
     "text": [
      "/home/sophie/anaconda3/lib/python3.5/site-packages/ipykernel/__main__.py:21: VisibleDeprecationWarning: boolean index did not match indexed array along dimension 0; dimension is 1596 but corresponding boolean dimension is 1595\n",
      "/home/sophie/anaconda3/lib/python3.5/site-packages/ipykernel/__main__.py:22: VisibleDeprecationWarning: boolean index did not match indexed array along dimension 0; dimension is 1596 but corresponding boolean dimension is 1595\n",
      "/home/sophie/anaconda3/lib/python3.5/site-packages/ipykernel/__main__.py:18: VisibleDeprecationWarning: boolean index did not match indexed array along dimension 0; dimension is 1596 but corresponding boolean dimension is 1595\n",
      "/home/sophie/anaconda3/lib/python3.5/site-packages/ipykernel/__main__.py:19: VisibleDeprecationWarning: boolean index did not match indexed array along dimension 0; dimension is 1596 but corresponding boolean dimension is 1595\n"
     ]
    },
    {
     "name": "stdout",
     "output_type": "stream",
     "text": [
      "run4\n"
     ]
    },
    {
     "name": "stderr",
     "output_type": "stream",
     "text": [
      "/home/sophie/anaconda3/lib/python3.5/site-packages/ipykernel/__main__.py:21: VisibleDeprecationWarning: boolean index did not match indexed array along dimension 0; dimension is 1511 but corresponding boolean dimension is 1510\n",
      "/home/sophie/anaconda3/lib/python3.5/site-packages/ipykernel/__main__.py:22: VisibleDeprecationWarning: boolean index did not match indexed array along dimension 0; dimension is 1511 but corresponding boolean dimension is 1510\n",
      "/home/sophie/anaconda3/lib/python3.5/site-packages/ipykernel/__main__.py:18: VisibleDeprecationWarning: boolean index did not match indexed array along dimension 0; dimension is 1511 but corresponding boolean dimension is 1510\n",
      "/home/sophie/anaconda3/lib/python3.5/site-packages/ipykernel/__main__.py:19: VisibleDeprecationWarning: boolean index did not match indexed array along dimension 0; dimension is 1511 but corresponding boolean dimension is 1510\n"
     ]
    },
    {
     "name": "stdout",
     "output_type": "stream",
     "text": [
      "run40\n"
     ]
    },
    {
     "name": "stderr",
     "output_type": "stream",
     "text": [
      "/home/sophie/anaconda3/lib/python3.5/site-packages/ipykernel/__main__.py:21: VisibleDeprecationWarning: boolean index did not match indexed array along dimension 0; dimension is 1482 but corresponding boolean dimension is 1481\n",
      "/home/sophie/anaconda3/lib/python3.5/site-packages/ipykernel/__main__.py:22: VisibleDeprecationWarning: boolean index did not match indexed array along dimension 0; dimension is 1482 but corresponding boolean dimension is 1481\n",
      "/home/sophie/anaconda3/lib/python3.5/site-packages/ipykernel/__main__.py:18: VisibleDeprecationWarning: boolean index did not match indexed array along dimension 0; dimension is 1482 but corresponding boolean dimension is 1481\n",
      "/home/sophie/anaconda3/lib/python3.5/site-packages/ipykernel/__main__.py:19: VisibleDeprecationWarning: boolean index did not match indexed array along dimension 0; dimension is 1482 but corresponding boolean dimension is 1481\n"
     ]
    },
    {
     "name": "stdout",
     "output_type": "stream",
     "text": [
      "run41\n"
     ]
    },
    {
     "name": "stderr",
     "output_type": "stream",
     "text": [
      "/home/sophie/anaconda3/lib/python3.5/site-packages/ipykernel/__main__.py:21: VisibleDeprecationWarning: boolean index did not match indexed array along dimension 0; dimension is 1403 but corresponding boolean dimension is 1402\n",
      "/home/sophie/anaconda3/lib/python3.5/site-packages/ipykernel/__main__.py:22: VisibleDeprecationWarning: boolean index did not match indexed array along dimension 0; dimension is 1403 but corresponding boolean dimension is 1402\n",
      "/home/sophie/anaconda3/lib/python3.5/site-packages/ipykernel/__main__.py:18: VisibleDeprecationWarning: boolean index did not match indexed array along dimension 0; dimension is 1403 but corresponding boolean dimension is 1402\n",
      "/home/sophie/anaconda3/lib/python3.5/site-packages/ipykernel/__main__.py:19: VisibleDeprecationWarning: boolean index did not match indexed array along dimension 0; dimension is 1403 but corresponding boolean dimension is 1402\n"
     ]
    },
    {
     "name": "stdout",
     "output_type": "stream",
     "text": [
      "run42\n"
     ]
    },
    {
     "name": "stderr",
     "output_type": "stream",
     "text": [
      "/home/sophie/anaconda3/lib/python3.5/site-packages/ipykernel/__main__.py:21: VisibleDeprecationWarning: boolean index did not match indexed array along dimension 0; dimension is 1545 but corresponding boolean dimension is 1544\n",
      "/home/sophie/anaconda3/lib/python3.5/site-packages/ipykernel/__main__.py:22: VisibleDeprecationWarning: boolean index did not match indexed array along dimension 0; dimension is 1545 but corresponding boolean dimension is 1544\n",
      "/home/sophie/anaconda3/lib/python3.5/site-packages/ipykernel/__main__.py:18: VisibleDeprecationWarning: boolean index did not match indexed array along dimension 0; dimension is 1545 but corresponding boolean dimension is 1544\n",
      "/home/sophie/anaconda3/lib/python3.5/site-packages/ipykernel/__main__.py:19: VisibleDeprecationWarning: boolean index did not match indexed array along dimension 0; dimension is 1545 but corresponding boolean dimension is 1544\n"
     ]
    },
    {
     "name": "stdout",
     "output_type": "stream",
     "text": [
      "run43\n",
      "run44\n"
     ]
    },
    {
     "name": "stderr",
     "output_type": "stream",
     "text": [
      "/home/sophie/anaconda3/lib/python3.5/site-packages/ipykernel/__main__.py:21: VisibleDeprecationWarning: boolean index did not match indexed array along dimension 0; dimension is 1375 but corresponding boolean dimension is 1374\n",
      "/home/sophie/anaconda3/lib/python3.5/site-packages/ipykernel/__main__.py:22: VisibleDeprecationWarning: boolean index did not match indexed array along dimension 0; dimension is 1375 but corresponding boolean dimension is 1374\n",
      "/home/sophie/anaconda3/lib/python3.5/site-packages/ipykernel/__main__.py:18: VisibleDeprecationWarning: boolean index did not match indexed array along dimension 0; dimension is 1375 but corresponding boolean dimension is 1374\n",
      "/home/sophie/anaconda3/lib/python3.5/site-packages/ipykernel/__main__.py:19: VisibleDeprecationWarning: boolean index did not match indexed array along dimension 0; dimension is 1375 but corresponding boolean dimension is 1374\n"
     ]
    },
    {
     "name": "stdout",
     "output_type": "stream",
     "text": [
      "run45\n"
     ]
    },
    {
     "name": "stderr",
     "output_type": "stream",
     "text": [
      "/home/sophie/anaconda3/lib/python3.5/site-packages/ipykernel/__main__.py:21: VisibleDeprecationWarning: boolean index did not match indexed array along dimension 0; dimension is 1513 but corresponding boolean dimension is 1512\n",
      "/home/sophie/anaconda3/lib/python3.5/site-packages/ipykernel/__main__.py:22: VisibleDeprecationWarning: boolean index did not match indexed array along dimension 0; dimension is 1513 but corresponding boolean dimension is 1512\n",
      "/home/sophie/anaconda3/lib/python3.5/site-packages/ipykernel/__main__.py:18: VisibleDeprecationWarning: boolean index did not match indexed array along dimension 0; dimension is 1513 but corresponding boolean dimension is 1512\n",
      "/home/sophie/anaconda3/lib/python3.5/site-packages/ipykernel/__main__.py:19: VisibleDeprecationWarning: boolean index did not match indexed array along dimension 0; dimension is 1513 but corresponding boolean dimension is 1512\n"
     ]
    },
    {
     "name": "stdout",
     "output_type": "stream",
     "text": [
      "run46\n"
     ]
    },
    {
     "name": "stderr",
     "output_type": "stream",
     "text": [
      "/home/sophie/anaconda3/lib/python3.5/site-packages/ipykernel/__main__.py:21: VisibleDeprecationWarning: boolean index did not match indexed array along dimension 0; dimension is 1343 but corresponding boolean dimension is 1342\n",
      "/home/sophie/anaconda3/lib/python3.5/site-packages/ipykernel/__main__.py:22: VisibleDeprecationWarning: boolean index did not match indexed array along dimension 0; dimension is 1343 but corresponding boolean dimension is 1342\n",
      "/home/sophie/anaconda3/lib/python3.5/site-packages/ipykernel/__main__.py:18: VisibleDeprecationWarning: boolean index did not match indexed array along dimension 0; dimension is 1343 but corresponding boolean dimension is 1342\n",
      "/home/sophie/anaconda3/lib/python3.5/site-packages/ipykernel/__main__.py:19: VisibleDeprecationWarning: boolean index did not match indexed array along dimension 0; dimension is 1343 but corresponding boolean dimension is 1342\n"
     ]
    },
    {
     "name": "stdout",
     "output_type": "stream",
     "text": [
      "run48\n"
     ]
    },
    {
     "name": "stderr",
     "output_type": "stream",
     "text": [
      "/home/sophie/anaconda3/lib/python3.5/site-packages/ipykernel/__main__.py:21: VisibleDeprecationWarning: boolean index did not match indexed array along dimension 0; dimension is 1552 but corresponding boolean dimension is 1551\n",
      "/home/sophie/anaconda3/lib/python3.5/site-packages/ipykernel/__main__.py:22: VisibleDeprecationWarning: boolean index did not match indexed array along dimension 0; dimension is 1552 but corresponding boolean dimension is 1551\n",
      "/home/sophie/anaconda3/lib/python3.5/site-packages/ipykernel/__main__.py:18: VisibleDeprecationWarning: boolean index did not match indexed array along dimension 0; dimension is 1552 but corresponding boolean dimension is 1551\n",
      "/home/sophie/anaconda3/lib/python3.5/site-packages/ipykernel/__main__.py:19: VisibleDeprecationWarning: boolean index did not match indexed array along dimension 0; dimension is 1552 but corresponding boolean dimension is 1551\n"
     ]
    },
    {
     "name": "stdout",
     "output_type": "stream",
     "text": [
      "run49\n"
     ]
    },
    {
     "name": "stderr",
     "output_type": "stream",
     "text": [
      "/home/sophie/anaconda3/lib/python3.5/site-packages/ipykernel/__main__.py:21: VisibleDeprecationWarning: boolean index did not match indexed array along dimension 0; dimension is 1550 but corresponding boolean dimension is 1549\n",
      "/home/sophie/anaconda3/lib/python3.5/site-packages/ipykernel/__main__.py:22: VisibleDeprecationWarning: boolean index did not match indexed array along dimension 0; dimension is 1550 but corresponding boolean dimension is 1549\n",
      "/home/sophie/anaconda3/lib/python3.5/site-packages/ipykernel/__main__.py:18: VisibleDeprecationWarning: boolean index did not match indexed array along dimension 0; dimension is 1550 but corresponding boolean dimension is 1549\n",
      "/home/sophie/anaconda3/lib/python3.5/site-packages/ipykernel/__main__.py:19: VisibleDeprecationWarning: boolean index did not match indexed array along dimension 0; dimension is 1550 but corresponding boolean dimension is 1549\n"
     ]
    },
    {
     "name": "stdout",
     "output_type": "stream",
     "text": [
      "run5\n"
     ]
    },
    {
     "name": "stderr",
     "output_type": "stream",
     "text": [
      "/home/sophie/anaconda3/lib/python3.5/site-packages/ipykernel/__main__.py:21: VisibleDeprecationWarning: boolean index did not match indexed array along dimension 0; dimension is 1535 but corresponding boolean dimension is 1534\n",
      "/home/sophie/anaconda3/lib/python3.5/site-packages/ipykernel/__main__.py:22: VisibleDeprecationWarning: boolean index did not match indexed array along dimension 0; dimension is 1535 but corresponding boolean dimension is 1534\n",
      "/home/sophie/anaconda3/lib/python3.5/site-packages/ipykernel/__main__.py:18: VisibleDeprecationWarning: boolean index did not match indexed array along dimension 0; dimension is 1535 but corresponding boolean dimension is 1534\n",
      "/home/sophie/anaconda3/lib/python3.5/site-packages/ipykernel/__main__.py:19: VisibleDeprecationWarning: boolean index did not match indexed array along dimension 0; dimension is 1535 but corresponding boolean dimension is 1534\n"
     ]
    },
    {
     "name": "stdout",
     "output_type": "stream",
     "text": [
      "run50\n",
      "run51\n"
     ]
    },
    {
     "name": "stderr",
     "output_type": "stream",
     "text": [
      "/home/sophie/anaconda3/lib/python3.5/site-packages/ipykernel/__main__.py:21: VisibleDeprecationWarning: boolean index did not match indexed array along dimension 0; dimension is 1430 but corresponding boolean dimension is 1429\n",
      "/home/sophie/anaconda3/lib/python3.5/site-packages/ipykernel/__main__.py:22: VisibleDeprecationWarning: boolean index did not match indexed array along dimension 0; dimension is 1430 but corresponding boolean dimension is 1429\n",
      "/home/sophie/anaconda3/lib/python3.5/site-packages/ipykernel/__main__.py:18: VisibleDeprecationWarning: boolean index did not match indexed array along dimension 0; dimension is 1430 but corresponding boolean dimension is 1429\n",
      "/home/sophie/anaconda3/lib/python3.5/site-packages/ipykernel/__main__.py:19: VisibleDeprecationWarning: boolean index did not match indexed array along dimension 0; dimension is 1430 but corresponding boolean dimension is 1429\n"
     ]
    },
    {
     "name": "stdout",
     "output_type": "stream",
     "text": [
      "run52\n"
     ]
    },
    {
     "name": "stderr",
     "output_type": "stream",
     "text": [
      "/home/sophie/anaconda3/lib/python3.5/site-packages/ipykernel/__main__.py:21: VisibleDeprecationWarning: boolean index did not match indexed array along dimension 0; dimension is 1400 but corresponding boolean dimension is 1399\n",
      "/home/sophie/anaconda3/lib/python3.5/site-packages/ipykernel/__main__.py:22: VisibleDeprecationWarning: boolean index did not match indexed array along dimension 0; dimension is 1400 but corresponding boolean dimension is 1399\n",
      "/home/sophie/anaconda3/lib/python3.5/site-packages/ipykernel/__main__.py:18: VisibleDeprecationWarning: boolean index did not match indexed array along dimension 0; dimension is 1400 but corresponding boolean dimension is 1399\n",
      "/home/sophie/anaconda3/lib/python3.5/site-packages/ipykernel/__main__.py:19: VisibleDeprecationWarning: boolean index did not match indexed array along dimension 0; dimension is 1400 but corresponding boolean dimension is 1399\n"
     ]
    },
    {
     "name": "stdout",
     "output_type": "stream",
     "text": [
      "run53\n"
     ]
    },
    {
     "name": "stderr",
     "output_type": "stream",
     "text": [
      "/home/sophie/anaconda3/lib/python3.5/site-packages/ipykernel/__main__.py:21: VisibleDeprecationWarning: boolean index did not match indexed array along dimension 0; dimension is 1523 but corresponding boolean dimension is 1522\n",
      "/home/sophie/anaconda3/lib/python3.5/site-packages/ipykernel/__main__.py:22: VisibleDeprecationWarning: boolean index did not match indexed array along dimension 0; dimension is 1523 but corresponding boolean dimension is 1522\n",
      "/home/sophie/anaconda3/lib/python3.5/site-packages/ipykernel/__main__.py:18: VisibleDeprecationWarning: boolean index did not match indexed array along dimension 0; dimension is 1523 but corresponding boolean dimension is 1522\n",
      "/home/sophie/anaconda3/lib/python3.5/site-packages/ipykernel/__main__.py:19: VisibleDeprecationWarning: boolean index did not match indexed array along dimension 0; dimension is 1523 but corresponding boolean dimension is 1522\n"
     ]
    },
    {
     "name": "stdout",
     "output_type": "stream",
     "text": [
      "run54\n"
     ]
    },
    {
     "name": "stderr",
     "output_type": "stream",
     "text": [
      "/home/sophie/anaconda3/lib/python3.5/site-packages/ipykernel/__main__.py:21: VisibleDeprecationWarning: boolean index did not match indexed array along dimension 0; dimension is 1502 but corresponding boolean dimension is 1501\n",
      "/home/sophie/anaconda3/lib/python3.5/site-packages/ipykernel/__main__.py:22: VisibleDeprecationWarning: boolean index did not match indexed array along dimension 0; dimension is 1502 but corresponding boolean dimension is 1501\n",
      "/home/sophie/anaconda3/lib/python3.5/site-packages/ipykernel/__main__.py:18: VisibleDeprecationWarning: boolean index did not match indexed array along dimension 0; dimension is 1502 but corresponding boolean dimension is 1501\n",
      "/home/sophie/anaconda3/lib/python3.5/site-packages/ipykernel/__main__.py:19: VisibleDeprecationWarning: boolean index did not match indexed array along dimension 0; dimension is 1502 but corresponding boolean dimension is 1501\n"
     ]
    },
    {
     "name": "stdout",
     "output_type": "stream",
     "text": [
      "run55\n"
     ]
    },
    {
     "name": "stderr",
     "output_type": "stream",
     "text": [
      "/home/sophie/anaconda3/lib/python3.5/site-packages/ipykernel/__main__.py:21: VisibleDeprecationWarning: boolean index did not match indexed array along dimension 0; dimension is 1562 but corresponding boolean dimension is 1561\n",
      "/home/sophie/anaconda3/lib/python3.5/site-packages/ipykernel/__main__.py:22: VisibleDeprecationWarning: boolean index did not match indexed array along dimension 0; dimension is 1562 but corresponding boolean dimension is 1561\n",
      "/home/sophie/anaconda3/lib/python3.5/site-packages/ipykernel/__main__.py:18: VisibleDeprecationWarning: boolean index did not match indexed array along dimension 0; dimension is 1562 but corresponding boolean dimension is 1561\n",
      "/home/sophie/anaconda3/lib/python3.5/site-packages/ipykernel/__main__.py:19: VisibleDeprecationWarning: boolean index did not match indexed array along dimension 0; dimension is 1562 but corresponding boolean dimension is 1561\n"
     ]
    },
    {
     "name": "stdout",
     "output_type": "stream",
     "text": [
      "run56\n"
     ]
    },
    {
     "name": "stderr",
     "output_type": "stream",
     "text": [
      "/home/sophie/anaconda3/lib/python3.5/site-packages/ipykernel/__main__.py:21: VisibleDeprecationWarning: boolean index did not match indexed array along dimension 0; dimension is 1546 but corresponding boolean dimension is 1545\n",
      "/home/sophie/anaconda3/lib/python3.5/site-packages/ipykernel/__main__.py:22: VisibleDeprecationWarning: boolean index did not match indexed array along dimension 0; dimension is 1546 but corresponding boolean dimension is 1545\n",
      "/home/sophie/anaconda3/lib/python3.5/site-packages/ipykernel/__main__.py:18: VisibleDeprecationWarning: boolean index did not match indexed array along dimension 0; dimension is 1546 but corresponding boolean dimension is 1545\n",
      "/home/sophie/anaconda3/lib/python3.5/site-packages/ipykernel/__main__.py:19: VisibleDeprecationWarning: boolean index did not match indexed array along dimension 0; dimension is 1546 but corresponding boolean dimension is 1545\n"
     ]
    },
    {
     "name": "stdout",
     "output_type": "stream",
     "text": [
      "run57\n"
     ]
    },
    {
     "name": "stderr",
     "output_type": "stream",
     "text": [
      "/home/sophie/anaconda3/lib/python3.5/site-packages/ipykernel/__main__.py:21: VisibleDeprecationWarning: boolean index did not match indexed array along dimension 0; dimension is 1605 but corresponding boolean dimension is 1604\n",
      "/home/sophie/anaconda3/lib/python3.5/site-packages/ipykernel/__main__.py:22: VisibleDeprecationWarning: boolean index did not match indexed array along dimension 0; dimension is 1605 but corresponding boolean dimension is 1604\n",
      "/home/sophie/anaconda3/lib/python3.5/site-packages/ipykernel/__main__.py:18: VisibleDeprecationWarning: boolean index did not match indexed array along dimension 0; dimension is 1605 but corresponding boolean dimension is 1604\n",
      "/home/sophie/anaconda3/lib/python3.5/site-packages/ipykernel/__main__.py:19: VisibleDeprecationWarning: boolean index did not match indexed array along dimension 0; dimension is 1605 but corresponding boolean dimension is 1604\n"
     ]
    },
    {
     "name": "stdout",
     "output_type": "stream",
     "text": [
      "run58\n"
     ]
    },
    {
     "name": "stderr",
     "output_type": "stream",
     "text": [
      "/home/sophie/anaconda3/lib/python3.5/site-packages/ipykernel/__main__.py:21: VisibleDeprecationWarning: boolean index did not match indexed array along dimension 0; dimension is 1479 but corresponding boolean dimension is 1478\n",
      "/home/sophie/anaconda3/lib/python3.5/site-packages/ipykernel/__main__.py:22: VisibleDeprecationWarning: boolean index did not match indexed array along dimension 0; dimension is 1479 but corresponding boolean dimension is 1478\n",
      "/home/sophie/anaconda3/lib/python3.5/site-packages/ipykernel/__main__.py:18: VisibleDeprecationWarning: boolean index did not match indexed array along dimension 0; dimension is 1479 but corresponding boolean dimension is 1478\n",
      "/home/sophie/anaconda3/lib/python3.5/site-packages/ipykernel/__main__.py:19: VisibleDeprecationWarning: boolean index did not match indexed array along dimension 0; dimension is 1479 but corresponding boolean dimension is 1478\n"
     ]
    },
    {
     "name": "stdout",
     "output_type": "stream",
     "text": [
      "run59\n",
      "run6\n"
     ]
    },
    {
     "name": "stderr",
     "output_type": "stream",
     "text": [
      "/home/sophie/anaconda3/lib/python3.5/site-packages/ipykernel/__main__.py:21: VisibleDeprecationWarning: boolean index did not match indexed array along dimension 0; dimension is 1555 but corresponding boolean dimension is 1554\n",
      "/home/sophie/anaconda3/lib/python3.5/site-packages/ipykernel/__main__.py:22: VisibleDeprecationWarning: boolean index did not match indexed array along dimension 0; dimension is 1555 but corresponding boolean dimension is 1554\n",
      "/home/sophie/anaconda3/lib/python3.5/site-packages/ipykernel/__main__.py:18: VisibleDeprecationWarning: boolean index did not match indexed array along dimension 0; dimension is 1555 but corresponding boolean dimension is 1554\n",
      "/home/sophie/anaconda3/lib/python3.5/site-packages/ipykernel/__main__.py:19: VisibleDeprecationWarning: boolean index did not match indexed array along dimension 0; dimension is 1555 but corresponding boolean dimension is 1554\n"
     ]
    },
    {
     "name": "stdout",
     "output_type": "stream",
     "text": [
      "run60\n"
     ]
    },
    {
     "name": "stderr",
     "output_type": "stream",
     "text": [
      "/home/sophie/anaconda3/lib/python3.5/site-packages/ipykernel/__main__.py:21: VisibleDeprecationWarning: boolean index did not match indexed array along dimension 0; dimension is 1540 but corresponding boolean dimension is 1539\n",
      "/home/sophie/anaconda3/lib/python3.5/site-packages/ipykernel/__main__.py:22: VisibleDeprecationWarning: boolean index did not match indexed array along dimension 0; dimension is 1540 but corresponding boolean dimension is 1539\n",
      "/home/sophie/anaconda3/lib/python3.5/site-packages/ipykernel/__main__.py:18: VisibleDeprecationWarning: boolean index did not match indexed array along dimension 0; dimension is 1540 but corresponding boolean dimension is 1539\n",
      "/home/sophie/anaconda3/lib/python3.5/site-packages/ipykernel/__main__.py:19: VisibleDeprecationWarning: boolean index did not match indexed array along dimension 0; dimension is 1540 but corresponding boolean dimension is 1539\n"
     ]
    },
    {
     "name": "stdout",
     "output_type": "stream",
     "text": [
      "run61\n"
     ]
    },
    {
     "name": "stderr",
     "output_type": "stream",
     "text": [
      "/home/sophie/anaconda3/lib/python3.5/site-packages/ipykernel/__main__.py:21: VisibleDeprecationWarning: boolean index did not match indexed array along dimension 0; dimension is 1435 but corresponding boolean dimension is 1434\n",
      "/home/sophie/anaconda3/lib/python3.5/site-packages/ipykernel/__main__.py:22: VisibleDeprecationWarning: boolean index did not match indexed array along dimension 0; dimension is 1435 but corresponding boolean dimension is 1434\n",
      "/home/sophie/anaconda3/lib/python3.5/site-packages/ipykernel/__main__.py:18: VisibleDeprecationWarning: boolean index did not match indexed array along dimension 0; dimension is 1435 but corresponding boolean dimension is 1434\n",
      "/home/sophie/anaconda3/lib/python3.5/site-packages/ipykernel/__main__.py:19: VisibleDeprecationWarning: boolean index did not match indexed array along dimension 0; dimension is 1435 but corresponding boolean dimension is 1434\n"
     ]
    },
    {
     "name": "stdout",
     "output_type": "stream",
     "text": [
      "run62\n",
      "run63\n"
     ]
    },
    {
     "name": "stderr",
     "output_type": "stream",
     "text": [
      "/home/sophie/anaconda3/lib/python3.5/site-packages/ipykernel/__main__.py:21: VisibleDeprecationWarning: boolean index did not match indexed array along dimension 0; dimension is 1568 but corresponding boolean dimension is 1567\n",
      "/home/sophie/anaconda3/lib/python3.5/site-packages/ipykernel/__main__.py:22: VisibleDeprecationWarning: boolean index did not match indexed array along dimension 0; dimension is 1568 but corresponding boolean dimension is 1567\n",
      "/home/sophie/anaconda3/lib/python3.5/site-packages/ipykernel/__main__.py:18: VisibleDeprecationWarning: boolean index did not match indexed array along dimension 0; dimension is 1568 but corresponding boolean dimension is 1567\n",
      "/home/sophie/anaconda3/lib/python3.5/site-packages/ipykernel/__main__.py:19: VisibleDeprecationWarning: boolean index did not match indexed array along dimension 0; dimension is 1568 but corresponding boolean dimension is 1567\n"
     ]
    },
    {
     "name": "stdout",
     "output_type": "stream",
     "text": [
      "run64\n"
     ]
    },
    {
     "name": "stderr",
     "output_type": "stream",
     "text": [
      "/home/sophie/anaconda3/lib/python3.5/site-packages/ipykernel/__main__.py:21: VisibleDeprecationWarning: boolean index did not match indexed array along dimension 0; dimension is 1355 but corresponding boolean dimension is 1354\n",
      "/home/sophie/anaconda3/lib/python3.5/site-packages/ipykernel/__main__.py:22: VisibleDeprecationWarning: boolean index did not match indexed array along dimension 0; dimension is 1355 but corresponding boolean dimension is 1354\n",
      "/home/sophie/anaconda3/lib/python3.5/site-packages/ipykernel/__main__.py:18: VisibleDeprecationWarning: boolean index did not match indexed array along dimension 0; dimension is 1355 but corresponding boolean dimension is 1354\n",
      "/home/sophie/anaconda3/lib/python3.5/site-packages/ipykernel/__main__.py:19: VisibleDeprecationWarning: boolean index did not match indexed array along dimension 0; dimension is 1355 but corresponding boolean dimension is 1354\n"
     ]
    },
    {
     "name": "stdout",
     "output_type": "stream",
     "text": [
      "run65\n"
     ]
    },
    {
     "name": "stderr",
     "output_type": "stream",
     "text": [
      "/home/sophie/anaconda3/lib/python3.5/site-packages/ipykernel/__main__.py:21: VisibleDeprecationWarning: boolean index did not match indexed array along dimension 0; dimension is 1539 but corresponding boolean dimension is 1538\n",
      "/home/sophie/anaconda3/lib/python3.5/site-packages/ipykernel/__main__.py:22: VisibleDeprecationWarning: boolean index did not match indexed array along dimension 0; dimension is 1539 but corresponding boolean dimension is 1538\n",
      "/home/sophie/anaconda3/lib/python3.5/site-packages/ipykernel/__main__.py:18: VisibleDeprecationWarning: boolean index did not match indexed array along dimension 0; dimension is 1539 but corresponding boolean dimension is 1538\n",
      "/home/sophie/anaconda3/lib/python3.5/site-packages/ipykernel/__main__.py:19: VisibleDeprecationWarning: boolean index did not match indexed array along dimension 0; dimension is 1539 but corresponding boolean dimension is 1538\n"
     ]
    },
    {
     "name": "stdout",
     "output_type": "stream",
     "text": [
      "run67\n"
     ]
    },
    {
     "name": "stderr",
     "output_type": "stream",
     "text": [
      "/home/sophie/anaconda3/lib/python3.5/site-packages/ipykernel/__main__.py:21: VisibleDeprecationWarning: boolean index did not match indexed array along dimension 0; dimension is 1447 but corresponding boolean dimension is 1446\n",
      "/home/sophie/anaconda3/lib/python3.5/site-packages/ipykernel/__main__.py:22: VisibleDeprecationWarning: boolean index did not match indexed array along dimension 0; dimension is 1447 but corresponding boolean dimension is 1446\n",
      "/home/sophie/anaconda3/lib/python3.5/site-packages/ipykernel/__main__.py:18: VisibleDeprecationWarning: boolean index did not match indexed array along dimension 0; dimension is 1447 but corresponding boolean dimension is 1446\n",
      "/home/sophie/anaconda3/lib/python3.5/site-packages/ipykernel/__main__.py:19: VisibleDeprecationWarning: boolean index did not match indexed array along dimension 0; dimension is 1447 but corresponding boolean dimension is 1446\n"
     ]
    },
    {
     "name": "stdout",
     "output_type": "stream",
     "text": [
      "run68\n",
      "run69\n"
     ]
    },
    {
     "name": "stderr",
     "output_type": "stream",
     "text": [
      "/home/sophie/anaconda3/lib/python3.5/site-packages/ipykernel/__main__.py:21: VisibleDeprecationWarning: boolean index did not match indexed array along dimension 0; dimension is 1365 but corresponding boolean dimension is 1364\n",
      "/home/sophie/anaconda3/lib/python3.5/site-packages/ipykernel/__main__.py:22: VisibleDeprecationWarning: boolean index did not match indexed array along dimension 0; dimension is 1365 but corresponding boolean dimension is 1364\n",
      "/home/sophie/anaconda3/lib/python3.5/site-packages/ipykernel/__main__.py:18: VisibleDeprecationWarning: boolean index did not match indexed array along dimension 0; dimension is 1365 but corresponding boolean dimension is 1364\n",
      "/home/sophie/anaconda3/lib/python3.5/site-packages/ipykernel/__main__.py:19: VisibleDeprecationWarning: boolean index did not match indexed array along dimension 0; dimension is 1365 but corresponding boolean dimension is 1364\n"
     ]
    },
    {
     "name": "stdout",
     "output_type": "stream",
     "text": [
      "run7\n"
     ]
    },
    {
     "name": "stderr",
     "output_type": "stream",
     "text": [
      "/home/sophie/anaconda3/lib/python3.5/site-packages/ipykernel/__main__.py:21: VisibleDeprecationWarning: boolean index did not match indexed array along dimension 0; dimension is 1454 but corresponding boolean dimension is 1453\n",
      "/home/sophie/anaconda3/lib/python3.5/site-packages/ipykernel/__main__.py:22: VisibleDeprecationWarning: boolean index did not match indexed array along dimension 0; dimension is 1454 but corresponding boolean dimension is 1453\n",
      "/home/sophie/anaconda3/lib/python3.5/site-packages/ipykernel/__main__.py:18: VisibleDeprecationWarning: boolean index did not match indexed array along dimension 0; dimension is 1454 but corresponding boolean dimension is 1453\n",
      "/home/sophie/anaconda3/lib/python3.5/site-packages/ipykernel/__main__.py:19: VisibleDeprecationWarning: boolean index did not match indexed array along dimension 0; dimension is 1454 but corresponding boolean dimension is 1453\n"
     ]
    },
    {
     "name": "stdout",
     "output_type": "stream",
     "text": [
      "run70\n"
     ]
    },
    {
     "name": "stderr",
     "output_type": "stream",
     "text": [
      "/home/sophie/anaconda3/lib/python3.5/site-packages/ipykernel/__main__.py:21: VisibleDeprecationWarning: boolean index did not match indexed array along dimension 0; dimension is 1553 but corresponding boolean dimension is 1552\n",
      "/home/sophie/anaconda3/lib/python3.5/site-packages/ipykernel/__main__.py:22: VisibleDeprecationWarning: boolean index did not match indexed array along dimension 0; dimension is 1553 but corresponding boolean dimension is 1552\n",
      "/home/sophie/anaconda3/lib/python3.5/site-packages/ipykernel/__main__.py:18: VisibleDeprecationWarning: boolean index did not match indexed array along dimension 0; dimension is 1553 but corresponding boolean dimension is 1552\n",
      "/home/sophie/anaconda3/lib/python3.5/site-packages/ipykernel/__main__.py:19: VisibleDeprecationWarning: boolean index did not match indexed array along dimension 0; dimension is 1553 but corresponding boolean dimension is 1552\n"
     ]
    },
    {
     "name": "stdout",
     "output_type": "stream",
     "text": [
      "run71\n",
      "run72\n"
     ]
    },
    {
     "name": "stderr",
     "output_type": "stream",
     "text": [
      "/home/sophie/anaconda3/lib/python3.5/site-packages/ipykernel/__main__.py:21: VisibleDeprecationWarning: boolean index did not match indexed array along dimension 0; dimension is 1432 but corresponding boolean dimension is 1431\n",
      "/home/sophie/anaconda3/lib/python3.5/site-packages/ipykernel/__main__.py:22: VisibleDeprecationWarning: boolean index did not match indexed array along dimension 0; dimension is 1432 but corresponding boolean dimension is 1431\n",
      "/home/sophie/anaconda3/lib/python3.5/site-packages/ipykernel/__main__.py:18: VisibleDeprecationWarning: boolean index did not match indexed array along dimension 0; dimension is 1432 but corresponding boolean dimension is 1431\n",
      "/home/sophie/anaconda3/lib/python3.5/site-packages/ipykernel/__main__.py:19: VisibleDeprecationWarning: boolean index did not match indexed array along dimension 0; dimension is 1432 but corresponding boolean dimension is 1431\n"
     ]
    },
    {
     "name": "stdout",
     "output_type": "stream",
     "text": [
      "run73\n"
     ]
    },
    {
     "name": "stderr",
     "output_type": "stream",
     "text": [
      "/home/sophie/anaconda3/lib/python3.5/site-packages/ipykernel/__main__.py:21: VisibleDeprecationWarning: boolean index did not match indexed array along dimension 0; dimension is 1128 but corresponding boolean dimension is 1127\n",
      "/home/sophie/anaconda3/lib/python3.5/site-packages/ipykernel/__main__.py:22: VisibleDeprecationWarning: boolean index did not match indexed array along dimension 0; dimension is 1128 but corresponding boolean dimension is 1127\n",
      "/home/sophie/anaconda3/lib/python3.5/site-packages/ipykernel/__main__.py:18: VisibleDeprecationWarning: boolean index did not match indexed array along dimension 0; dimension is 1128 but corresponding boolean dimension is 1127\n",
      "/home/sophie/anaconda3/lib/python3.5/site-packages/ipykernel/__main__.py:19: VisibleDeprecationWarning: boolean index did not match indexed array along dimension 0; dimension is 1128 but corresponding boolean dimension is 1127\n"
     ]
    },
    {
     "name": "stdout",
     "output_type": "stream",
     "text": [
      "run74\n"
     ]
    },
    {
     "name": "stderr",
     "output_type": "stream",
     "text": [
      "/home/sophie/anaconda3/lib/python3.5/site-packages/ipykernel/__main__.py:21: VisibleDeprecationWarning: boolean index did not match indexed array along dimension 0; dimension is 1243 but corresponding boolean dimension is 1242\n",
      "/home/sophie/anaconda3/lib/python3.5/site-packages/ipykernel/__main__.py:22: VisibleDeprecationWarning: boolean index did not match indexed array along dimension 0; dimension is 1243 but corresponding boolean dimension is 1242\n",
      "/home/sophie/anaconda3/lib/python3.5/site-packages/ipykernel/__main__.py:18: VisibleDeprecationWarning: boolean index did not match indexed array along dimension 0; dimension is 1243 but corresponding boolean dimension is 1242\n",
      "/home/sophie/anaconda3/lib/python3.5/site-packages/ipykernel/__main__.py:19: VisibleDeprecationWarning: boolean index did not match indexed array along dimension 0; dimension is 1243 but corresponding boolean dimension is 1242\n"
     ]
    },
    {
     "name": "stdout",
     "output_type": "stream",
     "text": [
      "run75\n"
     ]
    },
    {
     "name": "stderr",
     "output_type": "stream",
     "text": [
      "/home/sophie/anaconda3/lib/python3.5/site-packages/ipykernel/__main__.py:21: VisibleDeprecationWarning: boolean index did not match indexed array along dimension 0; dimension is 1499 but corresponding boolean dimension is 1498\n",
      "/home/sophie/anaconda3/lib/python3.5/site-packages/ipykernel/__main__.py:22: VisibleDeprecationWarning: boolean index did not match indexed array along dimension 0; dimension is 1499 but corresponding boolean dimension is 1498\n",
      "/home/sophie/anaconda3/lib/python3.5/site-packages/ipykernel/__main__.py:18: VisibleDeprecationWarning: boolean index did not match indexed array along dimension 0; dimension is 1499 but corresponding boolean dimension is 1498\n",
      "/home/sophie/anaconda3/lib/python3.5/site-packages/ipykernel/__main__.py:19: VisibleDeprecationWarning: boolean index did not match indexed array along dimension 0; dimension is 1499 but corresponding boolean dimension is 1498\n"
     ]
    },
    {
     "name": "stdout",
     "output_type": "stream",
     "text": [
      "run76\n"
     ]
    },
    {
     "name": "stderr",
     "output_type": "stream",
     "text": [
      "/home/sophie/anaconda3/lib/python3.5/site-packages/ipykernel/__main__.py:21: VisibleDeprecationWarning: boolean index did not match indexed array along dimension 0; dimension is 1477 but corresponding boolean dimension is 1476\n",
      "/home/sophie/anaconda3/lib/python3.5/site-packages/ipykernel/__main__.py:22: VisibleDeprecationWarning: boolean index did not match indexed array along dimension 0; dimension is 1477 but corresponding boolean dimension is 1476\n",
      "/home/sophie/anaconda3/lib/python3.5/site-packages/ipykernel/__main__.py:18: VisibleDeprecationWarning: boolean index did not match indexed array along dimension 0; dimension is 1477 but corresponding boolean dimension is 1476\n",
      "/home/sophie/anaconda3/lib/python3.5/site-packages/ipykernel/__main__.py:19: VisibleDeprecationWarning: boolean index did not match indexed array along dimension 0; dimension is 1477 but corresponding boolean dimension is 1476\n"
     ]
    },
    {
     "name": "stdout",
     "output_type": "stream",
     "text": [
      "run77\n",
      "run78\n"
     ]
    },
    {
     "name": "stderr",
     "output_type": "stream",
     "text": [
      "/home/sophie/anaconda3/lib/python3.5/site-packages/ipykernel/__main__.py:21: VisibleDeprecationWarning: boolean index did not match indexed array along dimension 0; dimension is 1594 but corresponding boolean dimension is 1593\n",
      "/home/sophie/anaconda3/lib/python3.5/site-packages/ipykernel/__main__.py:22: VisibleDeprecationWarning: boolean index did not match indexed array along dimension 0; dimension is 1594 but corresponding boolean dimension is 1593\n",
      "/home/sophie/anaconda3/lib/python3.5/site-packages/ipykernel/__main__.py:18: VisibleDeprecationWarning: boolean index did not match indexed array along dimension 0; dimension is 1594 but corresponding boolean dimension is 1593\n",
      "/home/sophie/anaconda3/lib/python3.5/site-packages/ipykernel/__main__.py:19: VisibleDeprecationWarning: boolean index did not match indexed array along dimension 0; dimension is 1594 but corresponding boolean dimension is 1593\n"
     ]
    },
    {
     "name": "stdout",
     "output_type": "stream",
     "text": [
      "run79\n"
     ]
    },
    {
     "name": "stderr",
     "output_type": "stream",
     "text": [
      "/home/sophie/anaconda3/lib/python3.5/site-packages/ipykernel/__main__.py:21: VisibleDeprecationWarning: boolean index did not match indexed array along dimension 0; dimension is 1575 but corresponding boolean dimension is 1574\n",
      "/home/sophie/anaconda3/lib/python3.5/site-packages/ipykernel/__main__.py:22: VisibleDeprecationWarning: boolean index did not match indexed array along dimension 0; dimension is 1575 but corresponding boolean dimension is 1574\n",
      "/home/sophie/anaconda3/lib/python3.5/site-packages/ipykernel/__main__.py:18: VisibleDeprecationWarning: boolean index did not match indexed array along dimension 0; dimension is 1575 but corresponding boolean dimension is 1574\n",
      "/home/sophie/anaconda3/lib/python3.5/site-packages/ipykernel/__main__.py:19: VisibleDeprecationWarning: boolean index did not match indexed array along dimension 0; dimension is 1575 but corresponding boolean dimension is 1574\n"
     ]
    },
    {
     "name": "stdout",
     "output_type": "stream",
     "text": [
      "run8\n"
     ]
    },
    {
     "name": "stderr",
     "output_type": "stream",
     "text": [
      "/home/sophie/anaconda3/lib/python3.5/site-packages/ipykernel/__main__.py:21: VisibleDeprecationWarning: boolean index did not match indexed array along dimension 0; dimension is 1543 but corresponding boolean dimension is 1542\n",
      "/home/sophie/anaconda3/lib/python3.5/site-packages/ipykernel/__main__.py:22: VisibleDeprecationWarning: boolean index did not match indexed array along dimension 0; dimension is 1543 but corresponding boolean dimension is 1542\n",
      "/home/sophie/anaconda3/lib/python3.5/site-packages/ipykernel/__main__.py:18: VisibleDeprecationWarning: boolean index did not match indexed array along dimension 0; dimension is 1543 but corresponding boolean dimension is 1542\n",
      "/home/sophie/anaconda3/lib/python3.5/site-packages/ipykernel/__main__.py:19: VisibleDeprecationWarning: boolean index did not match indexed array along dimension 0; dimension is 1543 but corresponding boolean dimension is 1542\n"
     ]
    },
    {
     "name": "stdout",
     "output_type": "stream",
     "text": [
      "run80\n"
     ]
    },
    {
     "name": "stderr",
     "output_type": "stream",
     "text": [
      "/home/sophie/anaconda3/lib/python3.5/site-packages/ipykernel/__main__.py:21: VisibleDeprecationWarning: boolean index did not match indexed array along dimension 0; dimension is 1441 but corresponding boolean dimension is 1440\n",
      "/home/sophie/anaconda3/lib/python3.5/site-packages/ipykernel/__main__.py:22: VisibleDeprecationWarning: boolean index did not match indexed array along dimension 0; dimension is 1441 but corresponding boolean dimension is 1440\n",
      "/home/sophie/anaconda3/lib/python3.5/site-packages/ipykernel/__main__.py:18: VisibleDeprecationWarning: boolean index did not match indexed array along dimension 0; dimension is 1441 but corresponding boolean dimension is 1440\n",
      "/home/sophie/anaconda3/lib/python3.5/site-packages/ipykernel/__main__.py:19: VisibleDeprecationWarning: boolean index did not match indexed array along dimension 0; dimension is 1441 but corresponding boolean dimension is 1440\n"
     ]
    },
    {
     "name": "stdout",
     "output_type": "stream",
     "text": [
      "run81\n"
     ]
    },
    {
     "name": "stderr",
     "output_type": "stream",
     "text": [
      "/home/sophie/anaconda3/lib/python3.5/site-packages/ipykernel/__main__.py:21: VisibleDeprecationWarning: boolean index did not match indexed array along dimension 0; dimension is 1189 but corresponding boolean dimension is 1188\n",
      "/home/sophie/anaconda3/lib/python3.5/site-packages/ipykernel/__main__.py:22: VisibleDeprecationWarning: boolean index did not match indexed array along dimension 0; dimension is 1189 but corresponding boolean dimension is 1188\n",
      "/home/sophie/anaconda3/lib/python3.5/site-packages/ipykernel/__main__.py:18: VisibleDeprecationWarning: boolean index did not match indexed array along dimension 0; dimension is 1189 but corresponding boolean dimension is 1188\n",
      "/home/sophie/anaconda3/lib/python3.5/site-packages/ipykernel/__main__.py:19: VisibleDeprecationWarning: boolean index did not match indexed array along dimension 0; dimension is 1189 but corresponding boolean dimension is 1188\n"
     ]
    },
    {
     "name": "stdout",
     "output_type": "stream",
     "text": [
      "run82\n"
     ]
    },
    {
     "name": "stderr",
     "output_type": "stream",
     "text": [
      "/home/sophie/anaconda3/lib/python3.5/site-packages/ipykernel/__main__.py:21: VisibleDeprecationWarning: boolean index did not match indexed array along dimension 0; dimension is 1478 but corresponding boolean dimension is 1477\n",
      "/home/sophie/anaconda3/lib/python3.5/site-packages/ipykernel/__main__.py:22: VisibleDeprecationWarning: boolean index did not match indexed array along dimension 0; dimension is 1478 but corresponding boolean dimension is 1477\n",
      "/home/sophie/anaconda3/lib/python3.5/site-packages/ipykernel/__main__.py:18: VisibleDeprecationWarning: boolean index did not match indexed array along dimension 0; dimension is 1478 but corresponding boolean dimension is 1477\n",
      "/home/sophie/anaconda3/lib/python3.5/site-packages/ipykernel/__main__.py:19: VisibleDeprecationWarning: boolean index did not match indexed array along dimension 0; dimension is 1478 but corresponding boolean dimension is 1477\n"
     ]
    },
    {
     "name": "stdout",
     "output_type": "stream",
     "text": [
      "run83\n",
      "run84\n"
     ]
    },
    {
     "name": "stderr",
     "output_type": "stream",
     "text": [
      "/home/sophie/anaconda3/lib/python3.5/site-packages/ipykernel/__main__.py:21: VisibleDeprecationWarning: boolean index did not match indexed array along dimension 0; dimension is 1445 but corresponding boolean dimension is 1444\n",
      "/home/sophie/anaconda3/lib/python3.5/site-packages/ipykernel/__main__.py:22: VisibleDeprecationWarning: boolean index did not match indexed array along dimension 0; dimension is 1445 but corresponding boolean dimension is 1444\n",
      "/home/sophie/anaconda3/lib/python3.5/site-packages/ipykernel/__main__.py:18: VisibleDeprecationWarning: boolean index did not match indexed array along dimension 0; dimension is 1445 but corresponding boolean dimension is 1444\n",
      "/home/sophie/anaconda3/lib/python3.5/site-packages/ipykernel/__main__.py:19: VisibleDeprecationWarning: boolean index did not match indexed array along dimension 0; dimension is 1445 but corresponding boolean dimension is 1444\n"
     ]
    },
    {
     "name": "stdout",
     "output_type": "stream",
     "text": [
      "run85\n"
     ]
    },
    {
     "name": "stderr",
     "output_type": "stream",
     "text": [
      "/home/sophie/anaconda3/lib/python3.5/site-packages/ipykernel/__main__.py:21: VisibleDeprecationWarning: boolean index did not match indexed array along dimension 0; dimension is 1452 but corresponding boolean dimension is 1451\n",
      "/home/sophie/anaconda3/lib/python3.5/site-packages/ipykernel/__main__.py:22: VisibleDeprecationWarning: boolean index did not match indexed array along dimension 0; dimension is 1452 but corresponding boolean dimension is 1451\n",
      "/home/sophie/anaconda3/lib/python3.5/site-packages/ipykernel/__main__.py:18: VisibleDeprecationWarning: boolean index did not match indexed array along dimension 0; dimension is 1452 but corresponding boolean dimension is 1451\n",
      "/home/sophie/anaconda3/lib/python3.5/site-packages/ipykernel/__main__.py:19: VisibleDeprecationWarning: boolean index did not match indexed array along dimension 0; dimension is 1452 but corresponding boolean dimension is 1451\n"
     ]
    },
    {
     "name": "stdout",
     "output_type": "stream",
     "text": [
      "run86\n"
     ]
    },
    {
     "name": "stderr",
     "output_type": "stream",
     "text": [
      "/home/sophie/anaconda3/lib/python3.5/site-packages/ipykernel/__main__.py:21: VisibleDeprecationWarning: boolean index did not match indexed array along dimension 0; dimension is 1296 but corresponding boolean dimension is 1295\n",
      "/home/sophie/anaconda3/lib/python3.5/site-packages/ipykernel/__main__.py:22: VisibleDeprecationWarning: boolean index did not match indexed array along dimension 0; dimension is 1296 but corresponding boolean dimension is 1295\n",
      "/home/sophie/anaconda3/lib/python3.5/site-packages/ipykernel/__main__.py:18: VisibleDeprecationWarning: boolean index did not match indexed array along dimension 0; dimension is 1296 but corresponding boolean dimension is 1295\n",
      "/home/sophie/anaconda3/lib/python3.5/site-packages/ipykernel/__main__.py:19: VisibleDeprecationWarning: boolean index did not match indexed array along dimension 0; dimension is 1296 but corresponding boolean dimension is 1295\n"
     ]
    },
    {
     "name": "stdout",
     "output_type": "stream",
     "text": [
      "run87\n"
     ]
    },
    {
     "name": "stderr",
     "output_type": "stream",
     "text": [
      "/home/sophie/anaconda3/lib/python3.5/site-packages/ipykernel/__main__.py:21: VisibleDeprecationWarning: boolean index did not match indexed array along dimension 0; dimension is 1529 but corresponding boolean dimension is 1528\n",
      "/home/sophie/anaconda3/lib/python3.5/site-packages/ipykernel/__main__.py:22: VisibleDeprecationWarning: boolean index did not match indexed array along dimension 0; dimension is 1529 but corresponding boolean dimension is 1528\n",
      "/home/sophie/anaconda3/lib/python3.5/site-packages/ipykernel/__main__.py:18: VisibleDeprecationWarning: boolean index did not match indexed array along dimension 0; dimension is 1529 but corresponding boolean dimension is 1528\n",
      "/home/sophie/anaconda3/lib/python3.5/site-packages/ipykernel/__main__.py:19: VisibleDeprecationWarning: boolean index did not match indexed array along dimension 0; dimension is 1529 but corresponding boolean dimension is 1528\n"
     ]
    },
    {
     "name": "stdout",
     "output_type": "stream",
     "text": [
      "run88\n"
     ]
    },
    {
     "name": "stderr",
     "output_type": "stream",
     "text": [
      "/home/sophie/anaconda3/lib/python3.5/site-packages/ipykernel/__main__.py:21: VisibleDeprecationWarning: boolean index did not match indexed array along dimension 0; dimension is 1466 but corresponding boolean dimension is 1465\n",
      "/home/sophie/anaconda3/lib/python3.5/site-packages/ipykernel/__main__.py:22: VisibleDeprecationWarning: boolean index did not match indexed array along dimension 0; dimension is 1466 but corresponding boolean dimension is 1465\n",
      "/home/sophie/anaconda3/lib/python3.5/site-packages/ipykernel/__main__.py:18: VisibleDeprecationWarning: boolean index did not match indexed array along dimension 0; dimension is 1466 but corresponding boolean dimension is 1465\n",
      "/home/sophie/anaconda3/lib/python3.5/site-packages/ipykernel/__main__.py:19: VisibleDeprecationWarning: boolean index did not match indexed array along dimension 0; dimension is 1466 but corresponding boolean dimension is 1465\n"
     ]
    },
    {
     "name": "stdout",
     "output_type": "stream",
     "text": [
      "run89\n",
      "run9\n"
     ]
    },
    {
     "name": "stderr",
     "output_type": "stream",
     "text": [
      "/home/sophie/anaconda3/lib/python3.5/site-packages/ipykernel/__main__.py:21: VisibleDeprecationWarning: boolean index did not match indexed array along dimension 0; dimension is 1506 but corresponding boolean dimension is 1505\n",
      "/home/sophie/anaconda3/lib/python3.5/site-packages/ipykernel/__main__.py:22: VisibleDeprecationWarning: boolean index did not match indexed array along dimension 0; dimension is 1506 but corresponding boolean dimension is 1505\n",
      "/home/sophie/anaconda3/lib/python3.5/site-packages/ipykernel/__main__.py:18: VisibleDeprecationWarning: boolean index did not match indexed array along dimension 0; dimension is 1506 but corresponding boolean dimension is 1505\n",
      "/home/sophie/anaconda3/lib/python3.5/site-packages/ipykernel/__main__.py:19: VisibleDeprecationWarning: boolean index did not match indexed array along dimension 0; dimension is 1506 but corresponding boolean dimension is 1505\n"
     ]
    },
    {
     "name": "stdout",
     "output_type": "stream",
     "text": [
      "run90\n"
     ]
    },
    {
     "name": "stderr",
     "output_type": "stream",
     "text": [
      "/home/sophie/anaconda3/lib/python3.5/site-packages/ipykernel/__main__.py:21: VisibleDeprecationWarning: boolean index did not match indexed array along dimension 0; dimension is 1427 but corresponding boolean dimension is 1426\n",
      "/home/sophie/anaconda3/lib/python3.5/site-packages/ipykernel/__main__.py:22: VisibleDeprecationWarning: boolean index did not match indexed array along dimension 0; dimension is 1427 but corresponding boolean dimension is 1426\n",
      "/home/sophie/anaconda3/lib/python3.5/site-packages/ipykernel/__main__.py:18: VisibleDeprecationWarning: boolean index did not match indexed array along dimension 0; dimension is 1427 but corresponding boolean dimension is 1426\n",
      "/home/sophie/anaconda3/lib/python3.5/site-packages/ipykernel/__main__.py:19: VisibleDeprecationWarning: boolean index did not match indexed array along dimension 0; dimension is 1427 but corresponding boolean dimension is 1426\n"
     ]
    },
    {
     "name": "stdout",
     "output_type": "stream",
     "text": [
      "run91\n"
     ]
    },
    {
     "name": "stderr",
     "output_type": "stream",
     "text": [
      "/home/sophie/anaconda3/lib/python3.5/site-packages/ipykernel/__main__.py:21: VisibleDeprecationWarning: boolean index did not match indexed array along dimension 0; dimension is 1316 but corresponding boolean dimension is 1315\n",
      "/home/sophie/anaconda3/lib/python3.5/site-packages/ipykernel/__main__.py:22: VisibleDeprecationWarning: boolean index did not match indexed array along dimension 0; dimension is 1316 but corresponding boolean dimension is 1315\n",
      "/home/sophie/anaconda3/lib/python3.5/site-packages/ipykernel/__main__.py:18: VisibleDeprecationWarning: boolean index did not match indexed array along dimension 0; dimension is 1316 but corresponding boolean dimension is 1315\n",
      "/home/sophie/anaconda3/lib/python3.5/site-packages/ipykernel/__main__.py:19: VisibleDeprecationWarning: boolean index did not match indexed array along dimension 0; dimension is 1316 but corresponding boolean dimension is 1315\n"
     ]
    },
    {
     "name": "stdout",
     "output_type": "stream",
     "text": [
      "run92\n"
     ]
    },
    {
     "name": "stderr",
     "output_type": "stream",
     "text": [
      "/home/sophie/anaconda3/lib/python3.5/site-packages/ipykernel/__main__.py:21: VisibleDeprecationWarning: boolean index did not match indexed array along dimension 0; dimension is 1601 but corresponding boolean dimension is 1600\n",
      "/home/sophie/anaconda3/lib/python3.5/site-packages/ipykernel/__main__.py:22: VisibleDeprecationWarning: boolean index did not match indexed array along dimension 0; dimension is 1601 but corresponding boolean dimension is 1600\n",
      "/home/sophie/anaconda3/lib/python3.5/site-packages/ipykernel/__main__.py:18: VisibleDeprecationWarning: boolean index did not match indexed array along dimension 0; dimension is 1601 but corresponding boolean dimension is 1600\n",
      "/home/sophie/anaconda3/lib/python3.5/site-packages/ipykernel/__main__.py:19: VisibleDeprecationWarning: boolean index did not match indexed array along dimension 0; dimension is 1601 but corresponding boolean dimension is 1600\n"
     ]
    },
    {
     "name": "stdout",
     "output_type": "stream",
     "text": [
      "run93\n"
     ]
    },
    {
     "name": "stderr",
     "output_type": "stream",
     "text": [
      "/home/sophie/anaconda3/lib/python3.5/site-packages/ipykernel/__main__.py:21: VisibleDeprecationWarning: boolean index did not match indexed array along dimension 0; dimension is 1501 but corresponding boolean dimension is 1500\n",
      "/home/sophie/anaconda3/lib/python3.5/site-packages/ipykernel/__main__.py:22: VisibleDeprecationWarning: boolean index did not match indexed array along dimension 0; dimension is 1501 but corresponding boolean dimension is 1500\n",
      "/home/sophie/anaconda3/lib/python3.5/site-packages/ipykernel/__main__.py:18: VisibleDeprecationWarning: boolean index did not match indexed array along dimension 0; dimension is 1501 but corresponding boolean dimension is 1500\n",
      "/home/sophie/anaconda3/lib/python3.5/site-packages/ipykernel/__main__.py:19: VisibleDeprecationWarning: boolean index did not match indexed array along dimension 0; dimension is 1501 but corresponding boolean dimension is 1500\n"
     ]
    },
    {
     "name": "stdout",
     "output_type": "stream",
     "text": [
      "run94\n",
      "run95\n"
     ]
    },
    {
     "name": "stderr",
     "output_type": "stream",
     "text": [
      "/home/sophie/anaconda3/lib/python3.5/site-packages/ipykernel/__main__.py:21: VisibleDeprecationWarning: boolean index did not match indexed array along dimension 0; dimension is 1580 but corresponding boolean dimension is 1579\n",
      "/home/sophie/anaconda3/lib/python3.5/site-packages/ipykernel/__main__.py:22: VisibleDeprecationWarning: boolean index did not match indexed array along dimension 0; dimension is 1580 but corresponding boolean dimension is 1579\n",
      "/home/sophie/anaconda3/lib/python3.5/site-packages/ipykernel/__main__.py:18: VisibleDeprecationWarning: boolean index did not match indexed array along dimension 0; dimension is 1580 but corresponding boolean dimension is 1579\n",
      "/home/sophie/anaconda3/lib/python3.5/site-packages/ipykernel/__main__.py:19: VisibleDeprecationWarning: boolean index did not match indexed array along dimension 0; dimension is 1580 but corresponding boolean dimension is 1579\n"
     ]
    },
    {
     "name": "stdout",
     "output_type": "stream",
     "text": [
      "run96\n"
     ]
    },
    {
     "name": "stderr",
     "output_type": "stream",
     "text": [
      "/home/sophie/anaconda3/lib/python3.5/site-packages/ipykernel/__main__.py:21: VisibleDeprecationWarning: boolean index did not match indexed array along dimension 0; dimension is 1464 but corresponding boolean dimension is 1463\n",
      "/home/sophie/anaconda3/lib/python3.5/site-packages/ipykernel/__main__.py:22: VisibleDeprecationWarning: boolean index did not match indexed array along dimension 0; dimension is 1464 but corresponding boolean dimension is 1463\n",
      "/home/sophie/anaconda3/lib/python3.5/site-packages/ipykernel/__main__.py:18: VisibleDeprecationWarning: boolean index did not match indexed array along dimension 0; dimension is 1464 but corresponding boolean dimension is 1463\n",
      "/home/sophie/anaconda3/lib/python3.5/site-packages/ipykernel/__main__.py:19: VisibleDeprecationWarning: boolean index did not match indexed array along dimension 0; dimension is 1464 but corresponding boolean dimension is 1463\n"
     ]
    },
    {
     "name": "stdout",
     "output_type": "stream",
     "text": [
      "run97\n",
      "run98\n"
     ]
    },
    {
     "name": "stderr",
     "output_type": "stream",
     "text": [
      "/home/sophie/anaconda3/lib/python3.5/site-packages/ipykernel/__main__.py:21: VisibleDeprecationWarning: boolean index did not match indexed array along dimension 0; dimension is 1538 but corresponding boolean dimension is 1537\n",
      "/home/sophie/anaconda3/lib/python3.5/site-packages/ipykernel/__main__.py:22: VisibleDeprecationWarning: boolean index did not match indexed array along dimension 0; dimension is 1538 but corresponding boolean dimension is 1537\n",
      "/home/sophie/anaconda3/lib/python3.5/site-packages/ipykernel/__main__.py:18: VisibleDeprecationWarning: boolean index did not match indexed array along dimension 0; dimension is 1538 but corresponding boolean dimension is 1537\n",
      "/home/sophie/anaconda3/lib/python3.5/site-packages/ipykernel/__main__.py:19: VisibleDeprecationWarning: boolean index did not match indexed array along dimension 0; dimension is 1538 but corresponding boolean dimension is 1537\n"
     ]
    },
    {
     "name": "stdout",
     "output_type": "stream",
     "text": [
      "run99\n"
     ]
    },
    {
     "name": "stderr",
     "output_type": "stream",
     "text": [
      "/home/sophie/anaconda3/lib/python3.5/site-packages/ipykernel/__main__.py:21: VisibleDeprecationWarning: boolean index did not match indexed array along dimension 0; dimension is 1339 but corresponding boolean dimension is 1338\n",
      "/home/sophie/anaconda3/lib/python3.5/site-packages/ipykernel/__main__.py:22: VisibleDeprecationWarning: boolean index did not match indexed array along dimension 0; dimension is 1339 but corresponding boolean dimension is 1338\n",
      "/home/sophie/anaconda3/lib/python3.5/site-packages/ipykernel/__main__.py:18: VisibleDeprecationWarning: boolean index did not match indexed array along dimension 0; dimension is 1339 but corresponding boolean dimension is 1338\n",
      "/home/sophie/anaconda3/lib/python3.5/site-packages/ipykernel/__main__.py:19: VisibleDeprecationWarning: boolean index did not match indexed array along dimension 0; dimension is 1339 but corresponding boolean dimension is 1338\n"
     ]
    },
    {
     "name": "stdout",
     "output_type": "stream",
     "text": [
      "run118\n",
      "run119\n",
      "run12\n"
     ]
    },
    {
     "name": "stderr",
     "output_type": "stream",
     "text": [
      "/home/sophie/anaconda3/lib/python3.5/site-packages/ipykernel/__main__.py:21: VisibleDeprecationWarning: boolean index did not match indexed array along dimension 0; dimension is 1590 but corresponding boolean dimension is 1589\n",
      "/home/sophie/anaconda3/lib/python3.5/site-packages/ipykernel/__main__.py:22: VisibleDeprecationWarning: boolean index did not match indexed array along dimension 0; dimension is 1590 but corresponding boolean dimension is 1589\n",
      "/home/sophie/anaconda3/lib/python3.5/site-packages/ipykernel/__main__.py:18: VisibleDeprecationWarning: boolean index did not match indexed array along dimension 0; dimension is 1590 but corresponding boolean dimension is 1589\n",
      "/home/sophie/anaconda3/lib/python3.5/site-packages/ipykernel/__main__.py:19: VisibleDeprecationWarning: boolean index did not match indexed array along dimension 0; dimension is 1590 but corresponding boolean dimension is 1589\n"
     ]
    },
    {
     "name": "stdout",
     "output_type": "stream",
     "text": [
      "run120\n"
     ]
    },
    {
     "name": "stderr",
     "output_type": "stream",
     "text": [
      "/home/sophie/anaconda3/lib/python3.5/site-packages/ipykernel/__main__.py:21: VisibleDeprecationWarning: boolean index did not match indexed array along dimension 0; dimension is 1474 but corresponding boolean dimension is 1473\n",
      "/home/sophie/anaconda3/lib/python3.5/site-packages/ipykernel/__main__.py:22: VisibleDeprecationWarning: boolean index did not match indexed array along dimension 0; dimension is 1474 but corresponding boolean dimension is 1473\n",
      "/home/sophie/anaconda3/lib/python3.5/site-packages/ipykernel/__main__.py:18: VisibleDeprecationWarning: boolean index did not match indexed array along dimension 0; dimension is 1474 but corresponding boolean dimension is 1473\n",
      "/home/sophie/anaconda3/lib/python3.5/site-packages/ipykernel/__main__.py:19: VisibleDeprecationWarning: boolean index did not match indexed array along dimension 0; dimension is 1474 but corresponding boolean dimension is 1473\n"
     ]
    },
    {
     "name": "stdout",
     "output_type": "stream",
     "text": [
      "run121\n",
      "run122\n"
     ]
    },
    {
     "name": "stderr",
     "output_type": "stream",
     "text": [
      "/home/sophie/anaconda3/lib/python3.5/site-packages/ipykernel/__main__.py:21: VisibleDeprecationWarning: boolean index did not match indexed array along dimension 0; dimension is 1417 but corresponding boolean dimension is 1416\n",
      "/home/sophie/anaconda3/lib/python3.5/site-packages/ipykernel/__main__.py:22: VisibleDeprecationWarning: boolean index did not match indexed array along dimension 0; dimension is 1417 but corresponding boolean dimension is 1416\n",
      "/home/sophie/anaconda3/lib/python3.5/site-packages/ipykernel/__main__.py:18: VisibleDeprecationWarning: boolean index did not match indexed array along dimension 0; dimension is 1417 but corresponding boolean dimension is 1416\n",
      "/home/sophie/anaconda3/lib/python3.5/site-packages/ipykernel/__main__.py:19: VisibleDeprecationWarning: boolean index did not match indexed array along dimension 0; dimension is 1417 but corresponding boolean dimension is 1416\n"
     ]
    },
    {
     "name": "stdout",
     "output_type": "stream",
     "text": [
      "run123\n",
      "run124\n"
     ]
    },
    {
     "name": "stderr",
     "output_type": "stream",
     "text": [
      "/home/sophie/anaconda3/lib/python3.5/site-packages/ipykernel/__main__.py:21: VisibleDeprecationWarning: boolean index did not match indexed array along dimension 0; dimension is 1576 but corresponding boolean dimension is 1575\n",
      "/home/sophie/anaconda3/lib/python3.5/site-packages/ipykernel/__main__.py:22: VisibleDeprecationWarning: boolean index did not match indexed array along dimension 0; dimension is 1576 but corresponding boolean dimension is 1575\n",
      "/home/sophie/anaconda3/lib/python3.5/site-packages/ipykernel/__main__.py:18: VisibleDeprecationWarning: boolean index did not match indexed array along dimension 0; dimension is 1576 but corresponding boolean dimension is 1575\n",
      "/home/sophie/anaconda3/lib/python3.5/site-packages/ipykernel/__main__.py:19: VisibleDeprecationWarning: boolean index did not match indexed array along dimension 0; dimension is 1576 but corresponding boolean dimension is 1575\n"
     ]
    },
    {
     "name": "stdout",
     "output_type": "stream",
     "text": [
      "run125\n"
     ]
    },
    {
     "name": "stderr",
     "output_type": "stream",
     "text": [
      "/home/sophie/anaconda3/lib/python3.5/site-packages/ipykernel/__main__.py:21: VisibleDeprecationWarning: boolean index did not match indexed array along dimension 0; dimension is 1295 but corresponding boolean dimension is 1294\n",
      "/home/sophie/anaconda3/lib/python3.5/site-packages/ipykernel/__main__.py:22: VisibleDeprecationWarning: boolean index did not match indexed array along dimension 0; dimension is 1295 but corresponding boolean dimension is 1294\n",
      "/home/sophie/anaconda3/lib/python3.5/site-packages/ipykernel/__main__.py:18: VisibleDeprecationWarning: boolean index did not match indexed array along dimension 0; dimension is 1295 but corresponding boolean dimension is 1294\n",
      "/home/sophie/anaconda3/lib/python3.5/site-packages/ipykernel/__main__.py:19: VisibleDeprecationWarning: boolean index did not match indexed array along dimension 0; dimension is 1295 but corresponding boolean dimension is 1294\n"
     ]
    },
    {
     "name": "stdout",
     "output_type": "stream",
     "text": [
      "run126\n"
     ]
    },
    {
     "name": "stderr",
     "output_type": "stream",
     "text": [
      "/home/sophie/anaconda3/lib/python3.5/site-packages/ipykernel/__main__.py:21: VisibleDeprecationWarning: boolean index did not match indexed array along dimension 0; dimension is 1439 but corresponding boolean dimension is 1438\n",
      "/home/sophie/anaconda3/lib/python3.5/site-packages/ipykernel/__main__.py:22: VisibleDeprecationWarning: boolean index did not match indexed array along dimension 0; dimension is 1439 but corresponding boolean dimension is 1438\n",
      "/home/sophie/anaconda3/lib/python3.5/site-packages/ipykernel/__main__.py:18: VisibleDeprecationWarning: boolean index did not match indexed array along dimension 0; dimension is 1439 but corresponding boolean dimension is 1438\n",
      "/home/sophie/anaconda3/lib/python3.5/site-packages/ipykernel/__main__.py:19: VisibleDeprecationWarning: boolean index did not match indexed array along dimension 0; dimension is 1439 but corresponding boolean dimension is 1438\n"
     ]
    },
    {
     "name": "stdout",
     "output_type": "stream",
     "text": [
      "run127\n"
     ]
    },
    {
     "name": "stderr",
     "output_type": "stream",
     "text": [
      "/home/sophie/anaconda3/lib/python3.5/site-packages/ipykernel/__main__.py:21: VisibleDeprecationWarning: boolean index did not match indexed array along dimension 0; dimension is 1517 but corresponding boolean dimension is 1516\n",
      "/home/sophie/anaconda3/lib/python3.5/site-packages/ipykernel/__main__.py:22: VisibleDeprecationWarning: boolean index did not match indexed array along dimension 0; dimension is 1517 but corresponding boolean dimension is 1516\n",
      "/home/sophie/anaconda3/lib/python3.5/site-packages/ipykernel/__main__.py:18: VisibleDeprecationWarning: boolean index did not match indexed array along dimension 0; dimension is 1517 but corresponding boolean dimension is 1516\n",
      "/home/sophie/anaconda3/lib/python3.5/site-packages/ipykernel/__main__.py:19: VisibleDeprecationWarning: boolean index did not match indexed array along dimension 0; dimension is 1517 but corresponding boolean dimension is 1516\n"
     ]
    },
    {
     "name": "stdout",
     "output_type": "stream",
     "text": [
      "run128\n"
     ]
    },
    {
     "name": "stderr",
     "output_type": "stream",
     "text": [
      "/home/sophie/anaconda3/lib/python3.5/site-packages/ipykernel/__main__.py:21: VisibleDeprecationWarning: boolean index did not match indexed array along dimension 0; dimension is 1557 but corresponding boolean dimension is 1556\n",
      "/home/sophie/anaconda3/lib/python3.5/site-packages/ipykernel/__main__.py:22: VisibleDeprecationWarning: boolean index did not match indexed array along dimension 0; dimension is 1557 but corresponding boolean dimension is 1556\n",
      "/home/sophie/anaconda3/lib/python3.5/site-packages/ipykernel/__main__.py:18: VisibleDeprecationWarning: boolean index did not match indexed array along dimension 0; dimension is 1557 but corresponding boolean dimension is 1556\n",
      "/home/sophie/anaconda3/lib/python3.5/site-packages/ipykernel/__main__.py:19: VisibleDeprecationWarning: boolean index did not match indexed array along dimension 0; dimension is 1557 but corresponding boolean dimension is 1556\n"
     ]
    },
    {
     "name": "stdout",
     "output_type": "stream",
     "text": [
      "run129\n"
     ]
    },
    {
     "name": "stderr",
     "output_type": "stream",
     "text": [
      "/home/sophie/anaconda3/lib/python3.5/site-packages/ipykernel/__main__.py:21: VisibleDeprecationWarning: boolean index did not match indexed array along dimension 0; dimension is 1519 but corresponding boolean dimension is 1518\n",
      "/home/sophie/anaconda3/lib/python3.5/site-packages/ipykernel/__main__.py:22: VisibleDeprecationWarning: boolean index did not match indexed array along dimension 0; dimension is 1519 but corresponding boolean dimension is 1518\n",
      "/home/sophie/anaconda3/lib/python3.5/site-packages/ipykernel/__main__.py:18: VisibleDeprecationWarning: boolean index did not match indexed array along dimension 0; dimension is 1519 but corresponding boolean dimension is 1518\n",
      "/home/sophie/anaconda3/lib/python3.5/site-packages/ipykernel/__main__.py:19: VisibleDeprecationWarning: boolean index did not match indexed array along dimension 0; dimension is 1519 but corresponding boolean dimension is 1518\n"
     ]
    },
    {
     "name": "stdout",
     "output_type": "stream",
     "text": [
      "run13\n"
     ]
    },
    {
     "name": "stderr",
     "output_type": "stream",
     "text": [
      "/home/sophie/anaconda3/lib/python3.5/site-packages/ipykernel/__main__.py:21: VisibleDeprecationWarning: boolean index did not match indexed array along dimension 0; dimension is 1526 but corresponding boolean dimension is 1525\n",
      "/home/sophie/anaconda3/lib/python3.5/site-packages/ipykernel/__main__.py:22: VisibleDeprecationWarning: boolean index did not match indexed array along dimension 0; dimension is 1526 but corresponding boolean dimension is 1525\n",
      "/home/sophie/anaconda3/lib/python3.5/site-packages/ipykernel/__main__.py:18: VisibleDeprecationWarning: boolean index did not match indexed array along dimension 0; dimension is 1526 but corresponding boolean dimension is 1525\n",
      "/home/sophie/anaconda3/lib/python3.5/site-packages/ipykernel/__main__.py:19: VisibleDeprecationWarning: boolean index did not match indexed array along dimension 0; dimension is 1526 but corresponding boolean dimension is 1525\n"
     ]
    },
    {
     "name": "stdout",
     "output_type": "stream",
     "text": [
      "run130\n"
     ]
    },
    {
     "name": "stderr",
     "output_type": "stream",
     "text": [
      "/home/sophie/anaconda3/lib/python3.5/site-packages/ipykernel/__main__.py:21: VisibleDeprecationWarning: boolean index did not match indexed array along dimension 0; dimension is 1356 but corresponding boolean dimension is 1355\n",
      "/home/sophie/anaconda3/lib/python3.5/site-packages/ipykernel/__main__.py:22: VisibleDeprecationWarning: boolean index did not match indexed array along dimension 0; dimension is 1356 but corresponding boolean dimension is 1355\n",
      "/home/sophie/anaconda3/lib/python3.5/site-packages/ipykernel/__main__.py:18: VisibleDeprecationWarning: boolean index did not match indexed array along dimension 0; dimension is 1356 but corresponding boolean dimension is 1355\n",
      "/home/sophie/anaconda3/lib/python3.5/site-packages/ipykernel/__main__.py:19: VisibleDeprecationWarning: boolean index did not match indexed array along dimension 0; dimension is 1356 but corresponding boolean dimension is 1355\n"
     ]
    },
    {
     "name": "stdout",
     "output_type": "stream",
     "text": [
      "run131\n"
     ]
    },
    {
     "name": "stderr",
     "output_type": "stream",
     "text": [
      "/home/sophie/anaconda3/lib/python3.5/site-packages/ipykernel/__main__.py:21: VisibleDeprecationWarning: boolean index did not match indexed array along dimension 0; dimension is 1516 but corresponding boolean dimension is 1515\n",
      "/home/sophie/anaconda3/lib/python3.5/site-packages/ipykernel/__main__.py:22: VisibleDeprecationWarning: boolean index did not match indexed array along dimension 0; dimension is 1516 but corresponding boolean dimension is 1515\n",
      "/home/sophie/anaconda3/lib/python3.5/site-packages/ipykernel/__main__.py:18: VisibleDeprecationWarning: boolean index did not match indexed array along dimension 0; dimension is 1516 but corresponding boolean dimension is 1515\n",
      "/home/sophie/anaconda3/lib/python3.5/site-packages/ipykernel/__main__.py:19: VisibleDeprecationWarning: boolean index did not match indexed array along dimension 0; dimension is 1516 but corresponding boolean dimension is 1515\n"
     ]
    },
    {
     "name": "stdout",
     "output_type": "stream",
     "text": [
      "run132\n",
      "run133\n"
     ]
    },
    {
     "name": "stderr",
     "output_type": "stream",
     "text": [
      "/home/sophie/anaconda3/lib/python3.5/site-packages/ipykernel/__main__.py:21: VisibleDeprecationWarning: boolean index did not match indexed array along dimension 0; dimension is 1345 but corresponding boolean dimension is 1344\n",
      "/home/sophie/anaconda3/lib/python3.5/site-packages/ipykernel/__main__.py:22: VisibleDeprecationWarning: boolean index did not match indexed array along dimension 0; dimension is 1345 but corresponding boolean dimension is 1344\n",
      "/home/sophie/anaconda3/lib/python3.5/site-packages/ipykernel/__main__.py:18: VisibleDeprecationWarning: boolean index did not match indexed array along dimension 0; dimension is 1345 but corresponding boolean dimension is 1344\n",
      "/home/sophie/anaconda3/lib/python3.5/site-packages/ipykernel/__main__.py:19: VisibleDeprecationWarning: boolean index did not match indexed array along dimension 0; dimension is 1345 but corresponding boolean dimension is 1344\n"
     ]
    },
    {
     "name": "stdout",
     "output_type": "stream",
     "text": [
      "run134\n"
     ]
    },
    {
     "name": "stderr",
     "output_type": "stream",
     "text": [
      "/home/sophie/anaconda3/lib/python3.5/site-packages/ipykernel/__main__.py:21: VisibleDeprecationWarning: boolean index did not match indexed array along dimension 0; dimension is 1497 but corresponding boolean dimension is 1496\n",
      "/home/sophie/anaconda3/lib/python3.5/site-packages/ipykernel/__main__.py:22: VisibleDeprecationWarning: boolean index did not match indexed array along dimension 0; dimension is 1497 but corresponding boolean dimension is 1496\n",
      "/home/sophie/anaconda3/lib/python3.5/site-packages/ipykernel/__main__.py:18: VisibleDeprecationWarning: boolean index did not match indexed array along dimension 0; dimension is 1497 but corresponding boolean dimension is 1496\n",
      "/home/sophie/anaconda3/lib/python3.5/site-packages/ipykernel/__main__.py:19: VisibleDeprecationWarning: boolean index did not match indexed array along dimension 0; dimension is 1497 but corresponding boolean dimension is 1496\n"
     ]
    },
    {
     "name": "stdout",
     "output_type": "stream",
     "text": [
      "run135\n"
     ]
    },
    {
     "name": "stderr",
     "output_type": "stream",
     "text": [
      "/home/sophie/anaconda3/lib/python3.5/site-packages/ipykernel/__main__.py:21: VisibleDeprecationWarning: boolean index did not match indexed array along dimension 0; dimension is 1404 but corresponding boolean dimension is 1403\n",
      "/home/sophie/anaconda3/lib/python3.5/site-packages/ipykernel/__main__.py:22: VisibleDeprecationWarning: boolean index did not match indexed array along dimension 0; dimension is 1404 but corresponding boolean dimension is 1403\n",
      "/home/sophie/anaconda3/lib/python3.5/site-packages/ipykernel/__main__.py:18: VisibleDeprecationWarning: boolean index did not match indexed array along dimension 0; dimension is 1404 but corresponding boolean dimension is 1403\n",
      "/home/sophie/anaconda3/lib/python3.5/site-packages/ipykernel/__main__.py:19: VisibleDeprecationWarning: boolean index did not match indexed array along dimension 0; dimension is 1404 but corresponding boolean dimension is 1403\n"
     ]
    },
    {
     "name": "stdout",
     "output_type": "stream",
     "text": [
      "run117\n",
      "run136\n"
     ]
    },
    {
     "name": "stderr",
     "output_type": "stream",
     "text": [
      "/home/sophie/anaconda3/lib/python3.5/site-packages/ipykernel/__main__.py:21: VisibleDeprecationWarning: boolean index did not match indexed array along dimension 0; dimension is 1579 but corresponding boolean dimension is 1578\n",
      "/home/sophie/anaconda3/lib/python3.5/site-packages/ipykernel/__main__.py:22: VisibleDeprecationWarning: boolean index did not match indexed array along dimension 0; dimension is 1579 but corresponding boolean dimension is 1578\n",
      "/home/sophie/anaconda3/lib/python3.5/site-packages/ipykernel/__main__.py:18: VisibleDeprecationWarning: boolean index did not match indexed array along dimension 0; dimension is 1579 but corresponding boolean dimension is 1578\n",
      "/home/sophie/anaconda3/lib/python3.5/site-packages/ipykernel/__main__.py:19: VisibleDeprecationWarning: boolean index did not match indexed array along dimension 0; dimension is 1579 but corresponding boolean dimension is 1578\n"
     ]
    },
    {
     "name": "stdout",
     "output_type": "stream",
     "text": [
      "run155\n"
     ]
    },
    {
     "name": "stderr",
     "output_type": "stream",
     "text": [
      "/home/sophie/anaconda3/lib/python3.5/site-packages/ipykernel/__main__.py:21: VisibleDeprecationWarning: boolean index did not match indexed array along dimension 0; dimension is 1320 but corresponding boolean dimension is 1319\n",
      "/home/sophie/anaconda3/lib/python3.5/site-packages/ipykernel/__main__.py:22: VisibleDeprecationWarning: boolean index did not match indexed array along dimension 0; dimension is 1320 but corresponding boolean dimension is 1319\n",
      "/home/sophie/anaconda3/lib/python3.5/site-packages/ipykernel/__main__.py:18: VisibleDeprecationWarning: boolean index did not match indexed array along dimension 0; dimension is 1320 but corresponding boolean dimension is 1319\n",
      "/home/sophie/anaconda3/lib/python3.5/site-packages/ipykernel/__main__.py:19: VisibleDeprecationWarning: boolean index did not match indexed array along dimension 0; dimension is 1320 but corresponding boolean dimension is 1319\n"
     ]
    },
    {
     "name": "stdout",
     "output_type": "stream",
     "text": [
      "run174\n",
      "run28\n"
     ]
    },
    {
     "name": "stderr",
     "output_type": "stream",
     "text": [
      "/home/sophie/anaconda3/lib/python3.5/site-packages/ipykernel/__main__.py:21: VisibleDeprecationWarning: boolean index did not match indexed array along dimension 0; dimension is 1587 but corresponding boolean dimension is 1586\n",
      "/home/sophie/anaconda3/lib/python3.5/site-packages/ipykernel/__main__.py:22: VisibleDeprecationWarning: boolean index did not match indexed array along dimension 0; dimension is 1587 but corresponding boolean dimension is 1586\n",
      "/home/sophie/anaconda3/lib/python3.5/site-packages/ipykernel/__main__.py:18: VisibleDeprecationWarning: boolean index did not match indexed array along dimension 0; dimension is 1587 but corresponding boolean dimension is 1586\n",
      "/home/sophie/anaconda3/lib/python3.5/site-packages/ipykernel/__main__.py:19: VisibleDeprecationWarning: boolean index did not match indexed array along dimension 0; dimension is 1587 but corresponding boolean dimension is 1586\n"
     ]
    },
    {
     "name": "stdout",
     "output_type": "stream",
     "text": [
      "run47\n",
      "run66\n",
      "run137\n"
     ]
    },
    {
     "name": "stderr",
     "output_type": "stream",
     "text": [
      "/home/sophie/anaconda3/lib/python3.5/site-packages/ipykernel/__main__.py:21: VisibleDeprecationWarning: boolean index did not match indexed array along dimension 0; dimension is 1387 but corresponding boolean dimension is 1386\n",
      "/home/sophie/anaconda3/lib/python3.5/site-packages/ipykernel/__main__.py:22: VisibleDeprecationWarning: boolean index did not match indexed array along dimension 0; dimension is 1387 but corresponding boolean dimension is 1386\n",
      "/home/sophie/anaconda3/lib/python3.5/site-packages/ipykernel/__main__.py:18: VisibleDeprecationWarning: boolean index did not match indexed array along dimension 0; dimension is 1387 but corresponding boolean dimension is 1386\n",
      "/home/sophie/anaconda3/lib/python3.5/site-packages/ipykernel/__main__.py:19: VisibleDeprecationWarning: boolean index did not match indexed array along dimension 0; dimension is 1387 but corresponding boolean dimension is 1386\n"
     ]
    },
    {
     "name": "stdout",
     "output_type": "stream",
     "text": [
      "run138\n",
      "run139\n",
      "run14\n",
      "run140\n"
     ]
    },
    {
     "name": "stderr",
     "output_type": "stream",
     "text": [
      "/home/sophie/anaconda3/lib/python3.5/site-packages/ipykernel/__main__.py:21: VisibleDeprecationWarning: boolean index did not match indexed array along dimension 0; dimension is 1515 but corresponding boolean dimension is 1514\n",
      "/home/sophie/anaconda3/lib/python3.5/site-packages/ipykernel/__main__.py:22: VisibleDeprecationWarning: boolean index did not match indexed array along dimension 0; dimension is 1515 but corresponding boolean dimension is 1514\n",
      "/home/sophie/anaconda3/lib/python3.5/site-packages/ipykernel/__main__.py:18: VisibleDeprecationWarning: boolean index did not match indexed array along dimension 0; dimension is 1515 but corresponding boolean dimension is 1514\n",
      "/home/sophie/anaconda3/lib/python3.5/site-packages/ipykernel/__main__.py:19: VisibleDeprecationWarning: boolean index did not match indexed array along dimension 0; dimension is 1515 but corresponding boolean dimension is 1514\n"
     ]
    },
    {
     "name": "stdout",
     "output_type": "stream",
     "text": [
      "run141\n"
     ]
    },
    {
     "name": "stderr",
     "output_type": "stream",
     "text": [
      "/home/sophie/anaconda3/lib/python3.5/site-packages/ipykernel/__main__.py:21: VisibleDeprecationWarning: boolean index did not match indexed array along dimension 0; dimension is 1143 but corresponding boolean dimension is 1142\n",
      "/home/sophie/anaconda3/lib/python3.5/site-packages/ipykernel/__main__.py:22: VisibleDeprecationWarning: boolean index did not match indexed array along dimension 0; dimension is 1143 but corresponding boolean dimension is 1142\n",
      "/home/sophie/anaconda3/lib/python3.5/site-packages/ipykernel/__main__.py:18: VisibleDeprecationWarning: boolean index did not match indexed array along dimension 0; dimension is 1143 but corresponding boolean dimension is 1142\n",
      "/home/sophie/anaconda3/lib/python3.5/site-packages/ipykernel/__main__.py:19: VisibleDeprecationWarning: boolean index did not match indexed array along dimension 0; dimension is 1143 but corresponding boolean dimension is 1142\n"
     ]
    },
    {
     "name": "stdout",
     "output_type": "stream",
     "text": [
      "run142\n"
     ]
    },
    {
     "name": "stderr",
     "output_type": "stream",
     "text": [
      "/home/sophie/anaconda3/lib/python3.5/site-packages/ipykernel/__main__.py:21: VisibleDeprecationWarning: boolean index did not match indexed array along dimension 0; dimension is 1461 but corresponding boolean dimension is 1460\n",
      "/home/sophie/anaconda3/lib/python3.5/site-packages/ipykernel/__main__.py:22: VisibleDeprecationWarning: boolean index did not match indexed array along dimension 0; dimension is 1461 but corresponding boolean dimension is 1460\n",
      "/home/sophie/anaconda3/lib/python3.5/site-packages/ipykernel/__main__.py:18: VisibleDeprecationWarning: boolean index did not match indexed array along dimension 0; dimension is 1461 but corresponding boolean dimension is 1460\n",
      "/home/sophie/anaconda3/lib/python3.5/site-packages/ipykernel/__main__.py:19: VisibleDeprecationWarning: boolean index did not match indexed array along dimension 0; dimension is 1461 but corresponding boolean dimension is 1460\n"
     ]
    },
    {
     "name": "stdout",
     "output_type": "stream",
     "text": [
      "run143\n",
      "run144\n",
      "run145\n"
     ]
    },
    {
     "name": "stderr",
     "output_type": "stream",
     "text": [
      "/home/sophie/anaconda3/lib/python3.5/site-packages/ipykernel/__main__.py:21: VisibleDeprecationWarning: boolean index did not match indexed array along dimension 0; dimension is 1465 but corresponding boolean dimension is 1464\n",
      "/home/sophie/anaconda3/lib/python3.5/site-packages/ipykernel/__main__.py:22: VisibleDeprecationWarning: boolean index did not match indexed array along dimension 0; dimension is 1465 but corresponding boolean dimension is 1464\n",
      "/home/sophie/anaconda3/lib/python3.5/site-packages/ipykernel/__main__.py:18: VisibleDeprecationWarning: boolean index did not match indexed array along dimension 0; dimension is 1465 but corresponding boolean dimension is 1464\n",
      "/home/sophie/anaconda3/lib/python3.5/site-packages/ipykernel/__main__.py:19: VisibleDeprecationWarning: boolean index did not match indexed array along dimension 0; dimension is 1465 but corresponding boolean dimension is 1464\n"
     ]
    },
    {
     "name": "stdout",
     "output_type": "stream",
     "text": [
      "run146\n"
     ]
    },
    {
     "name": "stderr",
     "output_type": "stream",
     "text": [
      "/home/sophie/anaconda3/lib/python3.5/site-packages/ipykernel/__main__.py:21: VisibleDeprecationWarning: boolean index did not match indexed array along dimension 0; dimension is 1426 but corresponding boolean dimension is 1425\n",
      "/home/sophie/anaconda3/lib/python3.5/site-packages/ipykernel/__main__.py:22: VisibleDeprecationWarning: boolean index did not match indexed array along dimension 0; dimension is 1426 but corresponding boolean dimension is 1425\n",
      "/home/sophie/anaconda3/lib/python3.5/site-packages/ipykernel/__main__.py:18: VisibleDeprecationWarning: boolean index did not match indexed array along dimension 0; dimension is 1426 but corresponding boolean dimension is 1425\n",
      "/home/sophie/anaconda3/lib/python3.5/site-packages/ipykernel/__main__.py:19: VisibleDeprecationWarning: boolean index did not match indexed array along dimension 0; dimension is 1426 but corresponding boolean dimension is 1425\n"
     ]
    },
    {
     "name": "stdout",
     "output_type": "stream",
     "text": [
      "run147\n"
     ]
    },
    {
     "name": "stderr",
     "output_type": "stream",
     "text": [
      "/home/sophie/anaconda3/lib/python3.5/site-packages/ipykernel/__main__.py:21: VisibleDeprecationWarning: boolean index did not match indexed array along dimension 0; dimension is 1554 but corresponding boolean dimension is 1553\n",
      "/home/sophie/anaconda3/lib/python3.5/site-packages/ipykernel/__main__.py:22: VisibleDeprecationWarning: boolean index did not match indexed array along dimension 0; dimension is 1554 but corresponding boolean dimension is 1553\n",
      "/home/sophie/anaconda3/lib/python3.5/site-packages/ipykernel/__main__.py:18: VisibleDeprecationWarning: boolean index did not match indexed array along dimension 0; dimension is 1554 but corresponding boolean dimension is 1553\n",
      "/home/sophie/anaconda3/lib/python3.5/site-packages/ipykernel/__main__.py:19: VisibleDeprecationWarning: boolean index did not match indexed array along dimension 0; dimension is 1554 but corresponding boolean dimension is 1553\n"
     ]
    },
    {
     "name": "stdout",
     "output_type": "stream",
     "text": [
      "run148\n"
     ]
    },
    {
     "name": "stderr",
     "output_type": "stream",
     "text": [
      "/home/sophie/anaconda3/lib/python3.5/site-packages/ipykernel/__main__.py:21: VisibleDeprecationWarning: boolean index did not match indexed array along dimension 0; dimension is 1473 but corresponding boolean dimension is 1472\n",
      "/home/sophie/anaconda3/lib/python3.5/site-packages/ipykernel/__main__.py:22: VisibleDeprecationWarning: boolean index did not match indexed array along dimension 0; dimension is 1473 but corresponding boolean dimension is 1472\n",
      "/home/sophie/anaconda3/lib/python3.5/site-packages/ipykernel/__main__.py:18: VisibleDeprecationWarning: boolean index did not match indexed array along dimension 0; dimension is 1473 but corresponding boolean dimension is 1472\n",
      "/home/sophie/anaconda3/lib/python3.5/site-packages/ipykernel/__main__.py:19: VisibleDeprecationWarning: boolean index did not match indexed array along dimension 0; dimension is 1473 but corresponding boolean dimension is 1472\n"
     ]
    },
    {
     "name": "stdout",
     "output_type": "stream",
     "text": [
      "run149\n"
     ]
    },
    {
     "name": "stderr",
     "output_type": "stream",
     "text": [
      "/home/sophie/anaconda3/lib/python3.5/site-packages/ipykernel/__main__.py:21: VisibleDeprecationWarning: boolean index did not match indexed array along dimension 0; dimension is 1485 but corresponding boolean dimension is 1484\n",
      "/home/sophie/anaconda3/lib/python3.5/site-packages/ipykernel/__main__.py:22: VisibleDeprecationWarning: boolean index did not match indexed array along dimension 0; dimension is 1485 but corresponding boolean dimension is 1484\n",
      "/home/sophie/anaconda3/lib/python3.5/site-packages/ipykernel/__main__.py:18: VisibleDeprecationWarning: boolean index did not match indexed array along dimension 0; dimension is 1485 but corresponding boolean dimension is 1484\n",
      "/home/sophie/anaconda3/lib/python3.5/site-packages/ipykernel/__main__.py:19: VisibleDeprecationWarning: boolean index did not match indexed array along dimension 0; dimension is 1485 but corresponding boolean dimension is 1484\n"
     ]
    },
    {
     "name": "stdout",
     "output_type": "stream",
     "text": [
      "run15\n",
      "run150\n"
     ]
    },
    {
     "name": "stderr",
     "output_type": "stream",
     "text": [
      "/home/sophie/anaconda3/lib/python3.5/site-packages/ipykernel/__main__.py:21: VisibleDeprecationWarning: boolean index did not match indexed array along dimension 0; dimension is 1489 but corresponding boolean dimension is 1488\n",
      "/home/sophie/anaconda3/lib/python3.5/site-packages/ipykernel/__main__.py:22: VisibleDeprecationWarning: boolean index did not match indexed array along dimension 0; dimension is 1489 but corresponding boolean dimension is 1488\n",
      "/home/sophie/anaconda3/lib/python3.5/site-packages/ipykernel/__main__.py:18: VisibleDeprecationWarning: boolean index did not match indexed array along dimension 0; dimension is 1489 but corresponding boolean dimension is 1488\n",
      "/home/sophie/anaconda3/lib/python3.5/site-packages/ipykernel/__main__.py:19: VisibleDeprecationWarning: boolean index did not match indexed array along dimension 0; dimension is 1489 but corresponding boolean dimension is 1488\n"
     ]
    },
    {
     "name": "stdout",
     "output_type": "stream",
     "text": [
      "run151\n"
     ]
    },
    {
     "name": "stderr",
     "output_type": "stream",
     "text": [
      "/home/sophie/anaconda3/lib/python3.5/site-packages/ipykernel/__main__.py:21: VisibleDeprecationWarning: boolean index did not match indexed array along dimension 0; dimension is 1236 but corresponding boolean dimension is 1235\n",
      "/home/sophie/anaconda3/lib/python3.5/site-packages/ipykernel/__main__.py:22: VisibleDeprecationWarning: boolean index did not match indexed array along dimension 0; dimension is 1236 but corresponding boolean dimension is 1235\n",
      "/home/sophie/anaconda3/lib/python3.5/site-packages/ipykernel/__main__.py:18: VisibleDeprecationWarning: boolean index did not match indexed array along dimension 0; dimension is 1236 but corresponding boolean dimension is 1235\n",
      "/home/sophie/anaconda3/lib/python3.5/site-packages/ipykernel/__main__.py:19: VisibleDeprecationWarning: boolean index did not match indexed array along dimension 0; dimension is 1236 but corresponding boolean dimension is 1235\n"
     ]
    },
    {
     "name": "stdout",
     "output_type": "stream",
     "text": [
      "run152\n"
     ]
    },
    {
     "name": "stderr",
     "output_type": "stream",
     "text": [
      "/home/sophie/anaconda3/lib/python3.5/site-packages/ipykernel/__main__.py:21: VisibleDeprecationWarning: boolean index did not match indexed array along dimension 0; dimension is 1518 but corresponding boolean dimension is 1517\n",
      "/home/sophie/anaconda3/lib/python3.5/site-packages/ipykernel/__main__.py:22: VisibleDeprecationWarning: boolean index did not match indexed array along dimension 0; dimension is 1518 but corresponding boolean dimension is 1517\n",
      "/home/sophie/anaconda3/lib/python3.5/site-packages/ipykernel/__main__.py:18: VisibleDeprecationWarning: boolean index did not match indexed array along dimension 0; dimension is 1518 but corresponding boolean dimension is 1517\n",
      "/home/sophie/anaconda3/lib/python3.5/site-packages/ipykernel/__main__.py:19: VisibleDeprecationWarning: boolean index did not match indexed array along dimension 0; dimension is 1518 but corresponding boolean dimension is 1517\n"
     ]
    },
    {
     "name": "stdout",
     "output_type": "stream",
     "text": [
      "run153\n"
     ]
    },
    {
     "name": "stderr",
     "output_type": "stream",
     "text": [
      "/home/sophie/anaconda3/lib/python3.5/site-packages/ipykernel/__main__.py:21: VisibleDeprecationWarning: boolean index did not match indexed array along dimension 0; dimension is 1520 but corresponding boolean dimension is 1519\n",
      "/home/sophie/anaconda3/lib/python3.5/site-packages/ipykernel/__main__.py:22: VisibleDeprecationWarning: boolean index did not match indexed array along dimension 0; dimension is 1520 but corresponding boolean dimension is 1519\n",
      "/home/sophie/anaconda3/lib/python3.5/site-packages/ipykernel/__main__.py:18: VisibleDeprecationWarning: boolean index did not match indexed array along dimension 0; dimension is 1520 but corresponding boolean dimension is 1519\n",
      "/home/sophie/anaconda3/lib/python3.5/site-packages/ipykernel/__main__.py:19: VisibleDeprecationWarning: boolean index did not match indexed array along dimension 0; dimension is 1520 but corresponding boolean dimension is 1519\n"
     ]
    },
    {
     "name": "stdout",
     "output_type": "stream",
     "text": [
      "run154\n",
      "run156\n"
     ]
    },
    {
     "name": "stderr",
     "output_type": "stream",
     "text": [
      "/home/sophie/anaconda3/lib/python3.5/site-packages/ipykernel/__main__.py:21: VisibleDeprecationWarning: boolean index did not match indexed array along dimension 0; dimension is 1588 but corresponding boolean dimension is 1587\n",
      "/home/sophie/anaconda3/lib/python3.5/site-packages/ipykernel/__main__.py:22: VisibleDeprecationWarning: boolean index did not match indexed array along dimension 0; dimension is 1588 but corresponding boolean dimension is 1587\n",
      "/home/sophie/anaconda3/lib/python3.5/site-packages/ipykernel/__main__.py:18: VisibleDeprecationWarning: boolean index did not match indexed array along dimension 0; dimension is 1588 but corresponding boolean dimension is 1587\n",
      "/home/sophie/anaconda3/lib/python3.5/site-packages/ipykernel/__main__.py:19: VisibleDeprecationWarning: boolean index did not match indexed array along dimension 0; dimension is 1588 but corresponding boolean dimension is 1587\n"
     ]
    },
    {
     "name": "stdout",
     "output_type": "stream",
     "text": [
      "run157\n"
     ]
    },
    {
     "name": "stderr",
     "output_type": "stream",
     "text": [
      "/home/sophie/anaconda3/lib/python3.5/site-packages/ipykernel/__main__.py:21: VisibleDeprecationWarning: boolean index did not match indexed array along dimension 0; dimension is 1503 but corresponding boolean dimension is 1502\n",
      "/home/sophie/anaconda3/lib/python3.5/site-packages/ipykernel/__main__.py:22: VisibleDeprecationWarning: boolean index did not match indexed array along dimension 0; dimension is 1503 but corresponding boolean dimension is 1502\n",
      "/home/sophie/anaconda3/lib/python3.5/site-packages/ipykernel/__main__.py:18: VisibleDeprecationWarning: boolean index did not match indexed array along dimension 0; dimension is 1503 but corresponding boolean dimension is 1502\n",
      "/home/sophie/anaconda3/lib/python3.5/site-packages/ipykernel/__main__.py:19: VisibleDeprecationWarning: boolean index did not match indexed array along dimension 0; dimension is 1503 but corresponding boolean dimension is 1502\n"
     ]
    },
    {
     "name": "stdout",
     "output_type": "stream",
     "text": [
      "run158\n",
      "run159\n",
      "run16\n",
      "run160\n",
      "run161\n",
      "run162\n"
     ]
    },
    {
     "name": "stderr",
     "output_type": "stream",
     "text": [
      "/home/sophie/anaconda3/lib/python3.5/site-packages/ipykernel/__main__.py:21: VisibleDeprecationWarning: boolean index did not match indexed array along dimension 0; dimension is 1344 but corresponding boolean dimension is 1343\n",
      "/home/sophie/anaconda3/lib/python3.5/site-packages/ipykernel/__main__.py:22: VisibleDeprecationWarning: boolean index did not match indexed array along dimension 0; dimension is 1344 but corresponding boolean dimension is 1343\n",
      "/home/sophie/anaconda3/lib/python3.5/site-packages/ipykernel/__main__.py:18: VisibleDeprecationWarning: boolean index did not match indexed array along dimension 0; dimension is 1344 but corresponding boolean dimension is 1343\n",
      "/home/sophie/anaconda3/lib/python3.5/site-packages/ipykernel/__main__.py:19: VisibleDeprecationWarning: boolean index did not match indexed array along dimension 0; dimension is 1344 but corresponding boolean dimension is 1343\n"
     ]
    },
    {
     "name": "stdout",
     "output_type": "stream",
     "text": [
      "run163\n"
     ]
    },
    {
     "name": "stderr",
     "output_type": "stream",
     "text": [
      "/home/sophie/anaconda3/lib/python3.5/site-packages/ipykernel/__main__.py:21: VisibleDeprecationWarning: boolean index did not match indexed array along dimension 0; dimension is 1532 but corresponding boolean dimension is 1531\n",
      "/home/sophie/anaconda3/lib/python3.5/site-packages/ipykernel/__main__.py:22: VisibleDeprecationWarning: boolean index did not match indexed array along dimension 0; dimension is 1532 but corresponding boolean dimension is 1531\n",
      "/home/sophie/anaconda3/lib/python3.5/site-packages/ipykernel/__main__.py:18: VisibleDeprecationWarning: boolean index did not match indexed array along dimension 0; dimension is 1532 but corresponding boolean dimension is 1531\n",
      "/home/sophie/anaconda3/lib/python3.5/site-packages/ipykernel/__main__.py:19: VisibleDeprecationWarning: boolean index did not match indexed array along dimension 0; dimension is 1532 but corresponding boolean dimension is 1531\n"
     ]
    },
    {
     "name": "stdout",
     "output_type": "stream",
     "text": [
      "run164\n",
      "run165\n",
      "run166\n"
     ]
    },
    {
     "name": "stderr",
     "output_type": "stream",
     "text": [
      "/home/sophie/anaconda3/lib/python3.5/site-packages/ipykernel/__main__.py:21: VisibleDeprecationWarning: boolean index did not match indexed array along dimension 0; dimension is 1512 but corresponding boolean dimension is 1511\n",
      "/home/sophie/anaconda3/lib/python3.5/site-packages/ipykernel/__main__.py:22: VisibleDeprecationWarning: boolean index did not match indexed array along dimension 0; dimension is 1512 but corresponding boolean dimension is 1511\n",
      "/home/sophie/anaconda3/lib/python3.5/site-packages/ipykernel/__main__.py:18: VisibleDeprecationWarning: boolean index did not match indexed array along dimension 0; dimension is 1512 but corresponding boolean dimension is 1511\n",
      "/home/sophie/anaconda3/lib/python3.5/site-packages/ipykernel/__main__.py:19: VisibleDeprecationWarning: boolean index did not match indexed array along dimension 0; dimension is 1512 but corresponding boolean dimension is 1511\n"
     ]
    },
    {
     "name": "stdout",
     "output_type": "stream",
     "text": [
      "run167\n"
     ]
    },
    {
     "name": "stderr",
     "output_type": "stream",
     "text": [
      "/home/sophie/anaconda3/lib/python3.5/site-packages/ipykernel/__main__.py:21: VisibleDeprecationWarning: boolean index did not match indexed array along dimension 0; dimension is 1496 but corresponding boolean dimension is 1495\n",
      "/home/sophie/anaconda3/lib/python3.5/site-packages/ipykernel/__main__.py:22: VisibleDeprecationWarning: boolean index did not match indexed array along dimension 0; dimension is 1496 but corresponding boolean dimension is 1495\n",
      "/home/sophie/anaconda3/lib/python3.5/site-packages/ipykernel/__main__.py:18: VisibleDeprecationWarning: boolean index did not match indexed array along dimension 0; dimension is 1496 but corresponding boolean dimension is 1495\n",
      "/home/sophie/anaconda3/lib/python3.5/site-packages/ipykernel/__main__.py:19: VisibleDeprecationWarning: boolean index did not match indexed array along dimension 0; dimension is 1496 but corresponding boolean dimension is 1495\n"
     ]
    },
    {
     "name": "stdout",
     "output_type": "stream",
     "text": [
      "run168\n"
     ]
    },
    {
     "name": "stderr",
     "output_type": "stream",
     "text": [
      "/home/sophie/anaconda3/lib/python3.5/site-packages/ipykernel/__main__.py:21: VisibleDeprecationWarning: boolean index did not match indexed array along dimension 0; dimension is 1420 but corresponding boolean dimension is 1419\n",
      "/home/sophie/anaconda3/lib/python3.5/site-packages/ipykernel/__main__.py:22: VisibleDeprecationWarning: boolean index did not match indexed array along dimension 0; dimension is 1420 but corresponding boolean dimension is 1419\n",
      "/home/sophie/anaconda3/lib/python3.5/site-packages/ipykernel/__main__.py:18: VisibleDeprecationWarning: boolean index did not match indexed array along dimension 0; dimension is 1420 but corresponding boolean dimension is 1419\n",
      "/home/sophie/anaconda3/lib/python3.5/site-packages/ipykernel/__main__.py:19: VisibleDeprecationWarning: boolean index did not match indexed array along dimension 0; dimension is 1420 but corresponding boolean dimension is 1419\n"
     ]
    },
    {
     "name": "stdout",
     "output_type": "stream",
     "text": [
      "run169\n",
      "run17\n",
      "run170\n",
      "run171\n",
      "run172\n",
      "run173\n",
      "run175\n"
     ]
    },
    {
     "name": "stderr",
     "output_type": "stream",
     "text": [
      "/home/sophie/anaconda3/lib/python3.5/site-packages/ipykernel/__main__.py:21: VisibleDeprecationWarning: boolean index did not match indexed array along dimension 0; dimension is 1585 but corresponding boolean dimension is 1584\n",
      "/home/sophie/anaconda3/lib/python3.5/site-packages/ipykernel/__main__.py:22: VisibleDeprecationWarning: boolean index did not match indexed array along dimension 0; dimension is 1585 but corresponding boolean dimension is 1584\n",
      "/home/sophie/anaconda3/lib/python3.5/site-packages/ipykernel/__main__.py:18: VisibleDeprecationWarning: boolean index did not match indexed array along dimension 0; dimension is 1585 but corresponding boolean dimension is 1584\n",
      "/home/sophie/anaconda3/lib/python3.5/site-packages/ipykernel/__main__.py:19: VisibleDeprecationWarning: boolean index did not match indexed array along dimension 0; dimension is 1585 but corresponding boolean dimension is 1584\n"
     ]
    },
    {
     "name": "stdout",
     "output_type": "stream",
     "text": [
      "run176\n"
     ]
    },
    {
     "name": "stderr",
     "output_type": "stream",
     "text": [
      "/home/sophie/anaconda3/lib/python3.5/site-packages/ipykernel/__main__.py:21: VisibleDeprecationWarning: boolean index did not match indexed array along dimension 0; dimension is 1510 but corresponding boolean dimension is 1509\n",
      "/home/sophie/anaconda3/lib/python3.5/site-packages/ipykernel/__main__.py:22: VisibleDeprecationWarning: boolean index did not match indexed array along dimension 0; dimension is 1510 but corresponding boolean dimension is 1509\n",
      "/home/sophie/anaconda3/lib/python3.5/site-packages/ipykernel/__main__.py:18: VisibleDeprecationWarning: boolean index did not match indexed array along dimension 0; dimension is 1510 but corresponding boolean dimension is 1509\n",
      "/home/sophie/anaconda3/lib/python3.5/site-packages/ipykernel/__main__.py:19: VisibleDeprecationWarning: boolean index did not match indexed array along dimension 0; dimension is 1510 but corresponding boolean dimension is 1509\n"
     ]
    },
    {
     "name": "stdout",
     "output_type": "stream",
     "text": [
      "run177\n",
      "run178\n",
      "run179\n",
      "run18\n"
     ]
    },
    {
     "name": "stderr",
     "output_type": "stream",
     "text": [
      "/home/sophie/anaconda3/lib/python3.5/site-packages/ipykernel/__main__.py:21: VisibleDeprecationWarning: boolean index did not match indexed array along dimension 0; dimension is 1378 but corresponding boolean dimension is 1377\n",
      "/home/sophie/anaconda3/lib/python3.5/site-packages/ipykernel/__main__.py:22: VisibleDeprecationWarning: boolean index did not match indexed array along dimension 0; dimension is 1378 but corresponding boolean dimension is 1377\n",
      "/home/sophie/anaconda3/lib/python3.5/site-packages/ipykernel/__main__.py:18: VisibleDeprecationWarning: boolean index did not match indexed array along dimension 0; dimension is 1378 but corresponding boolean dimension is 1377\n",
      "/home/sophie/anaconda3/lib/python3.5/site-packages/ipykernel/__main__.py:19: VisibleDeprecationWarning: boolean index did not match indexed array along dimension 0; dimension is 1378 but corresponding boolean dimension is 1377\n"
     ]
    },
    {
     "name": "stdout",
     "output_type": "stream",
     "text": [
      "run180\n"
     ]
    },
    {
     "name": "stderr",
     "output_type": "stream",
     "text": [
      "/home/sophie/anaconda3/lib/python3.5/site-packages/ipykernel/__main__.py:21: VisibleDeprecationWarning: boolean index did not match indexed array along dimension 0; dimension is 1481 but corresponding boolean dimension is 1480\n",
      "/home/sophie/anaconda3/lib/python3.5/site-packages/ipykernel/__main__.py:22: VisibleDeprecationWarning: boolean index did not match indexed array along dimension 0; dimension is 1481 but corresponding boolean dimension is 1480\n",
      "/home/sophie/anaconda3/lib/python3.5/site-packages/ipykernel/__main__.py:18: VisibleDeprecationWarning: boolean index did not match indexed array along dimension 0; dimension is 1481 but corresponding boolean dimension is 1480\n",
      "/home/sophie/anaconda3/lib/python3.5/site-packages/ipykernel/__main__.py:19: VisibleDeprecationWarning: boolean index did not match indexed array along dimension 0; dimension is 1481 but corresponding boolean dimension is 1480\n"
     ]
    },
    {
     "name": "stdout",
     "output_type": "stream",
     "text": [
      "run181\n"
     ]
    },
    {
     "name": "stderr",
     "output_type": "stream",
     "text": [
      "/home/sophie/anaconda3/lib/python3.5/site-packages/ipykernel/__main__.py:21: VisibleDeprecationWarning: boolean index did not match indexed array along dimension 0; dimension is 1364 but corresponding boolean dimension is 1363\n",
      "/home/sophie/anaconda3/lib/python3.5/site-packages/ipykernel/__main__.py:22: VisibleDeprecationWarning: boolean index did not match indexed array along dimension 0; dimension is 1364 but corresponding boolean dimension is 1363\n",
      "/home/sophie/anaconda3/lib/python3.5/site-packages/ipykernel/__main__.py:18: VisibleDeprecationWarning: boolean index did not match indexed array along dimension 0; dimension is 1364 but corresponding boolean dimension is 1363\n",
      "/home/sophie/anaconda3/lib/python3.5/site-packages/ipykernel/__main__.py:19: VisibleDeprecationWarning: boolean index did not match indexed array along dimension 0; dimension is 1364 but corresponding boolean dimension is 1363\n"
     ]
    },
    {
     "name": "stdout",
     "output_type": "stream",
     "text": [
      "run182\n",
      "run183\n"
     ]
    },
    {
     "name": "stderr",
     "output_type": "stream",
     "text": [
      "/home/sophie/anaconda3/lib/python3.5/site-packages/ipykernel/__main__.py:21: VisibleDeprecationWarning: boolean index did not match indexed array along dimension 0; dimension is 1264 but corresponding boolean dimension is 1263\n",
      "/home/sophie/anaconda3/lib/python3.5/site-packages/ipykernel/__main__.py:22: VisibleDeprecationWarning: boolean index did not match indexed array along dimension 0; dimension is 1264 but corresponding boolean dimension is 1263\n",
      "/home/sophie/anaconda3/lib/python3.5/site-packages/ipykernel/__main__.py:18: VisibleDeprecationWarning: boolean index did not match indexed array along dimension 0; dimension is 1264 but corresponding boolean dimension is 1263\n",
      "/home/sophie/anaconda3/lib/python3.5/site-packages/ipykernel/__main__.py:19: VisibleDeprecationWarning: boolean index did not match indexed array along dimension 0; dimension is 1264 but corresponding boolean dimension is 1263\n"
     ]
    },
    {
     "name": "stdout",
     "output_type": "stream",
     "text": [
      "run184\n",
      "run185\n"
     ]
    },
    {
     "name": "stderr",
     "output_type": "stream",
     "text": [
      "/home/sophie/anaconda3/lib/python3.5/site-packages/ipykernel/__main__.py:21: VisibleDeprecationWarning: boolean index did not match indexed array along dimension 0; dimension is 1581 but corresponding boolean dimension is 1580\n",
      "/home/sophie/anaconda3/lib/python3.5/site-packages/ipykernel/__main__.py:22: VisibleDeprecationWarning: boolean index did not match indexed array along dimension 0; dimension is 1581 but corresponding boolean dimension is 1580\n",
      "/home/sophie/anaconda3/lib/python3.5/site-packages/ipykernel/__main__.py:18: VisibleDeprecationWarning: boolean index did not match indexed array along dimension 0; dimension is 1581 but corresponding boolean dimension is 1580\n",
      "/home/sophie/anaconda3/lib/python3.5/site-packages/ipykernel/__main__.py:19: VisibleDeprecationWarning: boolean index did not match indexed array along dimension 0; dimension is 1581 but corresponding boolean dimension is 1580\n"
     ]
    },
    {
     "name": "stdout",
     "output_type": "stream",
     "text": [
      "run186\n",
      "run187\n",
      "run188\n"
     ]
    },
    {
     "name": "stderr",
     "output_type": "stream",
     "text": [
      "/home/sophie/anaconda3/lib/python3.5/site-packages/ipykernel/__main__.py:21: VisibleDeprecationWarning: boolean index did not match indexed array along dimension 0; dimension is 1493 but corresponding boolean dimension is 1492\n",
      "/home/sophie/anaconda3/lib/python3.5/site-packages/ipykernel/__main__.py:22: VisibleDeprecationWarning: boolean index did not match indexed array along dimension 0; dimension is 1493 but corresponding boolean dimension is 1492\n",
      "/home/sophie/anaconda3/lib/python3.5/site-packages/ipykernel/__main__.py:18: VisibleDeprecationWarning: boolean index did not match indexed array along dimension 0; dimension is 1493 but corresponding boolean dimension is 1492\n",
      "/home/sophie/anaconda3/lib/python3.5/site-packages/ipykernel/__main__.py:19: VisibleDeprecationWarning: boolean index did not match indexed array along dimension 0; dimension is 1493 but corresponding boolean dimension is 1492\n"
     ]
    },
    {
     "name": "stdout",
     "output_type": "stream",
     "text": [
      "run189\n",
      "run19\n",
      "run190\n",
      "run191\n",
      "run192\n"
     ]
    },
    {
     "name": "stderr",
     "output_type": "stream",
     "text": [
      "/home/sophie/anaconda3/lib/python3.5/site-packages/ipykernel/__main__.py:21: VisibleDeprecationWarning: boolean index did not match indexed array along dimension 0; dimension is 1353 but corresponding boolean dimension is 1352\n",
      "/home/sophie/anaconda3/lib/python3.5/site-packages/ipykernel/__main__.py:22: VisibleDeprecationWarning: boolean index did not match indexed array along dimension 0; dimension is 1353 but corresponding boolean dimension is 1352\n",
      "/home/sophie/anaconda3/lib/python3.5/site-packages/ipykernel/__main__.py:18: VisibleDeprecationWarning: boolean index did not match indexed array along dimension 0; dimension is 1353 but corresponding boolean dimension is 1352\n",
      "/home/sophie/anaconda3/lib/python3.5/site-packages/ipykernel/__main__.py:19: VisibleDeprecationWarning: boolean index did not match indexed array along dimension 0; dimension is 1353 but corresponding boolean dimension is 1352\n"
     ]
    },
    {
     "name": "stdout",
     "output_type": "stream",
     "text": [
      "run193\n",
      "run194\n"
     ]
    },
    {
     "name": "stderr",
     "output_type": "stream",
     "text": [
      "/home/sophie/anaconda3/lib/python3.5/site-packages/ipykernel/__main__.py:21: VisibleDeprecationWarning: boolean index did not match indexed array along dimension 0; dimension is 1533 but corresponding boolean dimension is 1532\n",
      "/home/sophie/anaconda3/lib/python3.5/site-packages/ipykernel/__main__.py:22: VisibleDeprecationWarning: boolean index did not match indexed array along dimension 0; dimension is 1533 but corresponding boolean dimension is 1532\n",
      "/home/sophie/anaconda3/lib/python3.5/site-packages/ipykernel/__main__.py:18: VisibleDeprecationWarning: boolean index did not match indexed array along dimension 0; dimension is 1533 but corresponding boolean dimension is 1532\n",
      "/home/sophie/anaconda3/lib/python3.5/site-packages/ipykernel/__main__.py:19: VisibleDeprecationWarning: boolean index did not match indexed array along dimension 0; dimension is 1533 but corresponding boolean dimension is 1532\n"
     ]
    },
    {
     "name": "stdout",
     "output_type": "stream",
     "text": [
      "run195\n",
      "run196\n",
      "run197\n",
      "run198\n",
      "run199\n",
      "run2\n",
      "run20\n"
     ]
    },
    {
     "name": "stderr",
     "output_type": "stream",
     "text": [
      "/home/sophie/anaconda3/lib/python3.5/site-packages/ipykernel/__main__.py:21: VisibleDeprecationWarning: boolean index did not match indexed array along dimension 0; dimension is 1460 but corresponding boolean dimension is 1459\n",
      "/home/sophie/anaconda3/lib/python3.5/site-packages/ipykernel/__main__.py:22: VisibleDeprecationWarning: boolean index did not match indexed array along dimension 0; dimension is 1460 but corresponding boolean dimension is 1459\n",
      "/home/sophie/anaconda3/lib/python3.5/site-packages/ipykernel/__main__.py:18: VisibleDeprecationWarning: boolean index did not match indexed array along dimension 0; dimension is 1460 but corresponding boolean dimension is 1459\n",
      "/home/sophie/anaconda3/lib/python3.5/site-packages/ipykernel/__main__.py:19: VisibleDeprecationWarning: boolean index did not match indexed array along dimension 0; dimension is 1460 but corresponding boolean dimension is 1459\n"
     ]
    },
    {
     "name": "stdout",
     "output_type": "stream",
     "text": [
      "run200\n",
      "run21\n"
     ]
    },
    {
     "name": "stderr",
     "output_type": "stream",
     "text": [
      "/home/sophie/anaconda3/lib/python3.5/site-packages/ipykernel/__main__.py:21: VisibleDeprecationWarning: boolean index did not match indexed array along dimension 0; dimension is 1456 but corresponding boolean dimension is 1455\n",
      "/home/sophie/anaconda3/lib/python3.5/site-packages/ipykernel/__main__.py:22: VisibleDeprecationWarning: boolean index did not match indexed array along dimension 0; dimension is 1456 but corresponding boolean dimension is 1455\n",
      "/home/sophie/anaconda3/lib/python3.5/site-packages/ipykernel/__main__.py:18: VisibleDeprecationWarning: boolean index did not match indexed array along dimension 0; dimension is 1456 but corresponding boolean dimension is 1455\n",
      "/home/sophie/anaconda3/lib/python3.5/site-packages/ipykernel/__main__.py:19: VisibleDeprecationWarning: boolean index did not match indexed array along dimension 0; dimension is 1456 but corresponding boolean dimension is 1455\n"
     ]
    },
    {
     "name": "stdout",
     "output_type": "stream",
     "text": [
      "run22\n",
      "run23\n",
      "run24\n"
     ]
    },
    {
     "name": "stderr",
     "output_type": "stream",
     "text": [
      "/home/sophie/anaconda3/lib/python3.5/site-packages/ipykernel/__main__.py:21: VisibleDeprecationWarning: boolean index did not match indexed array along dimension 0; dimension is 1425 but corresponding boolean dimension is 1424\n",
      "/home/sophie/anaconda3/lib/python3.5/site-packages/ipykernel/__main__.py:22: VisibleDeprecationWarning: boolean index did not match indexed array along dimension 0; dimension is 1425 but corresponding boolean dimension is 1424\n",
      "/home/sophie/anaconda3/lib/python3.5/site-packages/ipykernel/__main__.py:18: VisibleDeprecationWarning: boolean index did not match indexed array along dimension 0; dimension is 1425 but corresponding boolean dimension is 1424\n",
      "/home/sophie/anaconda3/lib/python3.5/site-packages/ipykernel/__main__.py:19: VisibleDeprecationWarning: boolean index did not match indexed array along dimension 0; dimension is 1425 but corresponding boolean dimension is 1424\n"
     ]
    },
    {
     "name": "stdout",
     "output_type": "stream",
     "text": [
      "run25\n",
      "run26\n"
     ]
    },
    {
     "name": "stderr",
     "output_type": "stream",
     "text": [
      "/home/sophie/anaconda3/lib/python3.5/site-packages/ipykernel/__main__.py:21: VisibleDeprecationWarning: boolean index did not match indexed array along dimension 0; dimension is 1437 but corresponding boolean dimension is 1436\n",
      "/home/sophie/anaconda3/lib/python3.5/site-packages/ipykernel/__main__.py:22: VisibleDeprecationWarning: boolean index did not match indexed array along dimension 0; dimension is 1437 but corresponding boolean dimension is 1436\n",
      "/home/sophie/anaconda3/lib/python3.5/site-packages/ipykernel/__main__.py:18: VisibleDeprecationWarning: boolean index did not match indexed array along dimension 0; dimension is 1437 but corresponding boolean dimension is 1436\n",
      "/home/sophie/anaconda3/lib/python3.5/site-packages/ipykernel/__main__.py:19: VisibleDeprecationWarning: boolean index did not match indexed array along dimension 0; dimension is 1437 but corresponding boolean dimension is 1436\n"
     ]
    },
    {
     "name": "stdout",
     "output_type": "stream",
     "text": [
      "run27\n"
     ]
    }
   ],
   "source": [
    "os.chdir (\"/media/sophie/Sophie/Resultats_simulations/20170507/result/metaphase0/\")\n",
    "list_run = os.listdir()\n",
    "tot_count = [0,0,0,0,0,0]\n",
    "for run in list_run : \n",
    "    print (run)\n",
    "    \n",
    "    solid  = open(run+\"/solid.txt\")\n",
    "    data_solid = pd.read_table(solid, sep='\\t', header=0, index_col=False, lineterminator='\\n')\n",
    "    solid.close()\n",
    "\n",
    "    ktmt1  = open(run+\"/couple:KTMT.txt\")\n",
    "    ktmt2  = open(run+\"/couple:KTMT2.txt\")\n",
    "\n",
    "    data_ktmt1 = pd.read_table(ktmt1, sep='\\t', header=0, index_col=False, lineterminator='\\n')\n",
    "    data_ktmt2 = pd.read_table(ktmt2, sep='\\t', header=0, index_col=False, lineterminator='\\n')\n",
    "\n",
    "    debut_oscillation = start_oscillation(data_ktmt1,data_ktmt2)\n",
    "    fin_oscillation = end_oscillation(data_solid)\n",
    "\n",
    "\n",
    "\n",
    "    t0=debut_oscillation\n",
    "    t1=fin_oscillation\n",
    "\n",
    "    data_solid2 = data_solid[data_solid[\"time\"]>t0]\n",
    "    data_solid2 = data_solid2[data_solid2[\"time\"]<t1]\n",
    "    coherence = get_coherence(data_solid2)\n",
    "\n",
    "    unique, counts = np.unique(coherence, return_counts=True)\n",
    "    for i in range(0, len(counts)):\n",
    "        tot_count[i] = tot_count[i] + counts[i]\n",
    "    \n",
    "dict(zip(unique, tot_count))\n",
    "name = [\"N-N\", \"N-P\", \"N-AP\", \"AP-P\", \"P-P\", \"AP-AP\"]\n",
    "plt.subplots(figsize=(5,5))\n",
    "plt.pie(tot_count, startangle=90,autopct='%1.1f%%', shadow=False, labels=name)\n",
    "#plt.show()\n",
    "plt.savefig(\"coherence.png\")\n",
    "    \n"
   ]
  },
  {
   "cell_type": "code",
   "execution_count": 23,
   "metadata": {
    "collapsed": false
   },
   "outputs": [
    {
     "data": {
      "text/plain": [
       "[406, 1724, 1581, 7985, 1575, 1166]"
      ]
     },
     "execution_count": 23,
     "metadata": {},
     "output_type": "execute_result"
    }
   ],
   "source": [
    "tot_count"
   ]
  },
  {
   "cell_type": "code",
   "execution_count": null,
   "metadata": {
    "collapsed": true
   },
   "outputs": [],
   "source": [
    "name = [\"AP-P\", \"P-P\"]\n",
    "tot = [7985,1575]"
   ]
  },
  {
   "cell_type": "code",
   "execution_count": null,
   "metadata": {
    "collapsed": true
   },
   "outputs": [],
   "source": []
  }
 ],
 "metadata": {
  "anaconda-cloud": {},
  "kernelspec": {
   "display_name": "Python [conda root]",
   "language": "python",
   "name": "conda-root-py"
  },
  "language_info": {
   "codemirror_mode": {
    "name": "ipython",
    "version": 3
   },
   "file_extension": ".py",
   "mimetype": "text/x-python",
   "name": "python",
   "nbconvert_exporter": "python",
   "pygments_lexer": "ipython3",
   "version": "3.5.2"
  }
 },
 "nbformat": 4,
 "nbformat_minor": 1
}
