{
 "cells": [
  {
   "cell_type": "code",
   "execution_count": 94,
   "metadata": {
    "collapsed": true
   },
   "outputs": [],
   "source": [
    "#Changer le repertoire courant\n",
    "\n",
    "import os\n",
    "os.chdir(\"/home/sophie/Documents/Resultats_simulations/SimulationSimonSPAM/ajout/\")"
   ]
  },
  {
   "cell_type": "code",
   "execution_count": null,
   "metadata": {
    "collapsed": true
   },
   "outputs": [],
   "source": []
  },
  {
   "cell_type": "code",
   "execution_count": 95,
   "metadata": {
    "collapsed": false
   },
   "outputs": [],
   "source": [
    "\n",
    "dir = os.listdir()\n",
    "for DIRECTORY in dir :\n",
    "    list_f = os.listdir(DIRECTORY)\n",
    "\n",
    "    for file in list_f:\n",
    "\n",
    "        if \"solid\" in file:\n",
    "            if \".png\" not in file:\n",
    "                f = open(DIRECTORY+\"/\"+file,'r')\n",
    "\n",
    "                lines = f.readlines()\n",
    "\n",
    "\n",
    "                cpt = 0\n",
    "                tmp = 0\n",
    "                sentance =\"\"\n",
    "                if \"time\" in lines[0] : \n",
    "                    for word in lines[0].split() : \n",
    "                        if cpt == 0:\n",
    "                            cpt = cpt +1\n",
    "                        else: \n",
    "                            if tmp ==0 :\n",
    "                                word = word +\"_\"+str(cpt)\n",
    "                                tmp = 1\n",
    "                            else:\n",
    "                                word = word +\"_\"+str(cpt)\n",
    "                                tmp = 0\n",
    "                                cpt = cpt+1\n",
    "                        sentance = sentance + \"\\t\" + word \n",
    "                    sentance = sentance + \"\\n\"\n",
    "                    lines[0] = sentance\n",
    "\n",
    "\n",
    "                    f.close()\n",
    "\n",
    "                    f = open(DIRECTORY+\"/\"+file,'w')\n",
    "                    f.writelines(lines)\n",
    "                    f.close()\n"
   ]
  },
  {
   "cell_type": "code",
   "execution_count": null,
   "metadata": {
    "collapsed": true
   },
   "outputs": [],
   "source": []
  },
  {
   "cell_type": "code",
   "execution_count": 93,
   "metadata": {
    "collapsed": false
   },
   "outputs": [],
   "source": [
    "# reparation erreur\n",
    "dir = os.listdir()\n",
    "for DIRECTORY in dir :\n",
    "    list_f = os.listdir(DIRECTORY)\n",
    "\n",
    "    for file in list_f:\n",
    "\n",
    "        if \"solid_\" in file:\n",
    "            if \".png\" not in file:\n",
    "                f = open(DIRECTORY+\"/\"+file,'r')\n",
    "                l=list()\n",
    "                lines = f.readlines()\n",
    "                sentance = \"\"\n",
    "\n",
    "                cpt = 0\n",
    "                for i in range (0,13,1):\n",
    "                    if i == 0:\n",
    "                        tmp = lines[i]\n",
    "                        sentance = tmp[1:(len(tmp)-1)]\n",
    "                    else:\n",
    "                        tmp = lines[i]\n",
    "                        sentance =sentance+tmp[0:(len(tmp)-1)]+\"\\t\"\n",
    "                sentance = sentance +\"\\n\"\n",
    "                l.append(sentance)\n",
    "                for i in range(14, 4812, 1):\n",
    "                    l.append(lines[i])\n",
    "\n",
    "                f.close()\n",
    "\n",
    "                f = open(DIRECTORY+\"/\"+file,'w')\n",
    "                for i in range(0,4799,1):\n",
    "                    f.writelines(l[i])\n",
    "                f.close()              \n"
   ]
  }
 ],
 "metadata": {
  "anaconda-cloud": {},
  "kernelspec": {
   "display_name": "Python 3",
   "language": "python",
   "name": "python3"
  },
  "language_info": {
   "codemirror_mode": {
    "name": "ipython",
    "version": 3
   },
   "file_extension": ".py",
   "mimetype": "text/x-python",
   "name": "python",
   "nbconvert_exporter": "python",
   "pygments_lexer": "ipython3",
   "version": "3.6.0"
  }
 },
 "nbformat": 4,
 "nbformat_minor": 1
}
