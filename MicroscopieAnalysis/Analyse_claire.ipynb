{
 "cells": [
  {
   "cell_type": "code",
   "execution_count": 1,
   "metadata": {
    "collapsed": false
   },
   "outputs": [],
   "source": [
    "import os\n",
    "import re\n",
    "import csv\n",
    "import matplotlib.pyplot as plt\n",
    "from scipy.stats import norm\n",
    "import numpy as np\n",
    "from scipy.stats import gaussian_kde\n",
    "import pandas as pd"
   ]
  },
  {
   "cell_type": "code",
   "execution_count": 6,
   "metadata": {
    "collapsed": true
   },
   "outputs": [],
   "source": [
    "os.chdir(\"E:/Temp\")"
   ]
  },
  {
   "cell_type": "code",
   "execution_count": 7,
   "metadata": {
    "collapsed": false
   },
   "outputs": [],
   "source": [
    "liste_temperature = os.listdir()"
   ]
  },
  {
   "cell_type": "code",
   "execution_count": 19,
   "metadata": {
    "collapsed": false
   },
   "outputs": [],
   "source": [
    "def grep(liste_s,pattern):\n",
    "    list_return=[]\n",
    "    for s in (liste_s):\n",
    "        res = ('\\n'.join(re.findall(r'^.*%s.*?$'%pattern,s,flags=re.M)))\n",
    "        if res != '':\n",
    "            list_return.append(res)            \n",
    "        \n",
    "    return list_return\n",
    "\n",
    "def is_composed(string,pattern):\n",
    "    res = ('\\n'.join(re.findall(r'^.*%s.*?$'%pattern,string,flags=re.M)))\n",
    "    if res != '':\n",
    "        return True\n",
    "    else: \n",
    "        return False"
   ]
  },
  {
   "cell_type": "code",
   "execution_count": 10,
   "metadata": {
    "collapsed": false,
    "scrolled": false
   },
   "outputs": [
    {
     "name": "stdout",
     "output_type": "stream",
     "text": [
      "['102', '849']\n",
      "['18C_102_1', '18C_102_2', '18C_102_3', '18C_102_4', '18C_102_5', '18C_102_6']\n",
      "['18C_849_1', '18C_849_2', '18C_849_3', '18C_849_4', '18C_849_5', '18C_849_6']\n"
     ]
    }
   ],
   "source": [
    "cpt_102=0\n",
    "# Creation d'un dataframe qui contient tous les resultats pour un champ\n",
    "res_champ_102 = pd.DataFrame(columns=[\"temperature\",\\\n",
    "                                   \"numero_champ\",\\\n",
    "                                   \"nb_cellules\",\\\n",
    "                                   \"nb_cellules_mitose\",\\\n",
    "                                   \"%_mitose\",\\\n",
    "                                   \"nb_cellule_lagging\",\\\n",
    "                                   \"%_lagging\",\\\n",
    "                                   \"moyenne_duree_metaphase\",\\\n",
    "                                   \"std_duree_metaphase\",\\\n",
    "                                   \"moyenne_vitesse_metaphase\",\\\n",
    "                                   \"std_vitesse_metaphase\",\\\n",
    "                                   \"moyenne_duree_anaphase\",\\\n",
    "                                   \"std_duree_anaphase\",\\\n",
    "                                   \"moyenne_vitesse_anaphase\",\\\n",
    "                                   \"std_vitesse_anaphase\"])\n",
    "\n",
    "cpt_849=0\n",
    "# Creation d'un dataframe qui contient tous les resultats pour un champ\n",
    "res_champ_849 = pd.DataFrame(columns=[\"temperature\",\\\n",
    "                                   \"numero_champ\",\\\n",
    "                                   \"nb_cellules\",\\\n",
    "                                   \"nb_cellules_mitose\",\\\n",
    "                                   \"%_mitose\",\\\n",
    "                                   \"nb_cellule_lagging\",\\\n",
    "                                   \"%_lagging\",\\\n",
    "                                   \"moyenne_duree_metaphase\",\\\n",
    "                                   \"std_duree_metaphase\",\\\n",
    "                                   \"moyenne_vitesse_metaphase\",\\\n",
    "                                   \"std_vitesse_metaphase\",\\\n",
    "                                   \"moyenne_duree_anaphase\",\\\n",
    "                                   \"std_duree_anaphase\",\\\n",
    "                                   \"moyenne_vitesse_anaphase\",\\\n",
    "                                   \"std_vitesse_anaphase\"])\n",
    "\n",
    "for temperature in (liste_temperature) :\n",
    "  \n",
    "    liste_lignee = os.listdir(temperature)\n",
    "    print(liste_lignee)\n",
    "    for lignee in (liste_lignee) :\n",
    "        liste_champ = os.listdir(temperature+\"/\"+lignee)\n",
    "        print(liste_champ)\n",
    "        for champ in (liste_champ) :          \n",
    "            \n",
    "            BF_Results = pd.read_csv(temperature+\"/\"+lignee+\"/\"+champ+\"/BF_1/BF_Results.csv\")\n",
    "            #with open(temperature+\"/\"+lignee+\"/\"+champ+\"/X0_Y0/BF_Results.csv\",\"r\") as file :\n",
    "            #BF_Results = csv.DictReader(file, delimiter=',')\n",
    "            list_intensite = list()\n",
    "            list_intensite = BF_Results[\"Mean\"]\n",
    "            #print(intensite)\n",
    "            #plt.hist(intensite,50, normed=1, facecolor='b')\n",
    "            #float : conversion d'un caractère en nombre\n",
    "\n",
    "            \n",
    "            \"\"\" Elimination des cellules qui n'en sont pas. \"\"\"\n",
    "            # methode 0 \n",
    "            mu = np.mean(list_intensite)\n",
    "            std = np.std(list_intensite)\n",
    "            density = gaussian_kde(list_intensite)\n",
    "            density.covariance_factor = lambda:.25\n",
    "            density._compute_covariance()\n",
    "            xmin = min(list_intensite)\n",
    "            xmax = max(list_intensite)\n",
    "            x = np.linspace(xmin, xmax, len(list_intensite))\n",
    "            plt.fill_between(x, 0, density(x), alpha=0.5)\n",
    "            tmp=list()\n",
    "            tmp.append(mu-3*std)\n",
    "            tmp.append(mu+3*std)\n",
    "            plt.plot(tmp,np.zeros_like(tmp), 'ro', clip_on=False)\n",
    "            #plt.show()\n",
    "            \n",
    "            BF_Results_final=BF_Results\n",
    "            BF_Results_final= BF_Results_final.loc[BF_Results_final[\"Mean\"]>mu-3*std]\n",
    "            BF_Results_final= BF_Results_final.loc[BF_Results_final[\"Mean\"]<mu+3*std]\n",
    "            \n",
    "            #Recuperation du nombre de cellule en mitose\n",
    "            result_champ_mitose = pd.read_csv(temperature+\"/\"+lignee+\"/\"+champ+\"/BF_1_MITOSIS/Resultats_finaux.csv\", sep=';')\n",
    "            \n",
    "            # Calcul du pourcentage de cellule en mitose\n",
    "            nb_mitose = len(result_champ_mitose)\n",
    "            nb_cellule = len(BF_Results_final)\n",
    "            pourcentage_mitose = nb_mitose/nb_cellule*100\n",
    "            #print (pourcentage_mitose)\n",
    "            \n",
    "            \n",
    "            # Verification des laggings\n",
    "            nb_lagging = 0\n",
    "            if os.path.lexists(temperature+\"/\"+lignee+\"/\"+champ+\"/BF_1_MITOSIS/abnormalCells.txt\"):\n",
    "                lagging_cell = pd.read_table(temperature+\"/\"+lignee+\"/\"+champ+\"/BF_1_MITOSIS/abnormalCells.txt\", header=None)\n",
    "                for i in range (len(lagging_cell )) : \n",
    "                    if is_composed(str(lagging_cell.iloc[i]).split(':')[0], \"Lagging\") : \n",
    "                        nb_lagging = nb_lagging +1\n",
    "\n",
    "            pourcentage_lagging = nb_lagging/nb_cellule*100\n",
    "            \n",
    "            \"\"\" Recuperation des durees et vitesses en metaphase et anaphase \"\"\"\n",
    "            #result_champ_mitose\n",
    "            #vitesse metaphase\n",
    "            res_vitesse_meta = result_champ_mitose[\"vitesse_meta\"][result_champ_mitose[\"vitesse_meta\"]>0]\n",
    "            mean_vitesse_metaphase = np.mean (res_vitesse_meta)\n",
    "            std_vitesse_metaphase = np.std (res_vitesse_meta)\n",
    "            #vitesse anaphase\n",
    "            res_vitesse_ana = result_champ_mitose[\"vitesse_ana\"][result_champ_mitose[\"vitesse_ana\"]>0]\n",
    "            mean_vitesse_anaphase = np.mean (res_vitesse_ana)\n",
    "            std_vitesse_anaphase = np.std (res_vitesse_ana)\n",
    "            \n",
    "            #duree metaphase\n",
    "            res_duree_meta = result_champ_mitose[\"duree_meta\"][result_champ_mitose[\"duree_meta\"]!=0]\n",
    "            mean_duree_metaphase = np.mean (res_duree_meta)\n",
    "            std_duree_metaphase = np.std (res_duree_meta)\n",
    "            #duree anaphase\n",
    "            res_duree_ana = result_champ_mitose[\"duree_ana\"][result_champ_mitose[\"duree_ana\"]!=0]\n",
    "            mean_duree_anaphase = np.mean (res_duree_ana)\n",
    "            std_duree_anaphase = np.std (res_duree_ana)\n",
    "            \n",
    "            \n",
    "            if lignee == \"102\":\n",
    "                res_champ_102.loc[cpt_102] = ({\"temperature\":temperature,\\\n",
    "                                               \"numero_champ\":champ,\\\n",
    "                                               \"nb_cellules\":nb_cellule,\\\n",
    "                                               \"nb_cellules_mitose\":nb_mitose,\\\n",
    "                                               \"%_mitose\":pourcentage_mitose,\\\n",
    "                                               \"nb_cellule_lagging\":nb_lagging,\\\n",
    "                                               \"%_lagging\":pourcentage_lagging,\\\n",
    "                                               \"moyenne_duree_metaphase\":mean_duree_metaphase,\\\n",
    "                                               \"std_duree_metaphase\":std_duree_metaphase,\\\n",
    "                                               \"moyenne_vitesse_metaphase\":mean_vitesse_metaphase,\\\n",
    "                                               \"std_vitesse_metaphase\":std_vitesse_metaphase,\\\n",
    "                                               \"moyenne_duree_anaphase\":mean_duree_anaphase,\\\n",
    "                                               \"std_duree_anaphase\":std_duree_anaphase,\n",
    "                                               \"moyenne_vitesse_anaphase\":mean_vitesse_anaphase,\\\n",
    "                                               \"std_vitesse_anaphase\":std_vitesse_anaphase})\n",
    "                cpt_102=cpt_102+1\n",
    "                \n",
    "            elif lignee == \"849\":\n",
    "                res_champ_849.loc[cpt_849] = ({\"temperature\":temperature,\\\n",
    "                                               \"numero_champ\":champ,\\\n",
    "                                               \"nb_cellules\":nb_cellule,\\\n",
    "                                               \"nb_cellules_mitose\":nb_mitose,\\\n",
    "                                               \"%_mitose\":pourcentage_mitose,\\\n",
    "                                               \"nb_cellule_lagging\":nb_lagging,\\\n",
    "                                               \"%_lagging\":pourcentage_lagging,\\\n",
    "                                               \"moyenne_duree_metaphase\":mean_duree_metaphase,\\\n",
    "                                               \"std_duree_metaphase\":std_duree_metaphase,\\\n",
    "                                               \"moyenne_vitesse_metaphase\":mean_vitesse_metaphase,\\\n",
    "                                               \"std_vitesse_metaphase\":std_vitesse_metaphase,\\\n",
    "                                               \"moyenne_duree_anaphase\":mean_duree_anaphase,\\\n",
    "                                               \"std_duree_anaphase\":std_duree_anaphase,\n",
    "                                               \"moyenne_vitesse_anaphase\":mean_vitesse_anaphase,\\\n",
    "                                               \"std_vitesse_anaphase\":std_vitesse_anaphase})\n",
    "                cpt_849=cpt_849+1\n",
    "                \n",
    "# sauvegarde du fichier\n",
    "res_champ_102.to_csv(\"results_102.csv\", sep=';')\n",
    "res_champ_849.to_csv(\"results_849.csv\", sep=';')"
   ]
  },
  {
   "cell_type": "code",
   "execution_count": null,
   "metadata": {
    "collapsed": false
   },
   "outputs": [],
   "source": []
  },
  {
   "cell_type": "markdown",
   "metadata": {
    "collapsed": true
   },
   "source": [
    "# Creation du fichier de moyenne groupe par temperature"
   ]
  },
  {
   "cell_type": "code",
   "execution_count": null,
   "metadata": {
    "collapsed": false
   },
   "outputs": [],
   "source": []
  },
  {
   "cell_type": "code",
   "execution_count": null,
   "metadata": {
    "collapsed": true
   },
   "outputs": [],
   "source": []
  },
  {
   "cell_type": "code",
   "execution_count": null,
   "metadata": {
    "collapsed": false
   },
   "outputs": [],
   "source": []
  }
 ],
 "metadata": {
  "anaconda-cloud": {},
  "kernelspec": {
   "display_name": "Python [default]",
   "language": "python",
   "name": "python3"
  },
  "language_info": {
   "codemirror_mode": {
    "name": "ipython",
    "version": 3
   },
   "file_extension": ".py",
   "mimetype": "text/x-python",
   "name": "python",
   "nbconvert_exporter": "python",
   "pygments_lexer": "ipython3",
   "version": "3.5.2"
  }
 },
 "nbformat": 4,
 "nbformat_minor": 2
}
