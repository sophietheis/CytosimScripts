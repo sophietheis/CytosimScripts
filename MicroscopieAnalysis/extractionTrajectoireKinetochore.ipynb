{
 "cells": [
  {
   "cell_type": "code",
   "execution_count": 8,
   "metadata": {
    "collapsed": true
   },
   "outputs": [],
   "source": [
    "from os import path\n",
    "from spindle_tracker.io.trackmate import trackmate_peak_import\n",
    "import matplotlib.pyplot as plt\n",
    "import numpy as np\n",
    "import pandas as pd\n",
    "import os\n",
    "import re\n",
    "import csv"
   ]
  },
  {
   "cell_type": "code",
   "execution_count": 33,
   "metadata": {
    "collapsed": true
   },
   "outputs": [],
   "source": [
    "def dist(x1,y1,x2,y2):\n",
    "    return np.sqrt((x1-x2)**2 + (y1-y2)**2)\n",
    "def get_outside_spots(x_base, y_base, xs, ys, radius):\n",
    "    spots_outside_xs = list()\n",
    "    spots_outside_ys = list()\n",
    "    for i in range(0,len(xs)):\n",
    "        if dist(x_base, y_base,xs[i],ys[i]) > radius:\n",
    "            spots_outside_xs.append(xs[i])\n",
    "            spots_outside_ys.append(ys[i])\n",
    "    return spots_outside_xs,spots_outside_ys\n",
    "def change_label(df, index, value):\n",
    "    for j in df.loc[index]:\n",
    "        df.set_value(index,\"phase\", value)\n",
    "def grep(liste_s,pattern):\n",
    "    list_return=[]\n",
    "    for s in (liste_s):\n",
    "        res = ('\\n'.join(re.findall(r'^.*%s.*?$'%pattern,s,flags=re.M)))\n",
    "        if res != '':\n",
    "            list_return.append(res)            \n",
    "        \n",
    "    return list_return\n",
    "\n",
    "def getDotProjectionOnSp(sp1x, sp1y, sp2x, sp2y, dotx, doty):\n",
    "    px = sp2x-sp1x\n",
    "    py = sp2y-sp1y\n",
    "    dAB = px*px + py*py\n",
    "    u = ((dotx - sp1x) * px + (doty - sp1y) * py) / dAB\n",
    "    return pd.concat([sp1x + u * px, sp1y + u * py], axis=1)\n",
    "                    "
   ]
  },
  {
   "cell_type": "code",
   "execution_count": 85,
   "metadata": {
    "collapsed": false
   },
   "outputs": [],
   "source": [
    "list_distance=[]\n",
    "list_distance_paire=[]\n",
    "\n",
    "#dir_lignee = \"/media/sophie/data_hadi_backup/data/microscopy_data/HFR-cen2-gfp-cdc11-gfp/movies/wt\"\n",
    "dir_lignee = \"/home/sophie/Documents/data_hadrien_hfr/klp6\"\n",
    "dirs_jour = os.listdir(dir_lignee)\n",
    "if path.lexists(dir_lignee+'/metadata.json') :\n",
    "    dirs_jour.remove ('metadata.json')\n",
    "for dir_jour in dirs_jour : \n",
    "    dirs_movie = os.listdir(dir_lignee+'/'+dir_jour)\n",
    "    if path.lexists(dir_lignee+'/'+dir_jour+'/metadata.json') :\n",
    "        dirs_movie.remove ('metadata.json')\n",
    "    for dir_movie in dirs_movie : \n",
    "        spotsPath = dir_lignee+\"/\"+dir_jour+\"/\"+dir_movie+'/'+grep(os.listdir(dir_lignee+'/'+dir_jour+'/'+dir_movie), \"xml\")[0]\n",
    "        if path.lexists(spotsPath):\n",
    "            gfpSpots = trackmate_peak_import(spotsPath, False)\n",
    "            csvfile = dir_lignee+\"/\"+dir_jour+\"/\"+dir_movie+'/'+dir_movie+\"_traj.csv\"\n",
    "            with open(csvfile, \"w\", newline='') as myfile:\n",
    "                spamwriter = csv.writer(myfile, delimiter=',')\n",
    "                for x in gfpSpots.index.levels[0]:\n",
    "                    current_frame_kts_pole = gfpSpots.loc[x]\n",
    "                    #print (current_frame_kts_pole)\n",
    "\n",
    "                    # Recuperer les deux points les plus éloignés (pole)\n",
    "                    if len(current_frame_kts_pole)==4:    \n",
    "                        listnb = [0,1,2,3]\n",
    "                        pole1 = 0\n",
    "                        pole2 = 0\n",
    "                        kt1 = 0\n",
    "                        kt2 = 0\n",
    "                        distmax = 0\n",
    "                        for i in range (0, 3) : \n",
    "                            for j in range (1, 4) :\n",
    "                                d = dist (current_frame_kts_pole['x'].iloc[i], current_frame_kts_pole['y'].iloc[i],\n",
    "                                          current_frame_kts_pole['x'].iloc[j], current_frame_kts_pole['y'].iloc[j])\n",
    "                                if (d > distmax):\n",
    "                                    distmax = d\n",
    "                                    pole1 = i\n",
    "                                    pole2 = j\n",
    "\n",
    "                        listnb.remove(pole1)\n",
    "                        listnb.remove(pole2)\n",
    "                        kt1 = listnb[0]\n",
    "                        kt2 = listnb[1]\n",
    "\n",
    "                        # Taille du fuseau \n",
    "                        spindle_size = dist (current_frame_kts_pole['x'].iloc[pole1], current_frame_kts_pole['y'].iloc[pole1],\n",
    "                                             current_frame_kts_pole['x'].iloc[pole2], current_frame_kts_pole['y'].iloc[pole2])\n",
    "\n",
    "                        # Position du centre du fuseau\n",
    "                        spindle_center_x = (current_frame_kts_pole['x'].iloc[pole1] + current_frame_kts_pole['x'].iloc[pole2] )/2\n",
    "                        spindle_center_y = (current_frame_kts_pole['y'].iloc[pole1] + current_frame_kts_pole['y'].iloc[pole2] )/2\n",
    "\n",
    "                        # Calcul des distances des kinetochore par rapport au centre du fuseau\n",
    "                        list_distance.append(dist(spindle_center_x, spindle_center_y, current_frame_kts_pole['x'].iloc[kt1], current_frame_kts_pole['y'].iloc[kt1])/spindle_size)\n",
    "                        list_distance.append(dist(spindle_center_x, spindle_center_y, current_frame_kts_pole['x'].iloc[kt2], current_frame_kts_pole['y'].iloc[kt2])/spindle_size)\n",
    "\n",
    "                        \n",
    "\n",
    "                        \n",
    "                        px = current_frame_kts_pole['x'].iloc[pole2] - current_frame_kts_pole['x'].iloc[pole1]\n",
    "                        py = current_frame_kts_pole['y'].iloc[pole2] - current_frame_kts_pole['y'].iloc[pole1]\n",
    "                        dAB = px*px + py*py\n",
    "                        \n",
    "                        u = ((current_frame_kts_pole['x'].iloc[kt1] - current_frame_kts_pole['x'].iloc[pole1]) * px + (current_frame_kts_pole['y'].iloc[kt1] - current_frame_kts_pole['y'].iloc[pole1]) * py) / dAB\n",
    "                        A=np.concatenate(([current_frame_kts_pole['x'].iloc[pole1] + u * px],[ current_frame_kts_pole['y'].iloc[pole1] + u * py]))\n",
    "                        u = ((current_frame_kts_pole['x'].iloc[kt2] - current_frame_kts_pole['x'].iloc[pole1]) * px + (current_frame_kts_pole['y'].iloc[kt2] - current_frame_kts_pole['y'].iloc[pole1]) * py) / dAB\n",
    "                        B=np.concatenate(([current_frame_kts_pole['x'].iloc[pole1] + u * px],[ current_frame_kts_pole['y'].iloc[pole1] + u * py]))\n",
    "                        \n",
    "                        spamwriter.writerow([np.sqrt(A[0]*A[0]+A[1]*A[1]),np.sqrt(B[0]*B[0]+B[1]*B[1])])\n",
    "                        \n"
   ]
  },
  {
   "cell_type": "code",
   "execution_count": null,
   "metadata": {
    "collapsed": false
   },
   "outputs": [],
   "source": []
  },
  {
   "cell_type": "code",
   "execution_count": null,
   "metadata": {
    "collapsed": false
   },
   "outputs": [],
   "source": []
  },
  {
   "cell_type": "code",
   "execution_count": null,
   "metadata": {
    "collapsed": true
   },
   "outputs": [],
   "source": []
  },
  {
   "cell_type": "code",
   "execution_count": null,
   "metadata": {
    "collapsed": true
   },
   "outputs": [],
   "source": []
  }
 ],
 "metadata": {
  "anaconda-cloud": {},
  "kernelspec": {
   "display_name": "Python [conda root]",
   "language": "python",
   "name": "conda-root-py"
  },
  "language_info": {
   "codemirror_mode": {
    "name": "ipython",
    "version": 3
   },
   "file_extension": ".py",
   "mimetype": "text/x-python",
   "name": "python",
   "nbconvert_exporter": "python",
   "pygments_lexer": "ipython3",
   "version": "3.5.2"
  }
 },
 "nbformat": 4,
 "nbformat_minor": 1
}
